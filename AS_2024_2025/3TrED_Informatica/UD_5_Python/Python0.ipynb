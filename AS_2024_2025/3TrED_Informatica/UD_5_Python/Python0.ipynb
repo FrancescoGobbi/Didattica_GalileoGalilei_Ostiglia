{
 "cells": [
  {
   "cell_type": "markdown",
   "id": "4c64d22e",
   "metadata": {},
   "source": [
    "# Introduzione a Python\n",
    "In questo notebook impareremo le basi della sintassi Python e svolgeremo esercizi pratici."
   ]
  },
  {
   "cell_type": "markdown",
   "id": "48b8ba15",
   "metadata": {},
   "source": [
    "## 1. Primo programma\n",
    "```python\n",
    "print('Ciao, mondo!')\n",
    "```\n",
    "Esegui la cella per vedere l'output."
   ]
  },
  {
   "cell_type": "code",
   "execution_count": null,
   "id": "3acdb619",
   "metadata": {},
   "outputs": [],
   "source": [
    "print('Ciao, mondo!')  # Stampa a schermo la stringa 'Ciao, mondo!'\n",
    "\n",
    "# Questo è un commento a riga singola\n",
    "\n",
    "# Python supporta anche i commenti multilinea\n",
    "\"\"\"\n",
    "Questo è un commento\n",
    "multilinea\n",
    "\"\"\"\n",
    "# Questo commento verrà comunque stampato dal compilatore di Python, per quanto non incida nel codice"
   ]
  },
  {
   "cell_type": "markdown",
   "id": "c24a5943",
   "metadata": {},
   "source": [
    "### Esercizio\n",
    "Prova a stampare una frase diversa usando `print()`."
   ]
  },
  {
   "cell_type": "markdown",
   "id": "dfcbc9ca",
   "metadata": {},
   "source": [
    "## 2. Variabili e assegnazione\n",
    "```python\n",
    "# Assegnazione di variabili\n",
    "a = 5\n",
    "b = 3.14\n",
    "nome = 'Alice'\n",
    "```"
   ]
  },
  {
   "cell_type": "code",
   "execution_count": null,
   "id": "b1e724fe",
   "metadata": {},
   "outputs": [],
   "source": [
    "a = 5  # Assegna il valore 5 alla variabile a\n",
    "b = 3.14  # Assegna il valore 3.14 alla variabile b\n",
    "nome = 'Alice'  # Assegna la stringa 'Alice' alla variabile nome\n",
    "print(a, b, nome)  # Stampa i valori di a, b e nome separati da spazio"
   ]
  },
  {
   "cell_type": "markdown",
   "id": "50f039a7",
   "metadata": {},
   "source": [
    "### Esercizio\n",
    "Crea due variabili numeriche e calcola la loro somma. Stampa il risultato."
   ]
  },
  {
   "cell_type": "markdown",
   "id": "add33a11",
   "metadata": {},
   "source": [
    "## 3. Operazioni aritmetiche\n",
    "```python\n",
    "# Somma, sottrazione, moltiplicazione, divisione\n",
    "x = 10\n",
    "y = 3\n",
    "print(x + y)\n",
    "print(x - y)\n",
    "print(x * y)\n",
    "print(x / y)\n",
    "```"
   ]
  },
  {
   "cell_type": "code",
   "execution_count": null,
   "id": "866c08c2",
   "metadata": {},
   "outputs": [],
   "source": [
    "x = 10  # Assegna 10 alla variabile x\n",
    "y = 3  # Assegna 3 alla variabile y\n",
    "print('Somma:', x + y)  # Calcola e stampa la somma di x e y\n",
    "print('Sottrazione:', x - y)  # Calcola e stampa la differenza di x e y\n",
    "print('Moltiplicazione:', x * y)  # Calcola e stampa il prodotto di x e y\n",
    "print('Divisione:', x / y)  # Calcola e stampa il quoziente di x e y"
   ]
  },
  {
   "cell_type": "markdown",
   "id": "5d83faa9",
   "metadata": {},
   "source": [
    "### Esercizio\n",
    "Calcola il resto della divisione tra due numeri a tua scelta."
   ]
  },
  {
   "cell_type": "markdown",
   "id": "1b867035",
   "metadata": {},
   "source": [
    "## 4. Stringhe e concatenazione\n",
    "```python\n",
    "saluto = 'Ciao'\n",
    "luogo = 'Scuola'\n",
    "print(saluto + ' ' + luogo)\n",
    "```"
   ]
  },
  {
   "cell_type": "code",
   "execution_count": null,
   "id": "cb1d68c2",
   "metadata": {},
   "outputs": [],
   "source": [
    "saluto = 'Ciao'  # Definisce una stringa da salutare\n",
    "luogo = 'Scuola'  # Definisce una stringa per il luogo\n",
    "print(saluto + ' ' + luogo)  # Concatena saluto e luogo con uno spazio e stampa"
   ]
  },
  {
   "cell_type": "markdown",
   "id": "acf00f00",
   "metadata": {},
   "source": [
    "### Esercizio\n",
    "Chiedi all'utente il suo nome e stampa un messaggio di benvenuto."
   ]
  },
  {
   "cell_type": "markdown",
   "id": "02e0e110",
   "metadata": {},
   "source": [
    "## 5. Lettura di input e calcoli\n",
    "```python\n",
    "# Leggere dati dall'utente e calcolare\n",
    "numero1 = float(input('Inserisci il primo numero: '))\n",
    "numero2 = float(input('Inserisci il secondo numero: '))\n",
    "print('Somma:', numero1 + numero2)\n",
    "```"
   ]
  },
  {
   "cell_type": "code",
   "execution_count": null,
   "id": "8e5d8375",
   "metadata": {},
   "outputs": [],
   "source": [
    "numero1 = float(input('Inserisci il primo numero: '))  # Converte l'input in float per il primo numero\n",
    "numero2 = float(input('Inserisci il secondo numero: '))  # Converte l'input in float per il secondo numero\n",
    "print('Somma:', numero1 + numero2)  # Calcola e stampa la somma dei due numeri\n",
    "\n",
    "# numero1 = float(input('Inserisci il primo numero: '))\n",
    "# La riga di codice sopra si ha l'input di un numero\n",
    "# questo perchè input() prende in input una stringa in Python\n",
    "# la funzione int() va pi a fare il cast della stringa ad un numero intero\n",
    "\n",
    "# Quindi in Python si prende in input sempre una stringa, che dovrà poi essere convertito in base alla\n",
    "# necessità di quanto richiesto"
   ]
  },
  {
   "cell_type": "markdown",
   "id": "2360356a",
   "metadata": {},
   "source": [
    "### Esercizio\n",
    "Modifica il programma sopra per calcolare anche la differenza, il prodotto e il quoziente."
   ]
  },
  {
   "cell_type": "markdown",
   "id": "3f100e2a",
   "metadata": {},
   "source": [
    "## 6. Condizionali (`if`)\n",
    "```python\n",
    "# Verificare se un numero è pari o dispari\n",
    "numero = int(input('Inserisci un numero intero: '))\n",
    "if numero % 2 == 0:\n",
    "    print(numero, 'è pari')\n",
    "else:\n",
    "    print(numero, 'è dispari')\n",
    "```"
   ]
  },
  {
   "cell_type": "code",
   "execution_count": null,
   "id": "eea6ce01",
   "metadata": {},
   "outputs": [],
   "source": [
    "numero = int(input('Inserisci un numero intero: '))  # Richiede un numero intero all'utente\n",
    "if numero % 2 == 0:  # Controlla se il numero è divisibile per 2\n",
    "    print(numero, 'è pari')  # Se vero, stampa che il numero è pari\n",
    "else:\n",
    "    print(numero, 'è dispari')  # Altrimenti, stampa che il numero è dispari\n",
    "\n",
    "# N.B. Python non ha bisogno di dichiarare le variabili prima di usarle\n",
    "# N.B. In Python è essenziale l'indentazione per definire i blocchi di codice\n",
    "# Quindi è importante usare i tab in modo coerente, altrimenti ci saranno degli errori nel codice\n",
    "\n",
    "\n",
    "# Codice con errore: da toglier o commentare se non si vuole avere errori\n",
    "if numero % 2 == 0:  # Controlla se il numero è divisibile per 2\n",
    "print(numero, 'è pari')  # Se vero, stampa che il numero è pari\n",
    "else:\n",
    "    print(numero, 'è dispari')  # Altrimenti, stampa che il numero è dispari"
   ]
  },
  {
   "cell_type": "markdown",
   "id": "a9ddb11e",
   "metadata": {},
   "source": [
    "### Esercizio\n",
    "Scrivi un `if` per controllare se un numero è positivo, negativo o zero."
   ]
  },
  {
   "cell_type": "markdown",
   "id": "f3478e2b",
   "metadata": {},
   "source": [
    "## 7. Ciclo `while`\n",
    "```python\n",
    "# Stampare i numeri da 0 a 4\n",
    "count = 0\n",
    "while count < 5:\n",
    "    print(count)\n",
    "    count += 1\n",
    "```"
   ]
  },
  {
   "cell_type": "code",
   "execution_count": null,
   "id": "c5f65771",
   "metadata": {},
   "outputs": [],
   "source": [
    "count = 0  # Inizializza il contatore a 0\n",
    "while count < 5:  # Continua finché count è minore di 5\n",
    "    print(count)  # Stampa il valore corrente di count\n",
    "    count += 1  # Incrementa count di 1 a ogni iterazione\n",
    "\n",
    "# N.B. In Python è essenziale l'indentazione per definire i blocchi di codice\n",
    "# Quindi è importante usare i tab in modo coerente, altrimenti ci saranno degli errori nel codice"
   ]
  },
  {
   "cell_type": "markdown",
   "id": "541d5a3c",
   "metadata": {},
   "source": [
    "### Esercizio\n",
    "Modifica il ciclo `while` per chiedere all'utente un numero e contare fino a quel numero."
   ]
  },
  {
   "cell_type": "markdown",
   "id": "69aceb04",
   "metadata": {},
   "source": [
    "## 8. Ciclo `for`\n",
    "```python\n",
    "# Stampare i numeri da 1 a 5\n",
    "for i in range(1, 6):\n",
    "    print(i)\n",
    "```"
   ]
  },
  {
   "cell_type": "code",
   "execution_count": null,
   "id": "414768d1",
   "metadata": {},
   "outputs": [],
   "source": [
    "for i in range(1, 6):  # Ripete i valori da 1 a 5 (incluso)\n",
    "    # Questo perchè range(1, 6) genera i numeri da 1 a 5\n",
    "    # Ovvero parte da 1, fino al numero 6 escluso, quindi si ferma al numero 5, questo compreso\n",
    "    print(i)  # Stampa il valore di i in ogni iterazione\n",
    "\n",
    "# N.B. In Python è essenziale l'indentazione per definire i blocchi di codice\n",
    "# Quindi è importante usare i tab in modo coerente, altrimenti ci saranno degli errori nel codice"
   ]
  },
  {
   "cell_type": "markdown",
   "id": "ec784376",
   "metadata": {},
   "source": [
    "### Esercizio\n",
    "Usa un ciclo `for` per sommare tutti i numeri da 1 a 10 e stampare il risultato."
   ]
  },
  {
   "cell_type": "markdown",
   "id": "9800cc7c",
   "metadata": {},
   "source": [
    "## 9. Calcolo del fattoriale con ciclo `for`"
   ]
  },
  {
   "cell_type": "code",
   "execution_count": null,
   "id": "74002c5f",
   "metadata": {},
   "outputs": [],
   "source": [
    "n = int(input('Inserisci un numero intero per il fattoriale: '))  # Numero di cui calcolare il fattoriale\n",
    "fact = 1  # Inizializza la variabile che conterrà il fattoriale\n",
    "for i in range(1, n + 1):  # Itera da 1 fino a n\n",
    "    fact *= i  # Moltiplica fact per i a ogni iterazione\n",
    "print(f'Il fattoriale di {n} è {fact}')  # Stampa il risultato finale\n",
    "\n",
    "# N.B. In Python è essenziale l'indentazione per definire i blocchi di codice\n",
    "# Quindi è importante usare i tab in modo coerente, altrimenti ci saranno degli errori nel codice"
   ]
  },
  {
   "cell_type": "markdown",
   "id": "49c77a62",
   "metadata": {},
   "source": [
    "### Esercizio\n",
    "Modifica il programma per calcolare il fattoriale usando un ciclo `while`."
   ]
  },
  {
   "cell_type": "markdown",
   "id": "67faec08",
   "metadata": {},
   "source": [
    "## 10. Sequenza di Fibonacci con ciclo `while`"
   ]
  },
  {
   "cell_type": "code",
   "execution_count": null,
   "id": "4d75db74",
   "metadata": {},
   "outputs": [],
   "source": [
    "n = int(input('Quanti termini di Fibonacci vuoi visualizzare? '))  # Numero di termini richiesti\n",
    "a, b = 0, 1  # Inizializza i primi due valori della sequenza\n",
    "count = 0  # Contatore per il numero di termini stampati\n",
    "while count < n:  # Continua finché count è minore di n\n",
    "    print(a)  # Stampa il valore corrente di a\n",
    "    a, b = b, a + b  # Aggiorna a e b per il termine successivo\n",
    "    count += 1  # Incrementa il contatore\n",
    "\n",
    "# N.B. In Python è essenziale l'indentazione per definire i blocchi di codice\n",
    "# Quindi è importante usare i tab in modo coerente, altrimenti ci saranno degli errori nel codice"
   ]
  },
  {
   "cell_type": "markdown",
   "id": "c4e918ae",
   "metadata": {},
   "source": [
    "### Esercizio\n",
    "Scrivi un programma che utilizzi un ciclo `for` per generare la sequenza di Fibonacci."
   ]
  },
  {
   "cell_type": "markdown",
   "id": "1a6b6ae0",
   "metadata": {},
   "source": [
    "## 11. Creazione di funzioni in Python"
   ]
  },
  {
   "cell_type": "code",
   "execution_count": null,
   "id": "0204a344",
   "metadata": {},
   "outputs": [],
   "source": [
    "def saluta(nome):  # Definisce una funzione che accetta un parametro 'nome'\n",
    "    return f'Ciao, {nome}!'  # Ritorna una stringa di saluto personalizzato\n",
    "    # f è una stringa formattata che permette di inserire variabili direttamente\n",
    "\n",
    "# Questo sotto è come il main() in C. In Python non è necessario ed l'interprete inizia ad interpretare il codice da qui\n",
    "# Ovvero dalla prima riga di codice che non è un commento e non è una definizione di funzione\n",
    "nome = input('Inserisci il tuo nome: ')  # Richiede il nome all'utente\n",
    "print(saluta(nome))  # Chiama la funzione saluta e stampa il risultato"
   ]
  },
  {
   "cell_type": "markdown",
   "id": "4e86adc9",
   "metadata": {},
   "source": [
    "### Esercizio\n",
    "Crea una funzione `area_cerchio(raggio)` che ritorni l'area di un cerchio e testala con input dell'utente."
   ]
  },
  {
   "cell_type": "markdown",
   "id": "14dd66a9",
   "metadata": {},
   "source": [
    "## 12. Funzione con parametri multipli"
   ]
  },
  {
   "cell_type": "code",
   "execution_count": null,
   "id": "c089d733",
   "metadata": {},
   "outputs": [],
   "source": [
    "def somma(a, b):  # Definisce una funzione che somma due numeri\n",
    "    return a + b  # Ritorna la somma di a e b\n",
    "\n",
    "# N.B. In Python è essenziale l'indentazione per definire i blocchi di codice\n",
    "# Quindi è importante usare i tab in modo coerente, altrimenti ci saranno degli errori nel codice\n",
    "# Anche la funzione è un blocco di codice, quindi è importante usare i tab in modo coerente al suo interno\n",
    "\n",
    "risultato = somma(3, 5)  # Esegue la funzione somma con due valori di esempio\n",
    "print(risultato)  # Stampa il risultato della somma"
   ]
  },
  {
   "cell_type": "markdown",
   "id": "b954c3fe",
   "metadata": {},
   "source": [
    "### Esercizio\n",
    "Crea una funzione `media(lista)` che calcoli la media dei numeri in una lista. Assicurati di commentare ogni riga di codice."
   ]
  },
  {
   "cell_type": "markdown",
   "id": "905e53e0",
   "metadata": {},
   "source": [
    "## 13. Funzione con valore di default"
   ]
  },
  {
   "cell_type": "code",
   "execution_count": null,
   "id": "5656ee88",
   "metadata": {},
   "outputs": [],
   "source": [
    "def potenza(base, esponente=2):  # Definisce una funzione con argomento opzionale\n",
    "    return base ** esponente  # Ritorna base elevato a esponente\n",
    "\n",
    "print(potenza(5))  # Chiama potenza usando l'esponente di default (2)\n",
    "print(potenza(2, 3))  # Chiama potenza specificando esponente 3"
   ]
  },
  {
   "cell_type": "markdown",
   "id": "942f70f0",
   "metadata": {},
   "source": [
    "### Esercizio\n",
    "Modifica la funzione `potenza` per gestire anche esponenti negativi. Comentare ogni riga di codice."
   ]
  },
  {
   "cell_type": "markdown",
   "id": "34345885",
   "metadata": {},
   "source": [
    "## 14. Funzione mdc tra due argomenti "
   ]
  },
  {
   "cell_type": "code",
   "execution_count": null,
   "id": "6e8cb7d1",
   "metadata": {},
   "outputs": [],
   "source": [
    "def mcd(a, b):  # Definisce una funzione che calcola il massimo comune divisore di due numeri\n",
    "    while b != 0:  # Continua finché il resto non è zero\n",
    "        a, b = b, a % b  # Aggiorna a con b e b con il resto della divisione di a per b\n",
    "    return a  # Ritorna il massimo comune divisore\n",
    "\n",
    "# Esempio di utilizzo\n",
    "numero1 = int(input('Inserisci il primo numero: '))  # Richiede il primo numero all'utente\n",
    "numero2 = int(input('Inserisci il secondo numero: '))  # Richiede il secondo numero all'utente\n",
    "print(f'Il MCD di {numero1} e {numero2} è {mcd(numero1, numero2)}')  # Stampa il risultato"
   ]
  },
  {
   "cell_type": "markdown",
   "id": "d1b4ad19",
   "metadata": {},
   "source": [
    "### Esercizio\n",
    "Crea una funzione (`stampaRettangolo(A, B)`) stampi un rettangolo di dimensioni AxB, con A e B passati come argomenti."
   ]
  },
  {
   "cell_type": "markdown",
   "id": "ab83c374",
   "metadata": {},
   "source": [
    "## 15. Funzione che esegue il fattoriale"
   ]
  },
  {
   "cell_type": "code",
   "execution_count": null,
   "id": "6064d02e",
   "metadata": {},
   "outputs": [],
   "source": [
    "def fibonacci(n):\n",
    "    fibo = 1 # Inizializza il fattoriale a 1\n",
    "    for i in range(1, n): # Itera da 1 a n-1\n",
    "        fibo = fibo * i\n",
    "    return fibo  # Ritorna il fattoriale di n\n",
    "\n",
    "# Esempio di utilizzo\n",
    "numero = int(input('Inserisci un numero per calcolare il fattoriale: '))  # Richiede un numero all'utente\n",
    "print(f'Il fattoriale di {numero} è {fibonacci(numero)}')  # Stampa il risultato\n",
    "\n",
    "# N.B. In Python è essenziale l'indentazione per definire i blocchi di codice\n",
    "# Quindi è importante usare i tab in modo coerente, altrimenti ci saranno degli errori nel codice\n",
    "# N.B. In Python è essenziale l'indentazione per definire i blocchi di codice\n",
    "\n",
    "numero2 = int(input('Inserisci un numero per calcolare il fattoriale: '))  # Richiede un numero all'utente\n",
    "fibo = fibonacci(numero2)  # Calcola il fattoriale del numero\n",
    "print(f'Il fattoriale di {numero2} è {fibo}')  # Stampa il risultato"
   ]
  }
 ],
 "metadata": {
  "kernelspec": {
   "display_name": "Python 3",
   "language": "python",
   "name": "python3"
  },
  "language_info": {
   "codemirror_mode": {
    "name": "ipython",
    "version": 3
   },
   "file_extension": ".py",
   "mimetype": "text/x-python",
   "name": "python",
   "nbconvert_exporter": "python",
   "pygments_lexer": "ipython3",
   "version": "3.12.0"
  }
 },
 "nbformat": 4,
 "nbformat_minor": 5
}
