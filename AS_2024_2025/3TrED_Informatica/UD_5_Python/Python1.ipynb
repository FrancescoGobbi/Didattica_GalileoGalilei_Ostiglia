{
 "cells": [
  {
   "cell_type": "markdown",
   "metadata": {},
   "source": [
    "# Introduzione a Python\n",
    "\n",
    "Questo notebook fornisce una panoramica di Python, concentrandosi su classi, oggetti, e l'uso di `self`.\n",
    "Ogni concetto è spiegato passo per passo con esempi pratici in Python."
   ]
  },
  {
   "cell_type": "code",
   "execution_count": null,
   "metadata": {},
   "outputs": [
    {
     "data": {
      "text/plain": [
       "'Ciao, mi chiamo Marco e ho 25 anni.'"
      ]
     },
     "execution_count": 2,
     "metadata": {},
     "output_type": "execute_result"
    }
   ],
   "source": [
    "# Creiamo una classe 'Persona' con un metodo saluta\n",
    "class Persona:\n",
    "    def __init__(self, nome, età):\n",
    "        self.nome = nome  # Attributo 'nome' dell'oggetto\n",
    "        self.età = età    # Attributo 'età' dell'oggetto\n",
    "\n",
    "    def saluta(self):\n",
    "        return f\"Ciao, mi chiamo {self.nome} e ho {self.età} anni.\"\n",
    "\n",
    "# Creiamo un oggetto della classe Persona\n",
    "persona1 = Persona(\"Marco\", 25)\n",
    "\n",
    "# Chiamata al metodo saluta per vedere l'output\n",
    "print(persona1.saluta())"
   ]
  },
  {
   "cell_type": "markdown",
   "metadata": {},
   "source": [
    "### Cos'è una classe e un oggetto?\n",
    "\n",
    "Una **classe** è una struttura che definisce le proprietà (attributi) e i comportamenti (metodi) degli oggetti.\n",
    "Gli oggetti sono istanze di una classe e possono contenere dati (attributi) e metodi (funzioni) per manipolare questi dati.\n",
    "\n",
    "Nel codice sopra, abbiamo creato una classe `Persona` con due attributi: `nome` ed `età`, e un metodo `saluta` che restituisce una stringa.\n",
    "Abbiamo poi creato un oggetto `persona1` della classe `Persona` e invocato il metodo `saluta()` per ottenere un messaggio di saluto."
   ]
  },
  {
   "cell_type": "code",
   "execution_count": null,
   "metadata": {},
   "outputs": [],
   "source": [
    "# Modifica dell'attributo 'nome' dell'oggetto persona1\n",
    "persona1.nome = \"Luca\"\n",
    "\n",
    "# Nuovo saluto con il nome modificato\n",
    "persona1.saluta()"
   ]
  },
  {
   "cell_type": "markdown",
   "metadata": {},
   "source": [
    "### Modifica di un oggetto\n",
    "\n",
    "Un oggetto può essere modificato dopo la sua creazione. Nel codice precedente, abbiamo cambiato l'attributo `nome` dell'oggetto `persona1` da 'Marco' a 'Luca'.\n",
    "Successivamente, abbiamo chiamato il metodo `saluta()` per vedere l'output aggiornato."
   ]
  },
  {
   "cell_type": "markdown",
   "metadata": {},
   "source": [
    "### Cos'è `self` in Python?\n",
    "\n",
    "`self` è un parametro usato per fare riferimento all'oggetto stesso all'interno di una classe. Quando definiamo un metodo in una classe, il primo parametro deve essere `self`.\n",
    "Questo consente al metodo di accedere agli attributi e ai metodi dell'oggetto.\n",
    "Ora vediamo come funziona `self` con un esempio di una nuova classe, `Auto`."
   ]
  },
  {
   "cell_type": "code",
   "execution_count": null,
   "metadata": {},
   "outputs": [],
   "source": [
    "# Creiamo una nuova classe 'Auto'\n",
    "class Auto:\n",
    "    def __init__(self, marca, modello, anno):\n",
    "        self.marca = marca\n",
    "        self.modello = modello\n",
    "        self.anno = anno\n",
    "\n",
    "    def descrizione(self):\n",
    "        return f\"Auto: {self.marca} {self.modello}, anno {self.anno}\"\n",
    "\n",
    "# Creiamo un oggetto della classe Auto\n",
    "auto1 = Auto(\"Fiat\", \"Punto\", 2010)\n",
    "\n",
    "# Chiamata al metodo descrizione\n",
    "auto1.descrizione()"
   ]
  },
  {
   "cell_type": "markdown",
   "metadata": {},
   "source": [
    "### Creazione della classe Auto\n",
    "\n",
    "In questo esempio, abbiamo creato una classe `Auto` che ha tre attributi: `marca`, `modello` e `anno`. Il metodo `descrizione()` restituisce una stringa con le informazioni dell'auto.\n",
    "\n",
    "Abbiamo creato un oggetto `auto1` della classe `Auto` e invocato il metodo `descrizione()` per visualizzare le informazioni dell'auto."
   ]
  },
  {
   "cell_type": "code",
   "execution_count": null,
   "metadata": {},
   "outputs": [],
   "source": [
    "# Creiamo una nuova classe 'Libro'\n",
    "class Libro:\n",
    "    def __init__(self, titolo, autore, anno_pubblicazione):\n",
    "        self.titolo = titolo\n",
    "        self.autore = autore\n",
    "        self.anno_pubblicazione = anno_pubblicazione\n",
    "\n",
    "    def info(self):\n",
    "        return f\"Libro: {self.titolo}, scritto da {self.autore}, anno {self.anno_pubblicazione}\"\n",
    "\n",
    "# Creiamo un oggetto della classe Libro\n",
    "libro1 = Libro(\"1984\", \"George Orwell\", 1949)\n",
    "\n",
    "# Chiamata al metodo info\n",
    "libro1.info()"
   ]
  },
  {
   "cell_type": "markdown",
   "metadata": {},
   "source": [
    "### Creazione della classe Libro\n",
    "\n",
    "Abbiamo creato una classe `Libro` che ha tre attributi: `titolo`, `autore` e `anno_pubblicazione`. Il metodo `info()` restituisce una descrizione del libro.\n",
    "\n",
    "Nel nostro esempio, l'oggetto `libro1` rappresenta il libro \"1984\" scritto da George Orwell nel 1949."
   ]
  },
  {
   "cell_type": "markdown",
   "metadata": {},
   "source": [
    "### Riepilogo dei concetti chiave visti:\n",
    "\n",
    "- **Classe**: Un modello per creare oggetti con attributi e metodi.\n",
    "- **Oggetto**: Un'istanza di una classe con attributi specifici e metodi che operano su questi attributi.\n",
    "- **self**: Riferimento all'oggetto stesso in una classe, usato per accedere agli attributi e metodi.\n",
    "- **Interprete**: Python è un linguaggio interpretato, quindi il codice viene eseguito direttamente senza compilazione preventiva."
   ]
  }
 ],
 "metadata": {
  "kernelspec": {
   "display_name": "Python 3",
   "language": "python",
   "name": "python3"
  },
  "language_info": {
   "codemirror_mode": {
    "name": "ipython",
    "version": 3
   },
   "file_extension": ".py",
   "mimetype": "text/x-python",
   "name": "python",
   "nbconvert_exporter": "python",
   "pygments_lexer": "ipython3",
   "version": "3.12.0"
  }
 },
 "nbformat": 4,
 "nbformat_minor": 5
}
