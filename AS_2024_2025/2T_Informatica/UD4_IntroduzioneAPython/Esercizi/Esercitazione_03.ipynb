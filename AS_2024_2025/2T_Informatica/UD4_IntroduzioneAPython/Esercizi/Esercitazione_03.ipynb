{
 "cells": [
  {
   "cell_type": "markdown",
   "id": "4d348ae8",
   "metadata": {},
   "source": [
    "# Esercitazione 03 - Introduzione a Python\n",
    "\n",
    "**Francesco Gobbi**  \n",
    "*I.I.S.S. Galileo Galilei, Ostiglia*  "
   ]
  },
  {
   "cell_type": "markdown",
   "metadata": {},
   "source": [
    "# Introduzione alle Funzioni in Python\n",
    "\n",
    "In Python, una **funzione** è un _blocco di codice riutilizzabile che esegue un compito specifico_. \n",
    "\n",
    "Le funzioni aiutano a rendere il codice più modulare, leggibile e manutenibile. \n",
    "\n",
    "Le funzioni possono accettare dei parametri (input, messo tra parentesi tonda) e restituire un valore (output) tramite il comando `return`."
   ]
  },
  {
   "cell_type": "code",
   "execution_count": null,
   "metadata": {},
   "outputs": [],
   "source": [
    "def saluta(nome):\n",
    "    \"\"\"\n",
    "    Restituisce un saluto personalizzato.\n",
    "    \n",
    "    Parametro:\n",
    "        nome (str): il nome della persona da salutare\n",
    "    \n",
    "    Ritorna:\n",
    "        str: una stringa contenente il saluto\n",
    "    \"\"\"\n",
    "    # Creazione del messaggio concatenando 'Ciao, ' con il nome e aggiungendo '!'\n",
    "    messaggio = \"Ciao, \" + nome + \"!\"\n",
    "    return messaggio\n",
    "\n",
    "# Esempio di utilizzo della funzione saluta()\n",
    "print(saluta(\"Luca\"))\n",
    "print(saluta(\"Lisa\"))"
   ]
  },
  {
   "cell_type": "markdown",
   "metadata": {},
   "source": [
    "## La Funzione `print()`\n",
    "\n",
    "La funzione `print()` viene usata per mostrare messaggi o risultati sullo schermo. Essa può stampare stringhe, numeri, variabili o combinazioni di questi. È uno strumento essenziale per il debug e per interagire con l'utente durante l'esecuzione del programma."
   ]
  },
  {
   "cell_type": "code",
   "execution_count": null,
   "metadata": {},
   "outputs": [],
   "source": [
    "# Esempi di utilizzo della funzione print()\n",
    "\n",
    "# 1. Stampa di una stringa\n",
    "print(\"Benvenuti in Python!\")\n",
    "\n",
    "# 2. Stampa di variabili\n",
    "nome = \"Anna\"\n",
    "eta = 25\n",
    "print(\"Nome:\", nome, \"- Età:\", eta) # Stampa in una sola riga il messaggio e le variabili\n",
    "# Nella parentesi tonda ci sono i parametri che verranno dati alla funzione , che si conseguenza li stamperà\n",
    "# Nel caso della funzione print() i parametri sono separati da virgole\n",
    "# I paramentri sono poi concatenati durante la stampa\n",
    "\n",
    "# 3. Concatenazione di stringhe per creare un messaggio\n",
    "messaggio = \"Ciao\" + \" \" + nome + \"!\" # Crazione di una stringa con parole e variabili concatenate\n",
    "print(messaggio)"
   ]
  },
  {
   "cell_type": "markdown",
   "metadata": {},
   "source": [
    "## La Funzione `input()`\n",
    "\n",
    "La funzione `input()` consente di acquisire dati dall'utente durante l'esecuzione del programma. I dati immessi vengono interpretati, quindi visti dall'interprete di Python, come stringhe (`str`). Questo permette di realizzare programmi interattivi che si adattano all'input fornito dall'utente."
   ]
  },
  {
   "cell_type": "code",
   "execution_count": null,
   "metadata": {},
   "outputs": [],
   "source": [
    "# Esempi di utilizzo della funzione input()\n",
    "\n",
    "# 1. Acquisizione del nome dell'utente\n",
    "nome_utente = input(\"Inserisci il tuo nome: \")\n",
    "print(\"Ciao, \" + nome_utente + \"! Benvenuto in Python.\")\n",
    "\n",
    "# 2. Acquisizione di un numero (ricorda che input() restituisce sempre una stringa)\n",
    "numero = input(\"Inserisci un numero: \")\n",
    "print(\"Hai inserito il numero:\", numero)\n",
    "\n",
    "# 3. Esempio di concatenazione con input\n",
    "saluto_personalizzato = \"Ciao, \" + nome_utente + \"! Grazie per aver utilizzato input().\"\n",
    "print(saluto_personalizzato)"
   ]
  },
  {
   "cell_type": "markdown",
   "metadata": {},
   "source": [
    "## Funzioni Insieme: Utilizzo Combinato di `print()` e `input()`\n",
    "\n",
    "In questa sezione, mettiamo insieme le due funzioni `print()` e `input()` per creare un piccolo programma interattivo. Il seguente esempio chiede all'utente il suo nome e la sua età, e poi mostra un messaggio personalizzato che integra le informazioni inserite."
   ]
  },
  {
   "cell_type": "code",
   "execution_count": null,
   "metadata": {},
   "outputs": [],
   "source": [
    "# Programma interattivo che utilizza print() e input()\n",
    "\n",
    "# Richiesta dei dati all'utente\n",
    "nome = input(\"Inserisci il tuo nome: \")\n",
    "eta = input(\"Inserisci la tua età: \")\n",
    "\n",
    "# Stampa di un messaggio personalizzato utilizzando i dati inseriti\n",
    "print(\"Ciao \" + nome + \"! Hai \" + eta + \" anni.\")\n",
    "\n",
    "# Possibilità di ulteriori interazioni\n",
    "hobby = input(\"Qual è il tuo hobby preferito? \")\n",
    "print(\"Interessante! Quindi, \" + nome + \", il tuo hobby è \" + hobby + \".\")"
   ]
  },
  {
   "cell_type": "markdown",
   "id": "38426195",
   "metadata": {},
   "source": [
    "## Utilizzo delle funzioni `print()` e `input()` per altri tipi di variabili/oggetti\n",
    "\n",
    "In questa sezione, mettiamo insieme le due funzioni `print()` e `input()` per creare un piccolo programma interattivo con altre tipologie di variabili."
   ]
  },
  {
   "cell_type": "code",
   "execution_count": null,
   "id": "9b7bb3a5",
   "metadata": {},
   "outputs": [],
   "source": [
    "# Input di una variabile intera\n",
    "numero_intero = int(input(\"Inserisci un numero intero: \"))\n",
    "\n",
    "# Input di una variabile float\n",
    "numero_float = float(input(\"Inserisci un numero decimale (float): \"))\n",
    "\n",
    "# Input di una variabile stringa\n",
    "stringa = input(\"Inserisci una stringa: \")\n",
    "\n",
    "# Stampa delle variabili inserite\n",
    "print(\"Hai inserito il numero intero:\", numero_intero)\n",
    "print(\"Hai inserito il numero float:\", numero_float)\n",
    "print(\"Hai inserito la stringa:\", stringa)"
   ]
  }
 ],
 "metadata": {
  "kernelspec": {
   "display_name": "Python 3",
   "language": "python",
   "name": "python3"
  },
  "language_info": {
   "codemirror_mode": {
    "name": "ipython",
    "version": 3
   },
   "file_extension": ".py",
   "mimetype": "text/x-python",
   "name": "python",
   "nbconvert_exporter": "python",
   "pygments_lexer": "ipython3",
   "version": "3.12.0"
  }
 },
 "nbformat": 4,
 "nbformat_minor": 5
}
