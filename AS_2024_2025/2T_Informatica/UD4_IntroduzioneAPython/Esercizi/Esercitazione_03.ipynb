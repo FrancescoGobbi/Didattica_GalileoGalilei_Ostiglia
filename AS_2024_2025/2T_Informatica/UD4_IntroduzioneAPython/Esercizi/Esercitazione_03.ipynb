{
 "cells": [
  {
   "cell_type": "markdown",
   "id": "4d348ae8",
   "metadata": {},
   "source": [
    "# Esercitazione 03 - Introduzione a Python\n",
    "\n",
    "**Francesco Gobbi**  \n",
    "*I.I.S.S. Galileo Galilei, Ostiglia*  "
   ]
  },
  {
   "cell_type": "markdown",
   "metadata": {},
   "source": [
    "# Introduzione alle Funzioni in Python\n",
    "\n",
    "In Python, una **funzione** è un _blocco di codice riutilizzabile che esegue un compito specifico_. \n",
    "\n",
    "Le funzioni aiutano a rendere il codice più modulare, leggibile e manutenibile. \n",
    "\n",
    "Le funzioni possono accettare dei parametri (input, messo tra parentesi tonda) e restituire un valore (output) tramite il comando `return`."
   ]
  },
  {
   "cell_type": "code",
   "execution_count": null,
   "metadata": {},
   "outputs": [],
   "source": [
    "def saluta(nome):\n",
    "    \"\"\"\n",
    "    Restituisce un saluto personalizzato.\n",
    "    \n",
    "    Parametro:\n",
    "        nome (str): il nome della persona da salutare\n",
    "    \n",
    "    Ritorna:\n",
    "        str: una stringa contenente il saluto\n",
    "    \"\"\"\n",
    "    # Creazione del messaggio concatenando 'Ciao, ' con il nome e aggiungendo '!'\n",
    "    messaggio = \"Ciao, \" + nome + \"!\"\n",
    "    return messaggio\n",
    "\n",
    "# Esempio di utilizzo della funzione saluta()\n",
    "print(saluta(\"Luca\"))\n",
    "print(saluta(\"Lisa\"))"
   ]
  },
  {
   "cell_type": "markdown",
   "metadata": {},
   "source": [
    "## La Funzione `print()`\n",
    "\n",
    "La funzione `print()` viene usata per mostrare messaggi o risultati sullo schermo. Essa può stampare stringhe, numeri, variabili o combinazioni di questi. È uno strumento essenziale per il debug e per interagire con l'utente durante l'esecuzione del programma."
   ]
  },
  {
   "cell_type": "code",
   "execution_count": 1,
   "metadata": {},
   "outputs": [
    {
     "name": "stdout",
     "output_type": "stream",
     "text": [
      "Benvenuti in Python!\n",
      "Nome: Anna - Età: 25\n",
      "Ciao Anna!\n"
     ]
    }
   ],
   "source": [
    "# Esempi di utilizzo della funzione print()\n",
    "\n",
    "# 1. Stampa di una stringa\n",
    "print(\"Benvenuti in Python!\")\n",
    "\n",
    "# 2. Stampa di variabili\n",
    "nome = \"Anna\"\n",
    "eta = 25\n",
    "print(\"Nome:\", nome, \"- Età:\", eta) # Stampa in una sola riga il messaggio e le variabili\n",
    "# Nella parentesi tonda ci sono i parametri che verranno dati alla funzione , che si conseguenza li stamperà\n",
    "# Nel caso della funzione print() i parametri sono separati da virgole\n",
    "# I paramentri sono poi concatenati durante la stampa\n",
    "\n",
    "# 3. Concatenazione di stringhe per creare un messaggio\n",
    "messaggio = \"Ciao\" + \" \" + nome + \"!\" # Crazione di una stringa con parole e variabili concatenate\n",
    "print(messaggio)"
   ]
  },
  {
   "cell_type": "markdown",
   "metadata": {},
   "source": [
    "## La Funzione `input()`\n",
    "\n",
    "La funzione `input()` consente di acquisire dati dall'utente durante l'esecuzione del programma. I dati immessi vengono interpretati, quindi visti dall'interprete di Python, come stringhe (`str`). Questo permette di realizzare programmi interattivi che si adattano all'input fornito dall'utente."
   ]
  },
  {
   "cell_type": "code",
   "execution_count": 2,
   "metadata": {},
   "outputs": [
    {
     "name": "stdout",
     "output_type": "stream",
     "text": [
      "Ciao, Francesco! Benvenuto in Python.\n",
      "Hai inserito il numero: 7\n",
      "Ciao, Francesco! Grazie per aver utilizzato input().\n"
     ]
    }
   ],
   "source": [
    "# Esempi di utilizzo della funzione input()\n",
    "\n",
    "# 1. Acquisizione del nome dell'utente\n",
    "nome_utente = input(\"Inserisci il tuo nome: \")\n",
    "print(\"Ciao, \" + nome_utente + \"! Benvenuto in Python.\")\n",
    "\n",
    "# 2. Acquisizione di un numero (ricorda che input() restituisce sempre una stringa)\n",
    "numero = input(\"Inserisci un numero: \")\n",
    "print(\"Hai inserito il numero:\", numero)\n",
    "\n",
    "# 3. Esempio di concatenazione con input\n",
    "saluto_personalizzato = \"Ciao, \" + nome_utente + \"! Grazie per aver utilizzato input().\"\n",
    "print(saluto_personalizzato)"
   ]
  },
  {
   "cell_type": "markdown",
   "metadata": {},
   "source": [
    "## Funzioni Insieme: Utilizzo Combinato di `print()` e `input()`\n",
    "\n",
    "In questa sezione, mettiamo insieme le due funzioni `print()` e `input()` per creare un piccolo programma interattivo. Il seguente esempio chiede all'utente il suo nome e la sua età, e poi mostra un messaggio personalizzato che integra le informazioni inserite."
   ]
  },
  {
   "cell_type": "code",
   "execution_count": null,
   "metadata": {},
   "outputs": [],
   "source": [
    "# Programma interattivo che utilizza print() e input()\n",
    "\n",
    "# Richiesta dei dati all'utente\n",
    "nome = input(\"Inserisci il tuo nome: \")\n",
    "eta = input(\"Inserisci la tua età: \")\n",
    "\n",
    "# Stampa di un messaggio personalizzato utilizzando i dati inseriti\n",
    "print(\"Ciao \" + nome + \"! Hai \" + eta + \" anni.\")\n",
    "\n",
    "# Possibilità di ulteriori interazioni\n",
    "hobby = input(\"Qual è il tuo hobby preferito? \")\n",
    "print(\"Interessante! Quindi, \" + nome + \", il tuo hobby è \" + hobby + \".\")"
   ]
  },
  {
   "cell_type": "markdown",
   "id": "38426195",
   "metadata": {},
   "source": [
    "## Utilizzo delle funzioni `print()` e `input()` per altri tipi di variabili/oggetti\n",
    "\n",
    "In questa sezione, mettiamo insieme le due funzioni `print()` e `input()` per creare un piccolo programma interattivo con altre tipologie di variabili.\n",
    "\n",
    "In Python tutto quello che viene preso in input è una stringa (`str`), quindi non è possibile con essa svolgere delle operazioni, come per esempio 5 + 3. Di conseguenza è necessario \"convertire\" la stringa in un numero.\n",
    "In Python è chiaramente possibile il tutto con delle apposite funzioni che convertono gli oggetti, come la funzione `int()` e la funzione `float()`. Utilizziamo intanto queste due funzioni di conversione molto utilizzate ed utili.\n",
    "\n",
    "In realtà quello che avviene è questo: diamo alla funzione, quindi quello che c'è tra le parentesi tonde (parametro della funzione), un oggetto stringa. La funzione va a creare un nuovo oggetto con all'interno il valore convertito e passa il puntatore alla variabile che sta alla sinistra dell'uguale."
   ]
  },
  {
   "cell_type": "code",
   "execution_count": null,
   "id": "9b7bb3a5",
   "metadata": {},
   "outputs": [
    {
     "ename": "TypeError",
     "evalue": "unsupported operand type(s) for +: 'int' and 'str'",
     "output_type": "error",
     "traceback": [
      "\u001b[31m---------------------------------------------------------------------------\u001b[39m",
      "\u001b[31mTypeError\u001b[39m                                 Traceback (most recent call last)",
      "\u001b[36mCell\u001b[39m\u001b[36m \u001b[39m\u001b[32mIn[5]\u001b[39m\u001b[32m, line 13\u001b[39m\n\u001b[32m     10\u001b[39m stringa = \u001b[38;5;28minput\u001b[39m(\u001b[33m\"\u001b[39m\u001b[33mInserisci una stringa: \u001b[39m\u001b[33m\"\u001b[39m)\n\u001b[32m     12\u001b[39m \u001b[38;5;66;03m# Prova di calcolo tra numero intero e stringa\u001b[39;00m\n\u001b[32m---> \u001b[39m\u001b[32m13\u001b[39m calcolo = \u001b[43mnumero_intero\u001b[49m\u001b[43m \u001b[49m\u001b[43m+\u001b[49m\u001b[43m \u001b[49m\u001b[43mstringa\u001b[49m\n\u001b[32m     15\u001b[39m \u001b[38;5;66;03m# Stampa delle variabili inserite\u001b[39;00m\n\u001b[32m     16\u001b[39m \u001b[38;5;28mprint\u001b[39m(\u001b[33m\"\u001b[39m\u001b[33mHai inserito il numero intero:\u001b[39m\u001b[33m\"\u001b[39m, numero_intero)\n",
      "\u001b[31mTypeError\u001b[39m: unsupported operand type(s) for +: 'int' and 'str'"
     ]
    }
   ],
   "source": [
    "# Input di una variabile intera\n",
    "numero_intero = int(input(\"Inserisci un numero intero: \"))\n",
    "#somma = numero_intero + 10\n",
    "#print(somma)\n",
    "\n",
    "# Input di una variabile float\n",
    "numero_float = float(input(\"Inserisci un numero decimale (float): \"))\n",
    "\n",
    "# Input di una variabile stringa\n",
    "stringa = input(\"Inserisci una stringa: \")\n",
    "\n",
    "# Prova di calcolo tra numero intero e stringa\n",
    "#calcolo = numero_intero + stringa\n",
    "\n",
    "# Stampa delle variabili inserite\n",
    "print(\"Hai inserito il numero intero:\", numero_intero)\n",
    "print(\"Hai inserito il numero float:\", numero_float)\n",
    "print(\"Hai inserito la stringa:\", stringa)"
   ]
  },
  {
   "cell_type": "markdown",
   "id": "96e14540",
   "metadata": {},
   "source": [
    "## Piccola spiegazione sulle funzioni \n",
    "\n",
    "Breve spiegazione del significato di funzione e sui campi che la compongono.\n",
    "Questo blocco di codice sottostante fa riferimento alla riga di codice del blocco superiore, ovvero:\n",
    "numero_intero = int(input(\"Inserisci un numero intero: \"))"
   ]
  },
  {
   "cell_type": "code",
   "execution_count": null,
   "id": "add242b9",
   "metadata": {},
   "outputs": [],
   "source": [
    "# Definizione di una funzione chiamata 'spiega_funzione'\n",
    "def spiega_funzione():\n",
    "    \"\"\"\n",
    "    Questa funzione spiega il funzionamento delle funzioni in Python\n",
    "    e analizza la riga di codice: numero_intero = int(input(\"Inserisci un numero intero: \"))\n",
    "    \"\"\"\n",
    "    # Stampa una spiegazione generale sulle funzioni\n",
    "    print(\"In Python, una funzione è un blocco di codice che esegue un compito specifico.\")\n",
    "    print(\"Le funzioni possono avere un nome, parametri di input e possono restituire un valore.\")\n",
    "\n",
    "    # Spiegazione della funzione 'input()'\n",
    "    print(\"\\n1. La funzione 'input()' consente di acquisire dati dall'utente.\")\n",
    "    print(\"   - Il parametro della funzione è la stringa 'Inserisci un numero intero: ',\")\n",
    "    print(\"     che viene mostrata all'utente come messaggio.\")\n",
    "    print(\"   - Il valore restituito da 'input()' è sempre una stringa.\")\n",
    "\n",
    "    # Spiegazione della funzione 'int()'\n",
    "    print(\"\\n2. La funzione 'int()' converte una stringa in un numero intero.\")\n",
    "    print(\"   - Il parametro della funzione è il valore restituito da 'input()'.\")\n",
    "    print(\"   - Se la stringa può essere convertita in un numero intero, la funzione restituisce il numero intero corrispondente.\")\n",
    "    print(\"   - Altrimenti, genera un errore.\")\n",
    "\n",
    "    # Spiegazione dell'assegnazione\n",
    "    print(\"\\n3. L'assegnazione 'numero_intero = int(input(\\\"Inserisci un numero intero: \\\"))' funziona così:\")\n",
    "    print(\"   - La funzione 'input()' viene eseguita per prima, mostrando il messaggio e acquisendo l'input dell'utente.\")\n",
    "    print(\"   - Il valore restituito da 'input()' viene passato come parametro alla funzione 'int()'.\")\n",
    "    print(\"   - Il risultato della funzione 'int()' viene assegnato alla variabile 'numero_intero'.\")\n",
    "\n",
    "# Chiamata della funzione per eseguire la spiegazione\n",
    "spiega_funzione()"
   ]
  },
  {
   "cell_type": "code",
   "execution_count": 7,
   "id": "60943366",
   "metadata": {},
   "outputs": [
    {
     "name": "stdout",
     "output_type": "stream",
     "text": [
      "La media tra: 6 , 2 e 9 è: 5.666666666666667\n"
     ]
    }
   ],
   "source": [
    "# Esercizio 1:\n",
    "# Creare un programma che prenda in input 3 numeri (interi o float) ed esegua \n",
    "# la media tra i tre numeri inseriti.\n",
    "# Stampare il valore della media\n",
    "\n",
    "A = int(input(\"Inserisci il primo numero:\"))\n",
    "B = int(input(\"Inserisci il secondo numero:\"))\n",
    "C = int(input(\"Inserisci il terzo numero:\"))\n",
    "\n",
    "# Eseguiamo la media\n",
    "media = (A + B + C) / 3\n",
    "\n",
    "print(\"La media tra:\", A, ',', B, 'e', C, 'è:', media)"
   ]
  }
 ],
 "metadata": {
  "kernelspec": {
   "display_name": "Python 3",
   "language": "python",
   "name": "python3"
  },
  "language_info": {
   "codemirror_mode": {
    "name": "ipython",
    "version": 3
   },
   "file_extension": ".py",
   "mimetype": "text/x-python",
   "name": "python",
   "nbconvert_exporter": "python",
   "pygments_lexer": "ipython3",
   "version": "3.12.0"
  }
 },
 "nbformat": 4,
 "nbformat_minor": 5
}
