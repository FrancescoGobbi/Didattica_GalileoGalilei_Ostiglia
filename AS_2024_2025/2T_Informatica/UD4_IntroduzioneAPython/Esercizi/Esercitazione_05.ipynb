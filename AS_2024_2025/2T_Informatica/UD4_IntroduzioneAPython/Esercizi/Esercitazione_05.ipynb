{
 "cells": [
  {
   "cell_type": "markdown",
   "id": "b4fbce0f",
   "metadata": {},
   "source": [
    "# Esercitazione 05 - Introduzione a Python\n",
    "\n",
    "**Francesco Gobbi**  \n",
    "*I.I.S.S. Galileo Galilei, Ostiglia*  "
   ]
  },
  {
   "cell_type": "markdown",
   "id": "daa40910",
   "metadata": {},
   "source": [
    "# Introduzione alle condizioni in Python\n",
    "In questo notebook introdurremo l'uso delle strutture condizionali in Python, in particolare l'istruzione `if` e le sue varianti."
   ]
  },
  {
   "cell_type": "markdown",
   "id": "01d15f2f",
   "metadata": {},
   "source": [
    "## Cos'è una condizione?\n",
    "Una condizione è un'espressione che restituisce un valore booleano (`True` o `False`). Quindi una domanda, un'interrogazione, che può avere una sola risposta: affermativa (Vero) o negativa (Falsa). Anche le domande devono essere espresse in modo tale da dare solamente una di queste due risposte.\n",
    "\n",
    "Le condizioni servono per controllare il flusso di esecuzione del programma."
   ]
  },
  {
   "cell_type": "markdown",
   "id": "4305568a",
   "metadata": {},
   "source": [
    "## Struttura di base di un `if` in Python\n",
    "```python\n",
    "if condizione:\n",
    "    # blocco di codice\n",
    "```"
   ]
  },
  {
   "cell_type": "markdown",
   "id": "2e669f88",
   "metadata": {},
   "source": [
    "## Struttura di base di un `else` in Python\n",
    "```python\n",
    "if condizione: # Se la condizione è VERA\n",
    "    # blocco di codice (caso vero)\n",
    "else: # Se la condizione sopra è FALSA\n",
    "    # blocco di codice dell'else (altrimenti)\n",
    "```"
   ]
  },
  {
   "cell_type": "markdown",
   "id": "78f2dc0d",
   "metadata": {},
   "source": [
    "## Operatori logici e di confronto\n",
    "- **Operatori di confronto (binari)**: `==` (Uguaglianza), `!=` (Disuguaglianza), `>`, `<`, `>=`, `<=`\n",
    "- **Operatori logici (binari)**: `and`, `or`\n",
    "- **Operatore logico (unario)**: `not`"
   ]
  },
  {
   "cell_type": "markdown",
   "id": "cf68d116",
   "metadata": {},
   "source": [
    "## Esempi base per le condizioni in python"
   ]
  },
  {
   "cell_type": "code",
   "execution_count": null,
   "id": "50a0ccc4",
   "metadata": {},
   "outputs": [],
   "source": [
    "# if semplice\n",
    "x = 10\n",
    "if x > 5: # Se questo è vero\n",
    "    # esegui il codice qui\n",
    "    print(\"x è maggiore di 5\")"
   ]
  },
  {
   "cell_type": "code",
   "execution_count": null,
   "id": "3f2c538a",
   "metadata": {},
   "outputs": [],
   "source": [
    "# if-else\n",
    "x = 3\n",
    "if x % 2 == 0: # Se x è pari\n",
    "    # esegui il codice qui\n",
    "    print(\"pari\")\n",
    "else: # Altrimenti\n",
    "    # esegui il codice qui\n",
    "    print(\"dispari\")"
   ]
  },
  {
   "cell_type": "code",
   "execution_count": null,
   "id": "e1124a08",
   "metadata": {},
   "outputs": [],
   "source": [
    "# if-elif-else\n",
    "y = 0\n",
    "if y > 0: # Se y è maggiore di 0\n",
    "    # esegui il codice qui\n",
    "    print(\"positivo\")\n",
    "elif y == 0: # Se y è uguale a 0\n",
    "    # esegui il codice qui\n",
    "    print(\"zero\")\n",
    "else: # Altrimenti\n",
    "    # esegui il codice qui\n",
    "    print(\"negativo\")"
   ]
  },
  {
   "cell_type": "markdown",
   "id": "3f14c267",
   "metadata": {},
   "source": [
    "## Esempi di condizioni innestate (una condizione dentro ad un'altra)"
   ]
  },
  {
   "cell_type": "code",
   "execution_count": null,
   "id": "066e5a80",
   "metadata": {},
   "outputs": [],
   "source": [
    "num = 7\n",
    "if num > 0:\n",
    "    if num % 2 == 0: # Se num è positivo e pari\n",
    "        # esegui il codice qui\n",
    "        print(\"positivo e pari\")\n",
    "    else: #Altrimenti\n",
    "        # esegui il codice qui\n",
    "        print(\"positivo e dispari\")\n",
    "else: # Altrimenti\n",
    "    # esegui il codice qui\n",
    "    print(\"non positivo\")"
   ]
  },
  {
   "cell_type": "markdown",
   "id": "5ed8ed69",
   "metadata": {},
   "source": [
    "## Condizioni multiple con operatori logici"
   ]
  },
  {
   "cell_type": "code",
   "execution_count": null,
   "id": "7af043b4",
   "metadata": {},
   "outputs": [],
   "source": [
    "age = 20\n",
    "if age >= 18 and age < 30: # Se l'età è compresa tra 18 e 29 anni\n",
    "    # esegui il codice qui\n",
    "    print(\"tra 18 e 29 anni\")\n",
    "if age < 18 or age > 65: # Se l'età è minore di 18 anni o maggiore di 65 anni\n",
    "    # esegui il codice qui\n",
    "    print(\"minorenne o anziano\")"
   ]
  }
 ],
 "metadata": {
  "kernelspec": {
   "display_name": "Python 3",
   "language": "python",
   "name": "python3"
  },
  "language_info": {
   "codemirror_mode": {
    "name": "ipython",
    "version": 3
   },
   "file_extension": ".py",
   "mimetype": "text/x-python",
   "name": "python",
   "nbconvert_exporter": "python",
   "pygments_lexer": "ipython3",
   "version": "3.12.0"
  }
 },
 "nbformat": 4,
 "nbformat_minor": 5
}
