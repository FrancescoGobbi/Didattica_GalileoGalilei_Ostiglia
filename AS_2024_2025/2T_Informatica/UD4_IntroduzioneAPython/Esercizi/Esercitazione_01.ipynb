{
 "cells": [
  {
   "cell_type": "markdown",
   "id": "esercitazione-02-intro",
   "metadata": {},
   "source": [
    "# Esercitazione 01 - Introduzione a Python\n",
    "\n",
    "**Francesco Gobbi**  \n",
    "*I.I.S.S. Galileo Galilei, Ostiglia*  "
   ]
  },
  {
   "cell_type": "markdown",
   "id": "intro-commenti-title",
   "metadata": {},
   "source": [
    "# Introduzione ai Commenti in Python\n",
    "\n",
    "I commenti sono parti del codice che vengono ignorate dall'interprete e servono a documentare e spiegare il funzionamento del codice stesso. In Python esistono due modalità principali per inserire commenti:"
   ]
  },
  {
   "cell_type": "markdown",
   "id": "intro-commenti-desc",
   "metadata": {},
   "source": [
    "## Tipi di Commenti\n",
    "\n",
    "- **Commento a riga singola:** Utilizza il simbolo `#` per commentare una singola riga. Tutto ciò che segue `#` sulla stessa riga verrà ignorato dall'interprete.\n",
    "\n",
    "- **Commento multilinea:** Pur non essendoci un commento vero e proprio per più righe, comunemente si usano stringhe delimitate da tre virgolette (tripla apice o tripla doppia) non assegnate a nessuna variabile. Queste stringhe vengono ignorate quando non sono usate come docstring."
   ]
  },
  {
   "cell_type": "code",
   "execution_count": 8,
   "id": "esempi-commenti",
   "metadata": {},
   "outputs": [
    {
     "name": "stdout",
     "output_type": "stream",
     "text": [
      "Esempio di commento a riga singola\n",
      "Fine degli esempi di commenti\n"
     ]
    }
   ],
   "source": [
    "# Esempio di commento a riga singola\n",
    "print(\"Esempio di commento a riga singola\")  # Questo commento spiega la riga di codice\n",
    "\n",
    "''' \n",
    "Questo è un esempio di commento multilinea \n",
    "utilizzando tre apici singoli. \n",
    "Tutto il testo qui dentro viene ignorato dall'interprete.\n",
    "''' \n",
    "\n",
    "print(\"Fine degli esempi di commenti\")"
   ]
  },
  {
   "cell_type": "markdown",
   "id": "intro-variabili-title",
   "metadata": {},
   "source": [
    "# Introduzione alle Variabili in Python: Concetti, Oggetti e Memoria\n",
    "\n",
    "In Python, le variabili sono riferimenti ad oggetti. Ogni variabile punta a un oggetto in memoria, e ogni oggetto possiede un tipo specifico (come `int`, `float`, `str`, `bool`, ecc.) e un’occupazione in memoria che può essere misurata, ad esempio, con la funzione `sys.getsizeof()`.\n",
    "\n",
    "Il seguente notebook spiega questi concetti e mostra esempi pratici per ogni tipologia di variabile."
   ]
  },
  {
   "cell_type": "markdown",
   "id": "variabili-oggetti",
   "metadata": {},
   "source": [
    "## Le Variabili come Oggetti\n",
    "\n",
    "In Python **tutto è un oggetto**. Quando assegni un valore a una variabile, l'interprete crea un oggetto e la variabile memorizza il riferimento a tale oggetto.\n",
    "\n",
    "Ogni oggetto ha:\n",
    "\n",
    "- Un **tipo** (ad es. `int`, `float`, `str`, `bool`).\n",
    "- Un'**occupazione in memoria**, che può variare a seconda del valore e del tipo.\n",
    "\n",
    "Nei prossimi esempi verranno illustrati i principali tipi di variabili."
   ]
  },
  {
   "cell_type": "markdown",
   "id": "variabile-intera-desc",
   "metadata": {},
   "source": [
    "## Variabile Intera (`int`)\n",
    "\n",
    "Le variabili intere rappresentano numeri senza parte decimale. In CPython, un intero piccolo tipico occupa circa **28 byte**.\n",
    "\n",
    "Esempio: il numero `10`."
   ]
  },
  {
   "cell_type": "code",
   "execution_count": 1,
   "id": "int-example",
   "metadata": {},
   "outputs": [
    {
     "name": "stdout",
     "output_type": "stream",
     "text": [
      "10\n",
      "Intero: 10\n",
      "Memoria occupata da x: 28 byte\n"
     ]
    }
   ],
   "source": [
    "import sys\n",
    "\n",
    "# Esempio di variabile intera\n",
    "x = 10  # Assegna il valore 10 a x\n",
    "\n",
    "# Stampa solo la variabile\n",
    "print(x)\n",
    "\n",
    "# Stampa con del testo e la variabile sulla stessa riga\n",
    "print('Intero:', x)\n",
    "\n",
    "# Stampa la quantità di memoria occupata dalla variabile\n",
    "print('Memoria occupata da x:', sys.getsizeof(x), 'byte')"
   ]
  },
  {
   "cell_type": "markdown",
   "id": "variabile-float-desc",
   "metadata": {},
   "source": [
    "## Variabile Float (`float`)\n",
    "\n",
    "Le variabili float rappresentano numeri con parte decimale. In CPython un float occupa solitamente circa **24 byte**.\n",
    "\n",
    "Esempio: il numero `3.14`."
   ]
  },
  {
   "cell_type": "code",
   "execution_count": 2,
   "id": "float-example",
   "metadata": {},
   "outputs": [
    {
     "name": "stdout",
     "output_type": "stream",
     "text": [
      "3.14\n",
      "Float: 3.14\n",
      "Memoria occupata da pi: 24 byte\n"
     ]
    }
   ],
   "source": [
    "import sys\n",
    "\n",
    "# Esempio di variabile float\n",
    "pi = 3.14  # Assegna il valore 3.14 a pi\n",
    "\n",
    "# Stampa solo la variabile\n",
    "print(pi)\n",
    "\n",
    "# Stampa con del testo e la variabile sulla stessa riga\n",
    "print('Float:', pi)\n",
    "\n",
    "# Stampa la quantità di memoria occupata dalla variabile\n",
    "print('Memoria occupata da pi:', sys.getsizeof(pi), 'byte')"
   ]
  },
  {
   "cell_type": "markdown",
   "id": "variabile-stringa-desc",
   "metadata": {},
   "source": [
    "## Variabile Stringa (`str`)\n",
    "\n",
    "Le variabili stringa memorizzano sequenze di caratteri. L'occupazione in memoria di una stringa dipende dalla sua lunghezza. Ad esempio, in CPython una stringa vuota occupa circa **41 byte**; per ogni carattere aggiunto, l'occupazione aumenta di un byte.\n",
    "\n",
    "Esempio: la stringa \"Alice\"."
   ]
  },
  {
   "cell_type": "code",
   "execution_count": 5,
   "id": "string-example",
   "metadata": {},
   "outputs": [
    {
     "name": "stdout",
     "output_type": "stream",
     "text": [
      "Alice\n",
      "Stringa: Alice\n",
      "Memoria occupata da nome: 46 byte\n",
      "\n",
      "Stringa: \n",
      "Memoria occupata da nome: 41 byte\n"
     ]
    }
   ],
   "source": [
    "import sys\n",
    "\n",
    "# Esempio di variabile stringa\n",
    "nome = \"Alice\"  # Assegna la stringa \"Alice\" a nome\n",
    "\n",
    "# Stampa solo la variabile\n",
    "print(nome)\n",
    "\n",
    "# Stampa con del testo e la variabile sulla stessa riga\n",
    "print('Stringa:', nome)\n",
    "\n",
    "# Stampa la quantità di memoria occupata dalla variabile\n",
    "print('Memoria occupata da nome:', sys.getsizeof(nome), 'byte')\n",
    "\n",
    "# Esempio di variabile stringa vuota\n",
    "vuota = \"\" # Assegna la stringa vuota alla variabile nome\n",
    "\n",
    "# Stampa solo la variabile\n",
    "print(vuota)\n",
    "\n",
    "# Stampa con del testo e la variabile sulla stessa riga\n",
    "print('Stringa:', vuota)\n",
    "\n",
    "# Stampa la quantità di memoria occupata dalla variabile\n",
    "print('Memoria occupata da nome:', sys.getsizeof(vuota), 'byte')"
   ]
  },
  {
   "cell_type": "markdown",
   "id": "variabile-booleana-desc",
   "metadata": {},
   "source": [
    "## Variabile Booleana (`bool`)\n",
    "\n",
    "Le variabili booleane rappresentano valori logici, ovvero `True` o `False`. In CPython, una variabile booleana occupa generalmente una quantità di memoria simile a quella degli interi, intorno ai **28 byte**.\n",
    "\n",
    "Esempio: il valore `True`."
   ]
  },
  {
   "cell_type": "code",
   "execution_count": 6,
   "id": "bool-example",
   "metadata": {},
   "outputs": [
    {
     "name": "stdout",
     "output_type": "stream",
     "text": [
      "True\n",
      "Booleano: True\n",
      "Memoria occupata da is_attivo: 28 byte\n"
     ]
    }
   ],
   "source": [
    "import sys\n",
    "\n",
    "# Esempio di variabile booleana\n",
    "is_attivo = True  # Assegna il valore True a is_attivo\n",
    "\n",
    "# Stampa solo la variabile\n",
    "print(is_attivo)\n",
    "\n",
    "# Stampa con del testo e la variabile sulla stessa riga\n",
    "print('Booleano:', is_attivo)\n",
    "\n",
    "# Stampa la quantità di memoria occupata dalla variabile\n",
    "print('Memoria occupata da is_attivo:', sys.getsizeof(is_attivo), 'byte')"
   ]
  },
  {
   "cell_type": "markdown",
   "id": "conclusioni",
   "metadata": {},
   "source": [
    "## Conclusioni\n",
    "\n",
    "In questo notebook abbiamo visto innanzitutto come inserire commenti in Python, sia a riga singola che su più righe, e successivamente abbiamo approfondito il concetto di variabile. Abbiamo evidenziato che in Python ogni variabile è un oggetto, illustrandone il tipo e l’occupazione in memoria per i tipi più comuni: **interi**, **float**, **stringhe** e **booleani**.\n",
    "\n",
    "Prova a modificare i valori e a sperimentare con altre tipologie di oggetti per approfondire il funzionamento della gestione della memoria in Python."
   ]
  }
 ],
 "metadata": {
  "kernelspec": {
   "display_name": "Python 3",
   "language": "python",
   "name": "python3"
  },
  "language_info": {
   "codemirror_mode": {
    "name": "ipython",
    "version": 3
   },
   "file_extension": ".py",
   "mimetype": "text/x-python",
   "name": "python",
   "nbconvert_exporter": "python",
   "pygments_lexer": "ipython3",
   "version": "3.12.0"
  }
 },
 "nbformat": 4,
 "nbformat_minor": 5
}
