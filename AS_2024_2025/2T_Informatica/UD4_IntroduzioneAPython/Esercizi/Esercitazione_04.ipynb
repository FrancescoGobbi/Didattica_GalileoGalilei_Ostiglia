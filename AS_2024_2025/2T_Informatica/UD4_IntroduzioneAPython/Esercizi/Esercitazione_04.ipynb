{
 "cells": [
  {
   "cell_type": "markdown",
   "metadata": {},
   "source": [
    "# Esercitazione 04 - Introduzione a Python\n",
    "\n",
    "**Francesco Gobbi**  \n",
    "*I.I.S.S. Galileo Galilei, Ostiglia*  "
   ]
  },
  {
   "cell_type": "markdown",
   "metadata": {},
   "source": [
    "# Operazioni Aritmetiche di Base in Python\n",
    "\n",
    "In questo notebook vedremo come eseguire le operazioni aritmetiche di base in Python, acquisendo le variabili tramite input. Le operazioni trattate sono:\n",
    "- Somma\n",
    "- Differenza\n",
    "- Prodotto\n",
    "- Divisione (con controllo del denominatore)\n",
    "- Modulo\n",
    "- Potenza\n",
    "\n",
    "Ogni sezione contiene una spiegazione teorica e un esempio pratico in codice."
   ]
  },
  {
   "cell_type": "markdown",
   "metadata": {},
   "source": [
    "## Somma\n",
    "\n",
    "La somma di due numeri si esegue con l'operatore `+`. In questo esempio, il programma chiede all'utente di inserire due numeri (convertiti in float) e ne calcola la somma."
   ]
  },
  {
   "cell_type": "code",
   "execution_count": null,
   "metadata": {},
   "outputs": [],
   "source": [
    "# Esempio di somma di due numeri\n",
    "a = float(input('Inserisci il primo numero: '))\n",
    "b = float(input('Inserisci il secondo numero: '))\n",
    "somma = a + b\n",
    "print('La somma è:', somma)"
   ]
  },
  {
   "cell_type": "markdown",
   "metadata": {},
   "source": [
    "## Differenza\n",
    "\n",
    "La differenza tra due numeri si calcola usando l'operatore `-`. Nell'esempio seguente, il programma acquisisce due numeri e ne stampa la differenza."
   ]
  },
  {
   "cell_type": "code",
   "execution_count": null,
   "metadata": {},
   "outputs": [],
   "source": [
    "# Esempio di differenza tra due numeri\n",
    "a = float(input('Inserisci il primo numero: '))\n",
    "b = float(input('Inserisci il secondo numero: '))\n",
    "differenza = a - b\n",
    "print('La differenza è:', differenza)"
   ]
  },
  {
   "cell_type": "markdown",
   "metadata": {},
   "source": [
    "## Prodotto\n",
    "\n",
    "Il prodotto di due numeri viene calcolato con l'operatore `*`. Il seguente esempio richiede all'utente due numeri e mostra il loro prodotto."
   ]
  },
  {
   "cell_type": "code",
   "execution_count": null,
   "metadata": {},
   "outputs": [],
   "source": [
    "# Esempio di prodotto di due numeri\n",
    "a = float(input('Inserisci il primo numero: '))\n",
    "b = float(input('Inserisci il secondo numero: '))\n",
    "prodotto = a * b\n",
    "print('Il prodotto è:', prodotto)"
   ]
  },
  {
   "cell_type": "markdown",
   "metadata": {},
   "source": [
    "## Divisione\n",
    "\n",
    "La divisione utilizza l'operatore `/`. È importante controllare che il denominatore non sia zero per evitare errori. Nell'esempio seguente, se il denominatore è diverso da zero viene eseguita la divisione."
   ]
  },
  {
   "cell_type": "code",
   "execution_count": null,
   "metadata": {},
   "outputs": [],
   "source": [
    "# Esempio di divisione con controllo del denominatore\n",
    "a = float(input('Inserisci il numeratore: '))\n",
    "b = float(input('Inserisci il denominatore: '))\n",
    "\n",
    "# Questa è una condizione per evitare la divisione per zero, quindi una domanda\n",
    "if b != 0: # Caso VERO, quindi il denominatore è diverso da zero\n",
    "    divisione = a / b\n",
    "    print('Il risultato della divisione è:', divisione)\n",
    "else: # Caso FALSO, quindi il denominatore è zero\n",
    "    print('Errore: divisione per zero')"
   ]
  },
  {
   "cell_type": "markdown",
   "metadata": {},
   "source": [
    "## Modulo\n",
    "\n",
    "Il modulo (o resto della divisione) si calcola con l'operatore `%`. Nella maggior parte dei casi si usano numeri interi, pertanto si effettua una conversione in `int`."
   ]
  },
  {
   "cell_type": "code",
   "execution_count": null,
   "metadata": {},
   "outputs": [],
   "source": [
    "# Esempio di calcolo del modulo, quindi del resto della divisione\n",
    "a = int(input('Inserisci il primo numero (intero): '))\n",
    "b = int(input('Inserisci il secondo numero (intero): '))\n",
    "modulo = a % b\n",
    "print('Il resto della divisione è:', modulo)"
   ]
  },
  {
   "cell_type": "markdown",
   "metadata": {},
   "source": [
    "## Potenza\n",
    "\n",
    "La potenza si calcola usando l'operatore `**`. Nel seguente esempio, il programma chiede all'utente di inserire la base e l'esponente, quindi calcola la potenza."
   ]
  },
  {
   "cell_type": "code",
   "execution_count": null,
   "metadata": {},
   "outputs": [],
   "source": [
    "# Esempio di potenza\n",
    "a = float(input('Inserisci la base: '))\n",
    "b = float(input('Inserisci l\\'esponente: '))\n",
    "potenza = a ** b\n",
    "print('Il risultato della potenza è:', potenza)"
   ]
  },
  {
   "cell_type": "markdown",
   "metadata": {},
   "source": [
    "## Esercizio 1\n",
    "\n",
    "Scrivi un programma in Python che esegua le seguenti operazioni:\n",
    "\n",
    "- Richieda in input tre numeri.\n",
    "- Calcoli e stampi la somma dei primi due numeri.\n",
    "- Calcoli e stampi la differenza tra il terzo numero e il primo.\n",
    "- Calcoli e stampi il prodotto tra il primo e il terzo numero.\n",
    "- Calcoli e stampi la potenza del primo numero elevato al terzo.\n",
    "\n",
    "### Suggerimento:\n",
    "Utilizza le funzioni `input()` e `print()`, e ricorda di convertire gli input nel tipo numerico appropriato."
   ]
  },
  {
   "cell_type": "code",
   "execution_count": null,
   "metadata": {},
   "outputs": [],
   "source": [
    "# Esercizio: inserisci qui il codice dell'Esercizio 1\n",
    "# TO DO..."
   ]
  },
  {
   "cell_type": "markdown",
   "metadata": {},
   "source": [
    "## Esercizio 2\n",
    "\n",
    "Scrivi un programma in Python che esegua le seguenti operazioni:\n",
    "\n",
    "- Richieda in input tre numeri (A, B e C)\n",
    "- Alla variabile A deve essere aggiunta la variaible C\n",
    "- Alla variabile B deve essere aggiunto il prodotto tra A e C\n",
    "- Alla variaible C deve essere sottratto il valore di B\n",
    "- Stampare poi i valori delle tre variabili\n",
    "\n",
    "### Suggerimento:\n",
    "Utilizza le funzioni `input()` e `print()`, e ricorda di convertire gli input nel tipo numerico appropriato."
   ]
  },
  {
   "cell_type": "code",
   "execution_count": null,
   "metadata": {},
   "outputs": [],
   "source": [
    "# Esercizio: inserisci qui il codice dell'Esercizio 1\n",
    "# TO DO..."
   ]
  }
 ],
 "metadata": {
  "kernelspec": {
   "display_name": "Python 3",
   "language": "python",
   "name": "python3"
  },
  "language_info": {
   "codemirror_mode": {
    "name": "ipython",
    "version": 3
   },
   "file_extension": ".py",
   "mimetype": "text/x-python",
   "name": "python",
   "nbconvert_exporter": "python",
   "pygments_lexer": "ipython3",
   "version": "3.12.0"
  }
 },
 "nbformat": 4,
 "nbformat_minor": 2
}
