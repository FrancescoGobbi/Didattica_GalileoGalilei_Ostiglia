{
 "cells": [
  {
   "cell_type": "markdown",
   "id": "4c64d22e",
   "metadata": {},
   "source": [
    "# Introduzione a Python\n",
    "\n",
    "**Francesco Gobbi**  \n",
    "*I.I.S.S. Galileo Galilei, Ostiglia*  \n",
    "\n",
    "\n",
    "In questo notebook impareremo le basi della sintassi Python e svolgeremo esercizi pratici."
   ]
  },
  {
   "cell_type": "markdown",
   "id": "48b8ba15",
   "metadata": {},
   "source": [
    "## 1. Primo programma\n",
    "```python\n",
    "print('Ciao, mondo!')\n",
    "```\n",
    "Esegui la cella per vedere l'output."
   ]
  },
  {
   "cell_type": "code",
   "execution_count": null,
   "id": "3acdb619",
   "metadata": {},
   "outputs": [],
   "source": [
    "print('Ciao, mondo!')  # Stampa a schermo la stringa 'Ciao, mondo!'\n",
    "\n",
    "print(\"Ciao a tutti!\") # Ulteriore stampa con doppio apice\n",
    "\n",
    "# Questo è un commento a riga singola\n",
    "\n",
    "# Python supporta anche i commenti multilinea\n",
    "\"\"\"\n",
    "Questo è un commento\n",
    "multilinea\n",
    "\"\"\"\n",
    "# Questo commento verrà comunque stampato dal compilatore di Python, per quanto non incida nel codice"
   ]
  },
  {
   "cell_type": "markdown",
   "id": "c24a5943",
   "metadata": {},
   "source": [
    "### Esercizio\n",
    "Prova a stampare una frase diversa usando `print()`."
   ]
  },
  {
   "cell_type": "markdown",
   "id": "dfcbc9ca",
   "metadata": {},
   "source": [
    "## 2. Variabili e assegnazione\n",
    "```python\n",
    "# Assegnazione di variabili\n",
    "a = 5\n",
    "b = 3.14\n",
    "nome = 'Alice'\n",
    "```"
   ]
  },
  {
   "cell_type": "code",
   "execution_count": null,
   "id": "b1e724fe",
   "metadata": {},
   "outputs": [],
   "source": [
    "import sys # Importa il modulo sys per l'interazione con il sistema (questo possiamo associalerlo ad una libreria in C)\n",
    "\n",
    "# In Python non è necessario dichiarare il tipo di variabile, perché Python è un linguaggio a tipizzazione dinamica\n",
    "# Le variabili sono etichette che puntano ad oggetti in memoria\n",
    "\n",
    "# Creo gli oggetti\n",
    "a = 5  # Assegna il valore 5 alla variabile a\n",
    "b = 3.14  # Assegna il valore 3.14 alla variabile b\n",
    "nome = 'Alice'  # Assegna la stringa 'Alice' alla variabile nome\n",
    "print(a, b, nome)  # Stampa i valori di a, b e nome separati da spazio\n",
    "\n",
    "# Vado a concatenare le variabili a, b e nome in una stringa, quindi con in messaggio iniziale\n",
    "# Stampa del messaggio e della variabile\n",
    "print('Il valore di a è:', a)  # Stampa il messaggio e il valore di a\n",
    "# Stampa del messaggio e della variabile\n",
    "print('Il valore di b è:', b)  # Stampa il messaggio e il valore di b\n",
    "# Stampa del messaggio e della variabile\n",
    "print('Il valore di nome è:', nome)  # Stampa il messaggio e il valore di nome\n",
    "\n",
    "# Stampo il tipo degli oggetti\n",
    "print('La variabile a è di tipo:', type(a))  # Stampa il tipo della variabile a\n",
    "print('La variabile b è di tipo:', type(b))  # Stampa il tipo della variabile b\n",
    "print('La variabile nome è di tipo:', type(nome))  # Stampa il tipo della variabile nome\n",
    "\n",
    "# Stampo la memoria occupata dagli oggetti\n",
    "print('La variabile a occupa:', sys.getsizeof(a), 'byte')  # Stampa la memoria occupata dalla variabile a\n",
    "print('La variabile b occupa:', sys.getsizeof(b), 'byte')  # Stampa la memoria occupata dalla variabile b\n",
    "print('La variabile nome occupa:', sys.getsizeof(nome), 'byte')  # Stampa la memoria occupata dalla variabile nome\n",
    "\n",
    "nome = 'Alice2' \n",
    "print(nome)"
   ]
  },
  {
   "cell_type": "code",
   "execution_count": null,
   "id": "1dfb3ea2",
   "metadata": {},
   "outputs": [],
   "source": [
    "# Esempio 1: Riassegnazione di variabile \n",
    "import sys \n",
    "\n",
    "a = 5 # int\n",
    "print('La variabile a è di tipo:', type(a))\n",
    "print('La variabile a occupa:', sys.getsizeof(a), 'byte')\n",
    "\n",
    "a = 3.14\n",
    "print('La variabile a è di tipo:', type(a))\n",
    "print('La variabile a occupa:', sys.getsizeof(a), 'byte')\n"
   ]
  },
  {
   "cell_type": "code",
   "execution_count": null,
   "id": "21f14f76",
   "metadata": {},
   "outputs": [],
   "source": [
    "# Esempio 2: Copia di variabile e riassegnazione\n",
    "\n",
    "# Non serve imporare ancora sys, l'ho già importata nel blocco sopra\n",
    "a = 5\n",
    "b = a\n",
    "\n",
    "print('La variabile a è di tipo:', type(a))\n",
    "print('La variabile a occupa:', sys.getsizeof(a), 'byte')\n",
    "print('La variabile a è di tipo:', type(b))\n",
    "print('La variabile a occupa:', sys.getsizeof(b), 'byte')\n",
    "print('Il numero a é:', a, ', il numero b è:', b)\n",
    "\n",
    "a = 10\n",
    "print('La variabile a è di tipo:', type(a))\n",
    "print('La variabile a occupa:', sys.getsizeof(a), 'byte')\n",
    "print('La variabile a è di tipo:', type(b))\n",
    "print('La variabile a occupa:', sys.getsizeof(b), 'byte')\n",
    "print('Il numero a é:', a, ', il numero b è:', b)\n"
   ]
  },
  {
   "cell_type": "code",
   "execution_count": null,
   "id": "1729b066",
   "metadata": {},
   "outputs": [],
   "source": [
    "#Esempio 3: Copia di variabile e riassegnazione con incremento\n",
    "# Non serve imporare ancora sys, l'ho già importata nel blocco sopra\n",
    "import sys\n",
    "c = 5\n",
    "d = c\n",
    "print('La variabile c è di tipo:', type(c))\n",
    "print('La variabile c occupa:', sys.getsizeof(c), 'byte')\n",
    "print('ID di c:', id(c))\n",
    "print('La variabile d è di tipo:', type(d))\n",
    "print('La variabile d occupa:', sys.getsizeof(d), 'byte')\n",
    "print('ID di d:', id(d))\n",
    "print('Il numero c é:', c, ', il numero d è:', d)\n",
    "\n",
    "c = c + 1\n",
    "print('La variabile c è di tipo:', type(c))\n",
    "print('La variabile c occupa:', sys.getsizeof(c), 'byte')\n",
    "print('ID di c:', id(c))\n",
    "print('La variabile d è di tipo:', type(d))\n",
    "print('La variabile d occupa:', sys.getsizeof(d), 'byte')\n",
    "print('ID di d:', id(d))\n",
    "print('Il numero c é:', c, ', il numero d è:', d)"
   ]
  },
  {
   "cell_type": "code",
   "execution_count": null,
   "id": "beddab94",
   "metadata": {},
   "outputs": [],
   "source": [
    "# Esempio 4\n",
    "x = 5\n",
    "y = 10"
   ]
  },
  {
   "cell_type": "code",
   "execution_count": null,
   "id": "0dbcbfbc",
   "metadata": {},
   "outputs": [],
   "source": [
    "print(\"Il numero x:\", x, \"Il numero y:\", y)"
   ]
  },
  {
   "cell_type": "code",
   "execution_count": null,
   "id": "9f827379",
   "metadata": {},
   "outputs": [],
   "source": [
    "x = y + 2\n",
    "print(x)\n",
    "\n",
    "%whos # Comando per identificare e descrivere ogni oggetto/libreria/modulo presente \n",
    "# nella memoria di Python (interprete Python) fino a quel momento"
   ]
  },
  {
   "cell_type": "code",
   "execution_count": null,
   "id": "f75ad4c4",
   "metadata": {},
   "outputs": [],
   "source": [
    "z = 4\n",
    "e = z\n",
    "t = \"ciao\"\n",
    "i = 2\n",
    "\n",
    "%whos"
   ]
  },
  {
   "cell_type": "markdown",
   "id": "50f039a7",
   "metadata": {},
   "source": [
    "### Esercizio\n",
    "Crea due variabili numeriche e calcola la loro somma. Stampa il risultato."
   ]
  },
  {
   "cell_type": "markdown",
   "id": "add33a11",
   "metadata": {},
   "source": [
    "## 3. Operazioni aritmetiche\n",
    "```python\n",
    "# Somma, sottrazione, moltiplicazione, divisione\n",
    "x = 10\n",
    "y = 3\n",
    "print(x + y)\n",
    "print(x - y)\n",
    "print(x * y)\n",
    "print(x / y)\n",
    "```"
   ]
  },
  {
   "cell_type": "code",
   "execution_count": null,
   "id": "866c08c2",
   "metadata": {},
   "outputs": [],
   "source": [
    "# Questo codice non va a modificare il valore di x e y, perché in Python le variabili sono etichette che puntano ad oggetti in memoria.\n",
    "x = 10  # Assegna 10 alla variabile x\n",
    "y = 3  # Assegna 3 alla variabile y\n",
    "print('Somma:', x + y)  # Calcola e stampa la somma di x e y\n",
    "print('Sottrazione:', x - y)  # Calcola e stampa la differenza di x e y\n",
    "print('Moltiplicazione:', x * y)  # Calcola e stampa il prodotto di x e y\n",
    "print('Divisione:', x / y)  # Calcola e stampa il quoziente di x e y\n",
    "\n",
    "%whos"
   ]
  },
  {
   "cell_type": "markdown",
   "id": "5d83faa9",
   "metadata": {},
   "source": [
    "### Esercizio\n",
    "Calcola il resto della divisione tra due numeri a tua scelta."
   ]
  },
  {
   "cell_type": "code",
   "execution_count": null,
   "id": "e27b4cf1",
   "metadata": {},
   "outputs": [],
   "source": [
    "a = 5\n",
    "b = 2\n",
    "\n",
    "risultato = a / b\n",
    "resto = a % b\n",
    "\n",
    "print(a, \"/\" , b, \" = \", risultato)\n",
    "print(\"Con resto di\", resto)\n",
    "\n",
    "%whos"
   ]
  },
  {
   "cell_type": "markdown",
   "id": "1b867035",
   "metadata": {},
   "source": [
    "## 4. Stringhe e concatenazione\n",
    "```python\n",
    "saluto = 'Ciao'\n",
    "luogo = 'Scuola'\n",
    "print(saluto + ' ' + luogo)\n",
    "```"
   ]
  },
  {
   "cell_type": "code",
   "execution_count": null,
   "id": "cb1d68c2",
   "metadata": {},
   "outputs": [],
   "source": [
    "saluto = 'Ciao'  # Definisce una stringa da salutare\n",
    "luogo = 'Scuola'  # Definisce una stringa per il luogo\n",
    "print(saluto + ' ' + luogo)  # Concatena saluto e luogo con uno spazio e stampa\n",
    "\n",
    "nuovaStringa = saluto + ' ' + luogo\n",
    "print(nuovaStringa)\n",
    "\n",
    "%whos # Comando per verificare tutti gli oggetti referenziati creati"
   ]
  },
  {
   "cell_type": "code",
   "execution_count": null,
   "id": "b65d3411",
   "metadata": {},
   "outputs": [],
   "source": [
    "x = 10\n",
    "y = 11\n",
    "z = 12\n",
    "\n",
    "a = 100\n",
    "\n",
    "%whos"
   ]
  },
  {
   "cell_type": "markdown",
   "id": "acf00f00",
   "metadata": {},
   "source": [
    "### Esercizio\n",
    "Chiedi all'utente il suo nome e stampa un messaggio di benvenuto."
   ]
  },
  {
   "cell_type": "markdown",
   "id": "02e0e110",
   "metadata": {},
   "source": [
    "## 5. Lettura di input e calcoli\n",
    "```python\n",
    "# Leggere dati dall'utente e calcolare\n",
    "numero1 = float(input('Inserisci il primo numero: '))\n",
    "numero2 = float(input('Inserisci il secondo numero: '))\n",
    "print('Somma:', numero1 + numero2)\n",
    "```"
   ]
  },
  {
   "cell_type": "code",
   "execution_count": null,
   "id": "8e5d8375",
   "metadata": {},
   "outputs": [],
   "source": [
    "#input() # Funzione per prendere input dall'utente\n",
    "# Di default input() prende in input una stringa\n",
    "# Successivamente va convertita in base alla necessità\n",
    "numero1 = float(input('Inserisci il primo numero: '))  # Converte l'input in float per il primo numero\n",
    "numero2 = float(input('Inserisci il secondo numero: '))  # Converte l'input in float per il secondo numero\n",
    "print('Somma:', numero1 + numero2)  # Calcola e stampa la somma dei due numeri\n",
    "\n",
    "# numero1 = float(input('Inserisci il primo numero: '))\n",
    "# La riga di codice sopra si ha l'input di un numero\n",
    "# questo perchè input() prende in input una stringa in Python\n",
    "# la funzione int() va pi a fare il cast della stringa ad un numero intero\n",
    "\n",
    "# Quindi in Python si prende in input sempre una stringa, che dovrà poi essere convertito in base alla\n",
    "# necessità di quanto richiesto\n",
    "\n",
    "%whos"
   ]
  },
  {
   "cell_type": "code",
   "execution_count": null,
   "id": "383851ad",
   "metadata": {},
   "outputs": [],
   "source": [
    "val = int(input(\"Inserisci un qualcosa: \"))\n",
    "print(val)\n",
    "print(type(val))\n",
    "\n",
    "# Input di una stringa\n",
    "str = input(\"Inserisci un messaggio:\")\n",
    "print(\"Il messaggio è:\", str)"
   ]
  },
  {
   "cell_type": "markdown",
   "id": "2360356a",
   "metadata": {},
   "source": [
    "### Esercizio\n",
    "Modifica il programma sopra per calcolare anche la differenza, il prodotto e il quoziente."
   ]
  },
  {
   "cell_type": "markdown",
   "id": "3f100e2a",
   "metadata": {},
   "source": [
    "## 6. Condizionali (`if`)\n",
    "```python\n",
    "# Verificare se un numero è pari o dispari\n",
    "numero = int(input('Inserisci un numero intero: '))\n",
    "if numero % 2 == 0:\n",
    "    print(numero, 'è pari')\n",
    "else:\n",
    "    print(numero, 'è dispari')\n",
    "```"
   ]
  },
  {
   "cell_type": "code",
   "execution_count": null,
   "id": "eea6ce01",
   "metadata": {},
   "outputs": [],
   "source": [
    "numero = int(input('Inserisci un numero intero: '))  # Richiede un numero intero all'utente\n",
    "if numero % 2 == 0:  # Controlla se il numero è divisibile per 2\n",
    "    print(numero, 'è pari')  # Se vero, stampa che il numero è pari\n",
    "else:\n",
    "    print(numero, 'è dispari')  # Altrimenti, stampa che il numero è dispari\n",
    "\n",
    "# N.B. Python non ha bisogno di dichiarare le variabili prima di usarle\n",
    "# N.B. In Python è essenziale l'indentazione per definire i blocchi di codice\n",
    "# Quindi è importante usare i tab in modo coerente, altrimenti ci saranno degli errori nel codice\n",
    "\n",
    "\n",
    "# Codice con errore: da togliere o commentare se non si vuole avere errori\n",
    "if numero % 2 == 0:  # Controlla se il numero è divisibile per 2\n",
    "print(numero, 'è pari')  # Se vero, stampa che il numero è pari\n",
    "else:\n",
    "    print(numero, 'è dispari')  # Altrimenti, stampa che il numero è dispari"
   ]
  },
  {
   "cell_type": "markdown",
   "id": "a9ddb11e",
   "metadata": {},
   "source": [
    "### Esercizio\n",
    "Scrivi un `if` per controllare se un numero è positivo, negativo o zero."
   ]
  },
  {
   "cell_type": "code",
   "execution_count": null,
   "id": "bdb163b4",
   "metadata": {},
   "outputs": [],
   "source": [
    "# Inserire un numero e verificare se questo è positivo\n",
    "num = int(input(\"Inserisci un numero: \"))\n",
    "\n",
    "if (num > 0):\n",
    "    print(\"Il numero\", num, \"è positivo!\")\n",
    "else:\n",
    "    print(\"Il numero\", num, \"è negativo!\")\n",
    "\n",
    "# Soluzione migliore e che considera anche lo zero!\n",
    "if (num > 0):\n",
    "    print(\"Il numero\", num, \"è positivo!\")\n",
    "elif (num == 0):\n",
    "    print(\"Il numero\", num, \"è zero!\")\n",
    "else:\n",
    "    print(\"Il numero\", num, \"è negativo!\")"
   ]
  },
  {
   "cell_type": "code",
   "execution_count": null,
   "id": "82d8f80e",
   "metadata": {},
   "outputs": [],
   "source": [
    "# Esercizio 1:\n",
    "# Creare un codice Python che prenda in input 3 numeri e stampi il maggiore tra i tre.\n",
    "\n",
    "x = int(input(\"Inserisci il primo numero: \"))\n",
    "y = int(input(\"Inserisci il secondo numero: \"))\n",
    "z = int(input(\"Inserisci il terzo numero: \"))\n",
    "\n",
    "if (x >= y) and (x >= z):\n",
    "    print(\"Il numero maggiore è:\", x)\n",
    "elif (y >= x) and (y >= z):\n",
    "    print(\"Il numero maggiore è:\", y)\n",
    "else:\n",
    "    print(\"Il numero maggiore è:\", z)"
   ]
  },
  {
   "cell_type": "code",
   "execution_count": null,
   "id": "10fa9208",
   "metadata": {},
   "outputs": [],
   "source": [
    "# Esercizio 2:\n",
    "# Creare un codice Python prenda in input un numero e verifichi se questo è divisibile per 3 e per 5.\n",
    "# N.B. Usare gli operatori logici AND, OR, NOT\n",
    "# In Python non esiste il \"switch case\" come in altri linguaggi di programmazione\n",
    "# In python l'AND logico si scrive \"and\"\n",
    "# In Python l'OR logico si scrive \"or\"\n",
    "# In Python il NOT logico si scrive \"not\"\n",
    "\n",
    "x = int(input(\"Inserisci un numero: \"))\n",
    "if (x % 3 == 0) and (x % 5 == 0):\n",
    "    print(\"Il numero\", x, \"è divisibile per 3 e per 5\")\n",
    "else:\n",
    "    print(\"Il numero\", x, \"NON è divisibile per 3 né per 5\")\n"
   ]
  },
  {
   "cell_type": "code",
   "execution_count": null,
   "id": "6834f16b",
   "metadata": {},
   "outputs": [],
   "source": [
    "# Esercizio 3:\n",
    "# Creare un codice Python prenda in input un numero intero ed un carattere.\n",
    "# Se il carattere è 'p' verificare se il numero è pari, se il carattere è 'd' verificare se il numero è dispari.\n",
    "# In caso contrario stampare un messaggio di errore.\n",
    "# N.B. Usare gli operatori logici AND, OR, NOT\n",
    "# N.B. Usare gli operatori di confronto ==, !=, <, >, <=, >=\n",
    "\n",
    "x = int(input(\"Inserisci un numero intero: \"))\n",
    "c = input(\"Inserisci un carattere ('p' per pari, 'd' per dispari): \")\n",
    "\n",
    "if (c == 'p') and (x % 2 == 0):\n",
    "    print(\"Il numero\", x, \"è pari\")\n",
    "elif (c == 'd') and (x % 2 != 0):\n",
    "    print(\"Il numero\", x, \"è dispari\")\n",
    "elif (c == 'p') and (x % 2 == 1):\n",
    "    print(\"Il numero\", x, \"NON è pari\")\n",
    "else:\n",
    "    print(\"Il numero\", x, \"NON è dispari\")\n"
   ]
  },
  {
   "cell_type": "markdown",
   "id": "f3478e2b",
   "metadata": {},
   "source": [
    "## 7. Ciclo `while`\n",
    "```python\n",
    "# Stampare i numeri da 0 a 4\n",
    "count = 0\n",
    "while count < 5:\n",
    "    print(count)\n",
    "    count += 1\n",
    "```"
   ]
  },
  {
   "cell_type": "code",
   "execution_count": null,
   "id": "c5f65771",
   "metadata": {},
   "outputs": [],
   "source": [
    "count = 0  # Inizializza il contatore a 0\n",
    "while count < 5:  # Continua finché count è minore di 5\n",
    "    print(count)  # Stampa il valore corrente di count\n",
    "    count += 1  # Incrementa count di 1 a ogni iterazione\n",
    "\n",
    "# N.B. In Python è essenziale l'indentazione per definire i blocchi di codice\n",
    "# Quindi è importante usare i tab/tabulazione in modo coerente, altrimenti ci saranno degli errori nel codice"
   ]
  },
  {
   "cell_type": "markdown",
   "id": "541d5a3c",
   "metadata": {},
   "source": [
    "### Esercizio\n",
    "Modifica il ciclo `while` per chiedere all'utente un numero e contare fino a quel numero."
   ]
  },
  {
   "cell_type": "markdown",
   "id": "69aceb04",
   "metadata": {},
   "source": [
    "## 8. Ciclo `for`\n",
    "```python\n",
    "# Stampare i numeri da 1 a 5\n",
    "for i in range(1, 6):\n",
    "    print(i)\n",
    "```"
   ]
  },
  {
   "cell_type": "code",
   "execution_count": null,
   "id": "414768d1",
   "metadata": {},
   "outputs": [],
   "source": [
    "i = 4\n",
    "\n",
    "for i in range(1, 6):  # Ripete i valori da 1 a 5 (incluso)\n",
    "    # Questo perchè range(1, 6) genera i numeri da 1 a 5\n",
    "    # Ovvero parte da 1, fino al numero 6 escluso, quindi si ferma al numero 5, questo compreso\n",
    "    print(i)  # Stampa il valore di i in ogni iterazione\n",
    "\n",
    "# N.B. In Python è essenziale l'indentazione per definire i blocchi di codice\n",
    "# Quindi è importante usare i tab/tabulazione in modo coerente, altrimenti ci saranno degli errori nel codice"
   ]
  },
  {
   "cell_type": "markdown",
   "id": "ec784376",
   "metadata": {},
   "source": [
    "### Esercizio\n",
    "Usa un ciclo `for` per sommare tutti i numeri da 1 a 10 e stampare il risultato."
   ]
  },
  {
   "cell_type": "markdown",
   "id": "9800cc7c",
   "metadata": {},
   "source": [
    "## 9. Calcolo del fattoriale con ciclo `for`"
   ]
  },
  {
   "cell_type": "code",
   "execution_count": null,
   "id": "74002c5f",
   "metadata": {},
   "outputs": [],
   "source": [
    "n = int(input('Inserisci un numero intero per il fattoriale: '))  # Numero di cui calcolare il fattoriale\n",
    "fact = 1  # Inizializza la variabile che conterrà il fattoriale\n",
    "for i in range(1, n + 1):  # Itera da 1 fino a n\n",
    "    fact *= i  # Moltiplica fact per i a ogni iterazione\n",
    "print(f'Il fattoriale di {n} è {fact}')  # Stampa il risultato finale\n",
    "\n",
    "# N.B. In Python è essenziale l'indentazione per definire i blocchi di codice\n",
    "# Quindi è importante usare i tab in modo coerente, altrimenti ci saranno degli errori nel codice"
   ]
  },
  {
   "cell_type": "markdown",
   "id": "49c77a62",
   "metadata": {},
   "source": [
    "### Esercizio\n",
    "Modifica il programma per calcolare il fattoriale usando un ciclo `while`."
   ]
  },
  {
   "cell_type": "markdown",
   "id": "67faec08",
   "metadata": {},
   "source": [
    "## 10. Sequenza di Fibonacci con ciclo `while`"
   ]
  },
  {
   "cell_type": "code",
   "execution_count": null,
   "id": "4d75db74",
   "metadata": {},
   "outputs": [],
   "source": [
    "n = int(input('Quanti termini di Fibonacci vuoi visualizzare? '))  # Numero di termini richiesti\n",
    "a, b = 0, 1  # Inizializza i primi due valori della sequenza\n",
    "count = 0  # Contatore per il numero di termini stampati\n",
    "while count < n:  # Continua finché count è minore di n\n",
    "    print(a)  # Stampa il valore corrente di a\n",
    "    a, b = b, a + b  # Aggiorna a e b per il termine successivo\n",
    "    count += 1  # Incrementa il contatore\n",
    "\n",
    "# N.B. In Python è essenziale l'indentazione per definire i blocchi di codice\n",
    "# Quindi è importante usare i tab in modo coerente, altrimenti ci saranno degli errori nel codice"
   ]
  },
  {
   "cell_type": "markdown",
   "id": "c4e918ae",
   "metadata": {},
   "source": [
    "### Esercizio\n",
    "Scrivi un programma che utilizzi un ciclo `for` per generare la sequenza di Fibonacci."
   ]
  },
  {
   "cell_type": "code",
   "execution_count": null,
   "id": "1cf77ca7",
   "metadata": {},
   "outputs": [],
   "source": [
    "# Esercizio 4:\n",
    "# Creare un codice Python che prenda in input un numero intero n ed esegua la stampa dei numeri da 1 a n.\n",
    "\n",
    "# TO DO..."
   ]
  },
  {
   "cell_type": "code",
   "execution_count": null,
   "id": "05a42bff",
   "metadata": {},
   "outputs": [],
   "source": [
    "# Esercizio 5:\n",
    "# Creare un codice Python che prenda in input un numero intero n ed esegua la stampa dei numeri da n a 1.\n",
    "\n",
    "n = int(input('Inserisci un numero intero: '))  # Numero di cui calcolare il fattoriale\n",
    "for i in range(n, 0, -1):  # Itera da n fino a 1, quindi in senso inverso: parto da n, arrivo a 0 (escluso), con passo -1\n",
    "    print(i)  # Stampa il valore corrente di i\n"
   ]
  },
  {
   "cell_type": "code",
   "execution_count": null,
   "id": "c773af4b",
   "metadata": {},
   "outputs": [],
   "source": [
    "# Esercizio 6:\n",
    "# Creare un codice Python che prenda in input un numero intero n ed esegua la stampa dei numeri pari da 1 a n.\n",
    "\n",
    "# TO DO..."
   ]
  },
  {
   "cell_type": "code",
   "execution_count": null,
   "id": "9de489e2",
   "metadata": {},
   "outputs": [],
   "source": [
    "# Esercizio 7:\n",
    "# Creare un codice Python che pranda in input due numeri n ed m ed esegua la stampa della figura composta da n righe e m colonne di asterischi (*).\n",
    "\n",
    "n = int(input('Inserisci il numero di righe: '))  # Numero di righe\n",
    "m = int(input('Inserisci il numero di colonne: '))  # Numero di colonne\n",
    "\n",
    "for i in range(n):  # Itera per il numero di righe\n",
    "    for j in range(m):  # Itera per il numero di colonne\n",
    "        print('* ', end='')  # Stampa un asterisco senza andare a capo\n",
    "    print()  # Vai a capo dopo aver stampato una riga di asterischi\n",
    "\n",
    "# Non dobbiamo andare a capo dopo ogni asterisco, ma solo dopo ogni riga completa di asterischi (non esiste lo \\n come in C)\n",
    "# quindi usiamo end='' per evitare il newline automatico di print()\n"
   ]
  },
  {
   "cell_type": "code",
   "execution_count": null,
   "id": "7be7f1f6",
   "metadata": {},
   "outputs": [],
   "source": [
    "# Esercizio 8:\n",
    "# Creare un codice Python che prenda in input due numeri interi n ed m ed esegua la stampa della figura composta da\n",
    "# n righe e m colonne di numeri, dove ogni riga contiene il numero della riga stessa.\n",
    "\n",
    "n = int(input('Inserisci il numero di righe: '))  # Numero di righe\n",
    "m = int(input('Inserisci il numero di colonne: '))  # Numero di colonne    \n",
    "\n",
    "for i in range(1, n + 1):  # Itera per il numero di righe, partendo da 1 fino a n\n",
    "    for j in range(m):  # Itera per il numero di colonne\n",
    "        print(i, end=' ')  # Stampa il numero della riga corrente senza andare a capo\n",
    "    print()  # Vai a capo dopo aver stampato una riga completa"
   ]
  },
  {
   "cell_type": "code",
   "execution_count": null,
   "id": "3e57bf23",
   "metadata": {},
   "outputs": [],
   "source": [
    "# Esercizio 9:\n",
    "# Creare un codice Python che prenda in input due numeri n ed m ed esegua la stampa della figura composta da\n",
    "# asterischi (*) e spazi, in modo da formare un rettangolo vuoto all'interno, con solamente il contoro della figura.as_integer_ratio\n",
    "\n",
    "# TO DO..."
   ]
  },
  {
   "cell_type": "code",
   "execution_count": null,
   "id": "b45967ae",
   "metadata": {},
   "outputs": [],
   "source": [
    "# Esercizio 10:\n",
    "# Crea un codice Python che prenda in input due dati interi a e b e calcoli il loro MCD (Massimo Comun Divisore)\n",
    "# eseguendo l'algoritmo di Euclide.\n",
    "\n",
    "# TO DO..."
   ]
  },
  {
   "cell_type": "markdown",
   "id": "1a6b6ae0",
   "metadata": {},
   "source": [
    "## 11. Creazione di funzioni in Python"
   ]
  },
  {
   "cell_type": "code",
   "execution_count": null,
   "id": "0204a344",
   "metadata": {},
   "outputs": [],
   "source": [
    "def saluta(nome):  # Definisce una funzione che accetta un parametro 'nome'\n",
    "    return f'Ciao, {nome}!'  # Ritorna una stringa di saluto personalizzato\n",
    "    # f è una stringa formattata che permette di inserire variabili direttamente\n",
    "\n",
    "# Questo sotto è come il main() in C. In Python non è necessario ed l'interprete inizia ad interpretare il codice da qui\n",
    "# Ovvero dalla prima riga di codice che non è un commento e non è una definizione di funzione\n",
    "nome = input('Inserisci il tuo nome: ')  # Richiede il nome all'utente\n",
    "print(saluta(nome))  # Chiama la funzione saluta e stampa il risultato"
   ]
  },
  {
   "cell_type": "markdown",
   "id": "4e86adc9",
   "metadata": {},
   "source": [
    "### Esercizio\n",
    "Crea una funzione `area_cerchio(raggio)` che ritorni l'area di un cerchio e testala con input dell'utente."
   ]
  },
  {
   "cell_type": "markdown",
   "id": "14dd66a9",
   "metadata": {},
   "source": [
    "## 12. Funzione con parametri multipli"
   ]
  },
  {
   "cell_type": "code",
   "execution_count": null,
   "id": "c089d733",
   "metadata": {},
   "outputs": [],
   "source": [
    "def somma(a, b):  # Definisce una funzione che somma due numeri\n",
    "    return a + b  # Ritorna la somma di a e b\n",
    "\n",
    "# N.B. In Python è essenziale l'indentazione per definire i blocchi di codice\n",
    "# Quindi è importante usare i tab in modo coerente, altrimenti ci saranno degli errori nel codice\n",
    "# Anche la funzione è un blocco di codice, quindi è importante usare i tab in modo coerente al suo interno\n",
    "\n",
    "risultato = somma(3, 5)  # Esegue la funzione somma con due valori di esempio\n",
    "print(risultato)  # Stampa il risultato della somma"
   ]
  },
  {
   "cell_type": "markdown",
   "id": "b954c3fe",
   "metadata": {},
   "source": [
    "### Esercizio\n",
    "Crea una funzione `media(lista)` che calcoli la media dei numeri in una lista. Assicurati di commentare ogni riga di codice."
   ]
  },
  {
   "cell_type": "markdown",
   "id": "905e53e0",
   "metadata": {},
   "source": [
    "## 13. Funzione con valore di default"
   ]
  },
  {
   "cell_type": "code",
   "execution_count": null,
   "id": "5656ee88",
   "metadata": {},
   "outputs": [],
   "source": [
    "def potenza(base, esponente=2):  # Definisce una funzione con argomento opzionale\n",
    "    return base ** esponente  # Ritorna base elevato a esponente\n",
    "\n",
    "print(potenza(5))  # Chiama potenza usando l'esponente di default (2)\n",
    "print(potenza(2, 3))  # Chiama potenza specificando esponente 3"
   ]
  },
  {
   "cell_type": "markdown",
   "id": "942f70f0",
   "metadata": {},
   "source": [
    "### Esercizio\n",
    "Modifica la funzione `potenza` per gestire anche esponenti negativi. Comentare ogni riga di codice."
   ]
  },
  {
   "cell_type": "markdown",
   "id": "34345885",
   "metadata": {},
   "source": [
    "## 14. Funzione mdc tra due argomenti "
   ]
  },
  {
   "cell_type": "code",
   "execution_count": null,
   "id": "6e8cb7d1",
   "metadata": {},
   "outputs": [],
   "source": [
    "def mcd(a, b):  # Definisce una funzione che calcola il massimo comune divisore di due numeri\n",
    "    while b != 0:  # Continua finché il resto non è zero\n",
    "        a, b = b, a % b  # Aggiorna a con b e b con il resto della divisione di a per b\n",
    "    return a  # Ritorna il massimo comune divisore\n",
    "\n",
    "# Esempio di utilizzo\n",
    "numero1 = int(input('Inserisci il primo numero: '))  # Richiede il primo numero all'utente\n",
    "numero2 = int(input('Inserisci il secondo numero: '))  # Richiede il secondo numero all'utente\n",
    "print(f'Il MCD di {numero1} e {numero2} è {mcd(numero1, numero2)}')  # Stampa il risultato"
   ]
  },
  {
   "cell_type": "markdown",
   "id": "d1b4ad19",
   "metadata": {},
   "source": [
    "### Esercizio\n",
    "Crea una funzione (`stampaRettangolo(A, B)`) stampi un rettangolo di dimensioni AxB, con A e B passati come argomenti."
   ]
  },
  {
   "cell_type": "markdown",
   "id": "ab83c374",
   "metadata": {},
   "source": [
    "## 15. Funzione che esegue il fattoriale"
   ]
  },
  {
   "cell_type": "code",
   "execution_count": null,
   "id": "6064d02e",
   "metadata": {},
   "outputs": [],
   "source": [
    "def fibonacci(n):\n",
    "    fibo = 1 # Inizializza il fattoriale a 1\n",
    "    for i in range(1, n): # Itera da 1 a n-1\n",
    "        fibo = fibo * i\n",
    "    return fibo  # Ritorna il fattoriale di n\n",
    "\n",
    "# Esempio di utilizzo\n",
    "numero = int(input('Inserisci un numero per calcolare il fattoriale: '))  # Richiede un numero all'utente\n",
    "print(f'Il fattoriale di {numero} è {fibonacci(numero)}')  # Stampa il risultato\n",
    "\n",
    "# N.B. In Python è essenziale l'indentazione per definire i blocchi di codice\n",
    "# Quindi è importante usare i tab in modo coerente, altrimenti ci saranno degli errori nel codice\n",
    "# N.B. In Python è essenziale l'indentazione per definire i blocchi di codice\n",
    "\n",
    "numero2 = int(input('Inserisci un numero per calcolare il fattoriale: '))  # Richiede un numero all'utente\n",
    "fibo = fibonacci(numero2)  # Calcola il fattoriale del numero\n",
    "print(f'Il fattoriale di {numero2} è {fibo}')  # Stampa il risultato"
   ]
  },
  {
   "cell_type": "markdown",
   "id": "c73afcee",
   "metadata": {},
   "source": [
    "### Esercizio\n",
    "Crea una funzione che prenda in input un numero e verifichi se questo è perfetto. Fare una stampa per dire se questo è perfetto oppure no.\n",
    "\n",
    "Numeri perfetti: https://it.wikipedia.org/wiki/Numero_perfetto"
   ]
  }
 ],
 "metadata": {
  "kernelspec": {
   "display_name": "Python 3",
   "language": "python",
   "name": "python3"
  },
  "language_info": {
   "codemirror_mode": {
    "name": "ipython",
    "version": 3
   },
   "file_extension": ".py",
   "mimetype": "text/x-python",
   "name": "python",
   "nbconvert_exporter": "python",
   "pygments_lexer": "ipython3",
   "version": "3.12.0"
  }
 },
 "nbformat": 4,
 "nbformat_minor": 5
}
