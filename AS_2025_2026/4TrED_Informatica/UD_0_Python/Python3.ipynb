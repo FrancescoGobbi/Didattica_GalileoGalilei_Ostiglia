{
 "cells": [
  {
   "cell_type": "markdown",
   "metadata": {},
   "source": [
    "# Le liste in Python\n",
    "\n",
    "**Francesco Gobbi**  \n",
    "*I.I.S.S. Galileo Galilei, Ostiglia*  \n",
    "\n",
    "Lezione sulle liste con le loro caratteristiche in Python.\n",
    "\n",
    "Documentazione ufficiale Python: https://docs.python.org/3/\n"
   ]
  },
  {
   "cell_type": "markdown",
   "metadata": {},
   "source": [
    "## Teoria: cosa sono le liste\n",
    "Una **lista** in Python è una **sequenza mutabile**, quindi modificabile, di elementi.\n",
    "\n",
    "### Proprietà fondamentali\n",
    "- **Ordinata**: l'ordine degli elementi è mantenuto.\n",
    "- **Indicizzabile**: accesso tramite indici, possiamo direi quasi come un vettore (da 0, oppure indici negativi per partire dal fondo).\n",
    "- **Mutabile**: possiamo modificare, aggiungere o rimuovere elementi.\n",
    "- **Eterogenea**: può contenere tipi diversi (anche se spesso conviene omogenei).\n",
    "- **Iterabile**: può essere attraversata/letta con cicli `for`.\n",
    "\n",
    "### Creazione di liste\n",
    "- `lst = [1, 2, 3]` definisce una lista.\n",
    "- `lst = list(range(5))` crea `[0,1,2,3,4]`.  `range(5)` prende i numeri compresi tra 0 incluso e 5 esluso.\n",
    "- Liste vuote: `[]` (costrutto di Python) oppure `list()` (utilizzo di una funzione in Python).\n"
   ]
  },
  {
   "cell_type": "code",
   "execution_count": null,
   "metadata": {
    "trusted": true
   },
   "outputs": [],
   "source": [
    "# ESEMPIO 1 — Creazione e accesso\n",
    "\n",
    "numeri = [10, 20, 30, 40]\n",
    "print(numeri)          # stampa l'intera lista\n",
    "print(numeri[0])       # accesso al primo elemento (10)\n",
    "print(numeri[-1])      # accesso all'ultimo elemento (40)\n",
    "\n",
    "numeri[1] = 25         # modifica del secondo elemento\n",
    "print(numeri)          # [10, 25, 30, 40]"
   ]
  },
  {
   "cell_type": "markdown",
   "metadata": {},
   "source": [
    "## Operazioni fondamentali sulle liste\n",
    "\n",
    "- **Aggiungere**: `append(x)` aggiunge in coda, `insert(i,x)` inserisce a posizione `i`, considerando che il primo elemento della lista ha indice 0.\n",
    "- **Rimuovere**: `pop(i)` rimuove e ritorna l'elemento in posizione `i` (default: ultimo), `remove(x)` rimuove la prima occorrenza di `x`.\n",
    "- **Concatenare**: `+` unisce due liste.\n",
    "- **Ripetere**: `* n` ripete la lista `n` volte.\n",
    "- **Verificare appartenenza**: `x in lst`.\n",
    "- **Ordinare**: `sort()` ordina in place, `sorted(lst)` restituisce una nuova lista ordinata.\n"
   ]
  },
  {
   "cell_type": "code",
   "execution_count": null,
   "metadata": {
    "trusted": true
   },
   "outputs": [],
   "source": [
    "# ESEMPIO 2 — Operazioni base\n",
    "\n",
    "frutta = [\"mela\", \"banana\", \"arancia\"]\n",
    "frutta.append(\"kiwi\")          # aggiungiamo in coda\n",
    "print(frutta)\n",
    "\n",
    "frutta.remove(\"banana\")        # rimuoviamo la voce \"banana\"\n",
    "print(frutta)\n",
    "\n",
    "frutta.insert(1, \"pera\")       # inseriamo \"pera\" in posizione 1\n",
    "print(frutta)\n",
    "\n",
    "ordinata = sorted(frutta)      # nuova lista ordinata alfabeticamente\n",
    "print(ordinata)"
   ]
  },
  {
   "cell_type": "markdown",
   "metadata": {},
   "source": [
    "## Slicing e liste annidate\n",
    "\n",
    "- **Slicing**: `lst[a:b:c]` estrae sotto-liste (da `a` a `b-1` con passo `c`).\n",
    "- **Liste annidate**: una lista può contenere altre liste, utile per matrici o tabelle.\n"
   ]
  },
  {
   "cell_type": "code",
   "execution_count": null,
   "metadata": {
    "trusted": true
   },
   "outputs": [],
   "source": [
    "# ESEMPIO 3 — Slicing e liste annidate\n",
    "\n",
    "numeri = [0,1,2,3,4,5,6,7,8,9]\n",
    "print(numeri[2:6])        # elementi dall'indice 2 al 5: [2,3,4,5]\n",
    "print(numeri[:5])         # primi 5 elementi: [0,1,2,3,4]\n",
    "print(numeri[::2])        # un elemento ogni 2: [0,2,4,6,8]\n",
    "\n",
    "matrice = [[1,2,3],[4,5,6],[7,8,9]]\n",
    "print(matrice[0])         # prima riga: [1,2,3]\n",
    "print(matrice[1][2])      # elemento riga 2 colonna 3 = 6"
   ]
  },
  {
   "cell_type": "markdown",
   "metadata": {},
   "source": [
    "## Comprensioni di liste (list comprehensions)\n",
    "Sintassi compatta per creare liste da cicli/condizioni:\n",
    "```python\n",
    "[x**2 for x in range(5)]        \n",
    "# [0,1,4,9,16] Crea una lista con elementi in cui viene fatto l'elevamento al quadrato della x, con x che va a 0 a 4\n",
    "\n",
    "\n",
    "[x for x in range(10) if x%2==0]\n",
    "# [0,2,4,6,8] Crea una lista in cui gli elementi pari compresi tra 0 e 9\n",
    "```\n"
   ]
  },
  {
   "cell_type": "code",
   "execution_count": null,
   "metadata": {
    "trusted": true
   },
   "outputs": [],
   "source": [
    "# ESEMPIO 4 — Comprensioni di liste\n",
    "\n",
    "quadrati = [x**2 for x in range(6)]\n",
    "print(quadrati)               # [0,1,4,9,16,25]\n",
    "\n",
    "pari = [x for x in range(10) if x%2==0]\n",
    "print(pari)                   # [0,2,4,6,8]"
   ]
  },
  {
   "cell_type": "markdown",
   "id": "c623e423",
   "metadata": {},
   "source": [
    "## Buone pratiche\n",
    "1. Usa liste quando serve mantenere l'**ordine**.\n",
    "2. Evita modifiche pesanti dentro cicli; preferisci comprensioni per semplicità.\n",
    "3. Per verificare appartenenza frequente, i set sono più veloci delle liste (vedere lezione successiva)."
   ]
  },
  {
   "cell_type": "markdown",
   "id": "12fc44c7",
   "metadata": {},
   "source": [
    "## Esercizi\n",
    "### Esercizio 1 — Media dei voti\n",
    "**Consegna:** data una lista di voti, calcolare la media.\n"
   ]
  },
  {
   "cell_type": "code",
   "execution_count": null,
   "id": "e5ac83e1",
   "metadata": {
    "trusted": true
   },
   "outputs": [],
   "source": [
    "# SOLUZIONE ESERCIZIO 1\n",
    "\n",
    "voti = [6,7,8,9,10]\n",
    "media = sum(voti)/len(voti)  # somma diviso numero elementi\n",
    "print(media)"
   ]
  },
  {
   "cell_type": "markdown",
   "id": "4a98e668",
   "metadata": {},
   "source": [
    "### Esercizio 2 — Lista senza duplicati\n",
    "**Consegna:** data una lista di numeri, produrre una nuova lista senza duplicati mantenendo l'ordine.\n"
   ]
  },
  {
   "cell_type": "code",
   "execution_count": null,
   "id": "30ffb877",
   "metadata": {
    "trusted": true
   },
   "outputs": [],
   "source": [
    "# SOLUZIONE ESERCIZIO 2\n",
    "\n",
    "numeri = [1,2,2,3,4,4,5]\n",
    "unici = []\n",
    "for n in numeri:\n",
    "    if n not in unici:\n",
    "        unici.append(n)\n",
    "print(unici)    # [1,2,3,4,5]"
   ]
  },
  {
   "cell_type": "markdown",
   "id": "6c10e4f1",
   "metadata": {},
   "source": [
    "### Esercizio 3 — Matrice trasposta\n",
    "**Consegna:** data una matrice 2D (lista di liste), calcolarne la trasposta.\n"
   ]
  },
  {
   "cell_type": "code",
   "execution_count": null,
   "id": "704dd827",
   "metadata": {
    "trusted": true
   },
   "outputs": [],
   "source": [
    "# SOLUZIONE ESERCIZIO 3\n",
    "\n",
    "mat = [[1,2,3],\n",
    "       [4,5,6]]\n",
    "\n",
    "trasposta = [[row[i] for row in mat] for i in range(len(mat[0]))]\n",
    "print(trasposta)   # [[1,4],[2,5],[3,6]]"
   ]
  },
  {
   "cell_type": "markdown",
   "id": "0bba4b69",
   "metadata": {},
   "source": [
    "## Esercizi\n",
    "- Usare slicing con passo negativo per invertire una lista: `lst[::-1]`.\n",
    "- Creare comprensione annidata per \"appiattire\" una matrice: `[x for row in mat for x in row]`.\n",
    "- Scrivere funzione che restituisce min, max e media da una lista in un'unica passata.\n"
   ]
  }
 ],
 "metadata": {
  "kernelspec": {
   "display_name": "Python 3",
   "language": "python",
   "name": "python3"
  },
  "language_info": {
   "codemirror_mode": {
    "name": "ipython",
    "version": 3
   },
   "file_extension": ".py",
   "mimetype": "text/x-python",
   "name": "python",
   "nbconvert_exporter": "python",
   "pygments_lexer": "ipython3",
   "version": "3.12.0"
  }
 },
 "nbformat": 4,
 "nbformat_minor": 5
}
