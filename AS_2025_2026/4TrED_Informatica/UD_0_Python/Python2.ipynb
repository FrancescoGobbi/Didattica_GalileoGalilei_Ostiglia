{
 "cells": [
  {
   "cell_type": "markdown",
   "metadata": {},
   "source": [
    "# Introduzione a Python\n",
    "\n",
    "**Francesco Gobbi**  \n",
    "*I.I.S.S. Galileo Galilei, Ostiglia*  \n",
    "\n",
    "Questo notebook fornisce una panoramica di Python, concentrandosi su altri aspetti utili come la differenza tra metodo di una classe e funzione."
   ]
  },
  {
   "cell_type": "markdown",
   "id": "6f76b54f",
   "metadata": {},
   "source": [
    "### Differenza tra metodi e funzioni in Python\n",
    "\n",
    "- **Funzione**: Una funzione è un blocco di codice che esegue un compito specifico e può essere chiamato in qualsiasi punto del programma. Le funzioni possono essere definite al di fuori delle classi e non sono legate a nessun oggetto. Esempio:\n",
    "    ```python\n",
    "    def saluta():\n",
    "            print(\"Ciao!\")\n",
    "    ```\n",
    "\n",
    "- **Metodo**: Un metodo è una funzione definita all'interno di una classe e associata agli oggetti di quella classe. Il primo parametro di un metodo è sempre `self`, che rappresenta l'istanza stessa. I metodi possono accedere e modificare gli attributi dell'oggetto. Esempio:\n",
    "    ```python\n",
    "    class Persona:\n",
    "            def saluta(self):\n",
    "                    print(\"Ciao, sono una persona!\")\n",
    "    ```\n",
    "\n",
    "**In sintesi:**  \n",
    "Le funzioni sono indipendenti, mentre i metodi fanno parte di una classe e operano sugli oggetti creati da quella classe."
   ]
  },
  {
   "cell_type": "code",
   "execution_count": null,
   "id": "a6cd6489",
   "metadata": {},
   "outputs": [],
   "source": [
    "# Creiamo una classe 'Persona' con un metodo saluta\n",
    "class Persona:\n",
    "    def __init__(self, nome, età):\n",
    "        self.nome = nome  # Attributo 'nome' dell'oggetto\n",
    "        self.età = età    # Attributo 'età' dell'oggetto\n",
    "\n",
    "    def saluta(self):\n",
    "        return f\"Ciao, mi chiamo {self.nome} e ho {self.età} anni.\"\n",
    "\n",
    "# Creiamo un oggetto della classe Persona\n",
    "persona1 = Persona(\"Marco\", 25)\n",
    "\n",
    "# Chiamata al metodo saluta per vedere l'output\n",
    "print(persona1.saluta())\n",
    "\n",
    "# Modifica dell'attributo 'nome' dell'oggetto persona1\n",
    "persona1.nome = \"Luca\"\n",
    "\n",
    "# Nuovo saluto con il nome modificato\n",
    "print(persona1.saluta())"
   ]
  },
  {
   "cell_type": "code",
   "execution_count": null,
   "id": "65c151d7",
   "metadata": {},
   "outputs": [],
   "source": [
    "# Creiamo una nuova classe 'Libro'\n",
    "class Libro:\n",
    "    def __init__(self, titolo, autore, anno_pubblicazione):\n",
    "        self.titolo = titolo\n",
    "        self.autore = autore\n",
    "        self.anno_pubblicazione = anno_pubblicazione\n",
    "\n",
    "    def info(self):\n",
    "        return f\"Libro: {self.titolo}, scritto da {self.autore}, anno {self.anno_pubblicazione}\"\n",
    "\n",
    "# Creiamo un oggetto della classe Libro\n",
    "libro1 = Libro(\"1984\", \"George Orwell\", 1949)\n",
    "\n",
    "# Chiamata al metodo info\n",
    "print(libro1.info())"
   ]
  },
  {
   "cell_type": "markdown",
   "id": "cad6392f",
   "metadata": {},
   "source": [
    "### Differenza tra metodi e funzioni in Python : Esempio\n",
    "\n",
    "N.B. Sull'esempio e sulla differenza tra chiamata e funzionamento di una funzione su un oggetto ed invece di un metodo dell'oggetto stesso, perché scritto appunto nella classe."
   ]
  },
  {
   "cell_type": "code",
   "execution_count": null,
   "id": "5d65a3cc",
   "metadata": {},
   "outputs": [],
   "source": [
    "# Esempio: metodo vs funzione che riassegna il parametro\n",
    "\n",
    "class Contatore:\n",
    "    def __init__(self, valore): # costruttore della classe\n",
    "        self.valore = valore  # attributo interno\n",
    "\n",
    "    def incrementa(self, n):\n",
    "        # Metodo: modifica direttamente l'attributo dell'istanza (mutazione)\n",
    "        self.valore += n\n",
    "        print(f\"Sono dentro al metodo della classe [metodo]: valore = {self.valore}\")\n",
    "\n",
    "def funzione_rebind(c, n):\n",
    "    # Funzione che riassegna il parametro a una nuova istanza:\n",
    "    # qui viene modificata la variabile locale 'c' ma NON l'oggetto passato dal chiamante\n",
    "    c = Contatore(c.valore + n)\n",
    "    print(f\"Sono dentro alla funzione [funzione_rebind]: c.valore = {c.valore}\")\n",
    "\n",
    "def funzione_mutazione(c, n):\n",
    "    # Funzione che muta l'attributo dell'oggetto: questo cambia l'oggetto esterno\n",
    "    c.valore += n # muta l'oggetto esterno, in quanto modifica l'attributo dell'oggetto\n",
    "    # viene modificato l'oggetto puntato da 'c', non 'c' stesso\n",
    "    print(f\"Sono dentro alla funzione [funzione_mutazione]: c.valore = {c.valore}\")\n",
    "\n",
    "# --- Test e output mostrati ---\n",
    "print(\"CASO 1: funzione_rebind (non cambia l'oggetto esterno)\")\n",
    "c1 = Contatore(10) # Creazione di un'istanza della classe Contatore\n",
    "print(\"prima:\", c1.valore)        # 10\n",
    "funzione_rebind(c1, 5)            # inside mostra 15 sulla nuova istanza locale\n",
    "print(\"dopo:\", c1.valore)         # rimane 10\n",
    "\n",
    "print(\"\\nCASO 2: funzione_mutazione (cambia l'oggetto esterno)\")\n",
    "c2 = Contatore(10) # Creazione di un'istanza della classe Contatore\n",
    "print(\"prima:\", c2.valore)        # 10\n",
    "funzione_mutazione(c2, 5)        # inside mostra 15 e muta l'oggetto esterno\n",
    "print(\"dopo:\", c2.valore)         # 15\n",
    "\n",
    "print(\"\\nCASO 3: metodo incrementa (cambia l'oggetto esterno)\")\n",
    "c3 = Contatore(10) # Creazione di un'istanza della classe Contatore\n",
    "print(\"prima:\", c3.valore)        # 10\n",
    "c3.incrementa(5)                  # metodo muta l'attributo interno\n",
    "print(\"dopo:\", c3.valore)         # 15"
   ]
  }
 ],
 "metadata": {
  "kernelspec": {
   "display_name": "Python 3",
   "language": "python",
   "name": "python3"
  },
  "language_info": {
   "codemirror_mode": {
    "name": "ipython",
    "version": 3
   },
   "file_extension": ".py",
   "mimetype": "text/x-python",
   "name": "python",
   "nbconvert_exporter": "python",
   "pygments_lexer": "ipython3",
   "version": "3.12.0"
  }
 },
 "nbformat": 4,
 "nbformat_minor": 5
}
