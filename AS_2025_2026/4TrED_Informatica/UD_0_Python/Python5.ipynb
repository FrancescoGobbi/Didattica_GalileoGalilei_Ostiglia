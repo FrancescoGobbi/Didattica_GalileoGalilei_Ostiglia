{
 "cells": [
  {
   "cell_type": "markdown",
   "metadata": {},
   "source": [
    "# Stringhe e formattazione\n",
    "\n",
    "Lezione sull'utilizzo e significato delle stringhe in Python.\n",
    "\n",
    "Documentazione ufficiale Python: https://docs.python.org/3/"
   ]
  },
  {
   "cell_type": "markdown",
   "metadata": {},
   "source": [
    "## Teoria: le stringhe in Python\n",
    "Una **stringa** (`str`) in Python è una sequenza **immutabile** di caratteri (in C possiamo dire che è un array di char e quindi quello è mutabile).\n",
    "\n",
    "Questo significa che non possiamo modificare *in place* una stringa: ogni operazione che la cambia ne **restituisce una nuova**.\n",
    "\n",
    "### Concetti chiave\n",
    "- **Indicizzazione**: `s[0]` è il primo carattere, `s[-1]` l'ultimo.\n",
    "- **Slicing**: `s[a:b:step]` estrae una sottostringa dall'indice `a` (incluso) a `b` (escluso) con passo `step`.\n",
    "- **Immutabilità**: operazioni come `replace` o `strip` non cambiano `s`, ma ritornano una nuova stringa.\n",
    "- **Metodi utili**:\n",
    "  - `strip()` / `lstrip()` / `rstrip()` — rimuovono spazi (o caratteri) ai bordi;\n",
    "  - `lower()` / `upper()` / `title()` / `capitalize()` — conversioni di maiuscole/minuscole;\n",
    "  - `replace(old, new)` — sostituzione non distruttiva;\n",
    "  - `find(sub)` / `count(sub)` — ricerca e conteggio;\n",
    "  - `split(sep)` — spezza in lista; `sep` opzionale (default: spazi);\n",
    "  - `join(lista_di_stringhe)` — unisce elementi di una lista con un separatore.\n"
   ]
  },
  {
   "cell_type": "markdown",
   "metadata": {},
   "source": [
    "## Esempi guidati\n",
    "Gli esempi seguenti mostrano l'uso dei metodi più comuni. **Leggi i commenti**: ogni riga è spiegata.\n"
   ]
  },
  {
   "cell_type": "code",
   "execution_count": null,
   "metadata": {
    "trusted": true
   },
   "outputs": [],
   "source": [
    "# ESEMPIO 1 — Normalizzazione testo: rimozione spazi, minuscole, sostituzioni\n",
    "\n",
    "s = \"  Ciao  Mondo  \"        # Definiamo una stringa con spazi extra all'inizio e alla fine (e anche in mezzo)\n",
    "s = s.strip()                # .strip() rimuove spazi bianchi ai margini: \"Ciao  Mondo\"\n",
    "s = s.lower()                # .lower() converte tutti i caratteri in minuscolo: \"ciao  mondo\"\n",
    "s = s.replace(\"  \", \" \")     # .replace() sostituisce ogni occorrenza di doppio spazio con singolo: \"ciao mondo\"\n",
    "print(s)                     # Stampa il risultato finale: \"ciao mondo\"\n",
    "\n",
    "# Altre esempi di modifiche possibili:\n",
    "p = \"  Python è fantastico!  \"\n",
    "p = p.strip()                # Rimuove spazi ai margini\n",
    "p = p.upper()                # Converte in maiuscolo\n",
    "p = p.replace(\"FANTASTICO\", \"GRANDE\")  # Sostituisce \"FANTASTICO\" con \"GRANDE\"\n",
    "print(p)                     # Stampa il risultato finale: \"PYTHON È GRANDE!\"\n"
   ]
  },
  {
   "cell_type": "code",
   "execution_count": null,
   "metadata": {
    "trusted": true
   },
   "outputs": [],
   "source": [
    "# ESEMPIO 2 — split e join: da stringa a lista e viceversa\n",
    "\n",
    "frase = \"uno,due,tre,quattro\" # Stringa CSV semplice con virgole come separatore\n",
    "pezzi = frase.split(\",\")      # .split(\",\") separa in corrispondenza delle virgole -> ['uno','due','tre','quattro']\n",
    "# Questo va a creare una lista di stringhe\n",
    "print(pezzi)                  # Mostriamo la lista risultante\n",
    "ricomposta = \" | \".join(pezzi)# .join(lista) unisce gli elementi usando \" | \" come separatore\n",
    "print(ricomposta)             # Stampa: \"uno | due | tre | quattro\"\n"
   ]
  },
  {
   "cell_type": "code",
   "execution_count": null,
   "metadata": {
    "trusted": true
   },
   "outputs": [],
   "source": [
    "# ESEMPIO 3 — Ricerca e conteggio\n",
    "\n",
    "testo = \"banana bandana\"      # Stringa su cui lavorare\n",
    "pos = testo.find(\"ana\")       # .find() restituisce l'indice della prima occorrenza o -1 se non trovata\n",
    "cnt = testo.count(\"ana\")      # .count() conta quante volte compare la sottostringa (anche sovrapposta? No, non sovrapposta)\n",
    "print(pos, cnt)               # Stampa ad es. 1 2\n"
   ]
  },
  {
   "cell_type": "markdown",
   "metadata": {},
   "source": [
    "### f-string e formattazione\n",
    "Le **f-string** permettono di inserire espressioni Python direttamente nella stringa con `{}` e specificare la formattazione.\n",
    "\n",
    "- Numeri con 2 decimali: `{x:.2f}`\n",
    "- Allineamenti: `{testo:>10}` (a destra in 10 spazi), `{testo:<10}` (a sinistra), `{testo:^10}` (centrato)\n",
    "- Percentuali: `{p:.1%}`\n"
   ]
  },
  {
   "cell_type": "code",
   "execution_count": null,
   "metadata": {
    "trusted": true
   },
   "outputs": [],
   "source": [
    "# ESEMPIO 4 — f-string di base\n",
    "\n",
    "nome = \"Alex\"                 # Variabile stringa con un nome\n",
    "totale = 12.3456              # Variabile float con un numero decimale\n",
    "percentuale = 0.873           # Variabile float interpretata come 87.3%\n",
    "\n",
    "msg = f\"Ciao {nome}, totale = {totale:.2f}, copertura = {percentuale:.1%}\"  # f-string con due specifiche di formato\n",
    "print(msg)                    # Stampa: \"Ciao Alex, totale = 12.35, copertura = 87.3%\"\n"
   ]
  },
  {
   "cell_type": "markdown",
   "metadata": {},
   "source": [
    "## Buone pratiche sui testi\n",
    "1. **Normalizza** prima di confrontare: `strip()` e `lower()` riducono errori su input umani.\n",
    "2. **Evita concatenazioni ripetute** in loop; preferisci accumulare in lista e poi `join` (potrebbero verificarsi problemi di memoria).\n",
    "3. **Attenzione all'immutabilità**: ricordati di **riassegnare** `s = s.metodo(...)` quando vuoi mantenere la modifica.\n"
   ]
  },
  {
   "cell_type": "markdown",
   "metadata": {},
   "source": [
    "## Esercizi\n"
   ]
  },
  {
   "cell_type": "markdown",
   "metadata": {},
   "source": [
    "### Esercizio 1 — Contare vocali e consonanti\n",
    "**Consegna:** data una frase, contare quante **vocali** (a, e, i, o, u) e quante **consonanti** contiene. \n",
    "Ignorare spazi, numeri e punteggiatura.\n"
   ]
  },
  {
   "cell_type": "code",
   "execution_count": null,
   "metadata": {
    "trusted": true
   },
   "outputs": [],
   "source": [
    "# SOLUZIONE ESERCIZIO 1 — Conteggio vocali/consonanti\n",
    "\n",
    "frase = \"Ciao, mondo! 123\"           # Stringa di esempio; in pratica potrebbe arrivare da input()\n",
    "\n",
    "frase_norm = frase.lower()           # Convertiamo tutto in minuscolo per semplificare i confronti\n",
    "frase_norm = frase_norm.strip()      # Rimuoviamo spazi ai bordi che non servono al conteggio\n",
    "vocali = set(\"aeiou\")                # Insieme delle vocali per membership test O(1)\n",
    "\n",
    "n_vocali = 0                         # Contatore di vocali inizializzato a zero\n",
    "n_consonanti = 0                     # Contatore di consonanti inizializzato a zero\n",
    "\n",
    "for ch in frase_norm:                # Iteriamo su ogni carattere della stringa normalizzata\n",
    "    if ch.isalpha():                 # Consideriamo solo le lettere (escludiamo numeri, spazi, punteggiatura)\n",
    "        if ch in vocali:            # Se la lettera è nel set delle vocali...\n",
    "            n_vocali += 1           # ...incrementiamo il contatore delle vocali\n",
    "        else:                        # Altrimenti (è una lettera non vocalica)\n",
    "            n_consonanti += 1       # ...incrementiamo il contatore delle consonanti\n",
    "\n",
    "print(n_vocali, n_consonanti)        # Stampiamo i due conteggi per ispezione\n",
    "\n",
    "# TEST (autoverifica rapida)\n",
    "def conta_voc_cons(s):               # Definiamo una funzione riutilizzabile per test\n",
    "    s = s.lower().strip()            # Normalizzazione base: minuscole + rimozione spazi ai bordi\n",
    "    v = set(\"aeiou\")                 # Set di vocali\n",
    "    nv = 0                           # Contatore vocali\n",
    "    nc = 0                           # Contatore consonanti\n",
    "    for ch in s:                     # Scorri ogni carattere\n",
    "        if ch.isalpha():             # Considera solo lettere\n",
    "            if ch in v:              # Se è vocale\n",
    "                nv += 1              # incrementa conteggio vocali\n",
    "            else:                    # altrimenti è consonante\n",
    "                nc += 1              # incrementa conteggio consonanti\n",
    "    return nv, nc                    # Ritorna la coppia (vocali, consonanti)\n",
    "\n",
    "assert conta_voc_cons(\"Ciao, mondo!\") == (5, 5)  # 'ciaomondo' -> c(1)i(1)a(1)o(2)m(1)n(1)d(1) => 5 vocali, 5 consonanti\n",
    "assert conta_voc_cons(\"bbb\") == (0, 3)            # Tutte consonanti\n",
    "assert conta_voc_cons(\"aeiou\") == (5, 0)          # Tutte vocali\n"
   ]
  },
  {
   "cell_type": "markdown",
   "metadata": {},
   "source": [
    "### Esercizio 2 — Parola palindroma\n",
    "**Consegna:** verificare se una parola/frase è **palindroma** (si legge uguale da sinistra a destra e viceversa), \n",
    "ignorando spazi, accenti e punteggiatura. Suggerimento: **normalizza** prima!\n"
   ]
  },
  {
   "cell_type": "code",
   "execution_count": null,
   "metadata": {
    "trusted": true
   },
   "outputs": [],
   "source": [
    "# SOLUZIONE ESERCIZIO 2 — Verifica palindroma con normalizzazione\n",
    "\n",
    "testo = \"I topi non avevano nipoti\"     # Frase palindroma classica in italiano\n",
    "\n",
    "s = testo.lower()                        # 1) convertiamo in minuscolo per confronti case-insensitive\n",
    "s = \"\".join(ch for ch in s if ch.isalpha()) # 2) manteniamo solo lettere, eliminando spazi e punteggiatura\n",
    "s_norm = s                               # 3) abbiamo una stringa \"pulita\" su cui testare il palindromo\n",
    "\n",
    "s_rev = s_norm[::-1]                     # 4) creiamo la stringa invertita usando slicing con passo -1\n",
    "is_pal = (s_norm == s_rev)               # 5) confronto: palindroma se uguali\n",
    "\n",
    "print(is_pal)                            # 6) stampa True se palindroma, altrimenti False\n",
    "\n",
    "# TEST (autoverifica)\n",
    "def palindroma(frase):                    # Definizione funzione riutilizzabile\n",
    "    s = frase.lower()                     # minuscolo\n",
    "    s = \"\".join(ch for ch in s if ch.isalpha())  # solo lettere\n",
    "    return s == s[::-1]                   # verifica palindromia con slicing inverso\n",
    "\n",
    "assert palindroma(\"I topi non avevano nipoti\") is True\n",
    "assert palindroma(\"Anna\") is True         # Case-insensitive\n",
    "assert palindroma(\"Python\") is False\n"
   ]
  },
  {
   "cell_type": "markdown",
   "metadata": {},
   "source": [
    "### Esercizio 3 — Da CSV di nomi a lista ordinata\n",
    "**Consegna:** data una riga con nomi separati da virgola, ottenere una **lista ordinata alfabeticamente** dei nomi **puliti**.\n",
    "Esempio: `\"  marco,Anna,  LUCIA  ,pAoLo\"` → `['anna', 'lucia', 'marco', 'paolo']` (tutti in minuscolo, senza spazi).\n"
   ]
  },
  {
   "cell_type": "code",
   "execution_count": null,
   "metadata": {
    "trusted": true
   },
   "outputs": [],
   "source": [
    "# SOLUZIONE ESERCIZIO 3 — Parsing CSV semplice e ordinamento\n",
    "\n",
    "riga = \"  marco,Anna,  LUCIA  ,pAoLo\"   # Riga di esempio con maiuscole/minuscole e spazi disordinati\n",
    "\n",
    "parti = riga.split(\",\")                 # 1) separiamo in corrispondenza delle virgole -> lista di stringhe\n",
    "parti_pulite = []                       # 2) prepariamo una lista vuota che conterrà i nomi normalizzati\n",
    "\n",
    "for nome in parti:                      # 3) iteriamo su ogni pezzo (nome grezzo)\n",
    "    nome = nome.strip()                 # 4) rimuoviamo spazi ai bordi\n",
    "    nome = nome.lower()                 # 5) portiamo tutto in minuscolo per uniformità\n",
    "    if nome:                            # 6) se dopo la pulizia non è una stringa vuota...\n",
    "        parti_pulite.append(nome)       # 7) ...aggiungiamo alla lista dei nomi puliti\n",
    "\n",
    "parti_pulite.sort()                     # 8) ordiniamo la lista alfabeticamente in place\n",
    "print(parti_pulite)                     # 9) stampiamo il risultato finale\n",
    "\n",
    "# TEST (autoverifica)\n",
    "def normalizza_e_ordina(riga_csv):      # Funzione riutilizzabile per test e riuso\n",
    "    pezzi = riga_csv.split(\",\")         # split sui separatori virgola\n",
    "    puliti = []                         # lista temporanea per risultati\n",
    "    for x in pezzi:                     # scorri ogni pezzo\n",
    "        x = x.strip().lower()           # strip spazi e lower per normalizzare\n",
    "        if x:                           # ignora eventuali stringhe vuote\n",
    "            puliti.append(x)            # accumula il nome\n",
    "    puliti.sort()                       # ordina alfabeticamente\n",
    "    return puliti                       # ritorna la lista finale\n",
    "\n",
    "# assert : comando di autoverifica, quindi di test per la funzione desiderata\n",
    "assert normalizza_e_ordina(\"  marco,Anna,  LUCIA  ,pAoLo\") == ['anna', 'lucia', 'marco', 'paolo']\n",
    "assert normalizza_e_ordina(\" z, y , x \") == ['x','y','z']\n",
    "assert normalizza_e_ordina(\" , , a , , b \") == ['a','b']\n"
   ]
  },
  {
   "cell_type": "markdown",
   "metadata": {},
   "source": [
    "## Esercizi \n",
    "### (Creare un nuovo blocco di codice o modificare quello corrispondente alle richieste)\n",
    "- Estendere l'esercizio 1 per distinguere **accentate** (es. `à`, `è`) tramite normalizzazione Unicode (`unicodedata.normalize`).\n",
    "- Per l'esercizio 3, gestire nomi doppi tipo `\"maria teresa\"` mantenendo lo spazio interno ma normalizzando il resto.\n",
    "- Usare `sorted(lista, key=str.casefold)` per un ordinamento più robusto rispetto alle maiuscole/minuscole.\n"
   ]
  }
 ],
 "metadata": {
  "kernelspec": {
   "display_name": "Python 3",
   "language": "python",
   "name": "python3"
  },
  "language_info": {
   "codemirror_mode": {
    "name": "ipython",
    "version": 3
   },
   "file_extension": ".py",
   "mimetype": "text/x-python",
   "name": "python",
   "nbconvert_exporter": "python",
   "pygments_lexer": "ipython3",
   "version": "3.12.0"
  }
 },
 "nbformat": 4,
 "nbformat_minor": 5
}
