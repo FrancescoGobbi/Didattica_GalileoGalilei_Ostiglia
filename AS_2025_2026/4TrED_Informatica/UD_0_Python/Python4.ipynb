{
 "cells": [
  {
   "cell_type": "markdown",
   "metadata": {},
   "source": [
    "# I set in Python\n",
    "\n",
    "**Francesco Gobbi**  \n",
    "*I.I.S.S. Galileo Galilei, Ostiglia*  \n",
    "\n",
    "Lezione sull'utilizzo e significato dei set(insiemi) e delle loro caratteristiche in Python\n",
    "\n",
    "Documentazione ufficiale Python: https://docs.python.org/3/\n"
   ]
  },
  {
   "cell_type": "markdown",
   "id": "eff5bd88",
   "metadata": {},
   "source": [
    "## Teoria: cosa sono i set\n",
    "Un **set** in Python è una **collezione non ordinata di elementi unici**. Quindi a tutti gli effetti un insieme come in matematica.\n",
    "\n",
    "### Proprietà fondamentali\n",
    "- **Unicità**: un elemento non può comparire più di una volta. (Come in matematica)\n",
    "- **Non ordinati**: non c'è garanzia sull'ordine degli elementi. (Come in matematica)\n",
    "- **Mutabili**: possiamo aggiungere o rimuovere elementi (tranne per `frozenset`, set immutabili).\n",
    "- **Tipi ammessi**: solo elementi **hashable** (es. numeri, stringhe, tuple immutabili).\n",
    "\n",
    "### Creazione di set\n",
    "- `s = {1, 2, 3}` crea un set con tre interi.\n",
    "- `s = set([1,2,2,3])` cotruttore per creare un seto che converte una lista eliminando i duplicati.\n",
    "- Attenzione: `{}` crea un **dizionario vuoto**, non un set! Per un set vuoto usare `set()`.\n"
   ]
  },
  {
   "cell_type": "code",
   "execution_count": null,
   "id": "b28f50b4",
   "metadata": {
    "trusted": true
   },
   "outputs": [],
   "source": [
    "# ESEMPIO 1 — Creazione e proprietà di un set\n",
    "\n",
    "s = {1, 2, 3, 3}           # Creiamo un set con duplicati\n",
    "print(s)                   # I duplicati vengono eliminati automaticamente -> {1, 2, 3}\n",
    "\n",
    "vuoto = set()              # Insieme vuoto con set()\n",
    "print(type(vuoto))         # <class 'set'>\n",
    "\n",
    "# Notare che {} da solo crea un dizionario, non un set\n",
    "diz = {}\n",
    "print(type(diz))           # <class 'dict'>"
   ]
  },
  {
   "cell_type": "markdown",
   "id": "c96e6e3a",
   "metadata": {},
   "source": [
    "## Operazioni fondamentali sui set\n",
    "\n",
    "Operazioni sui set, riprese ovviamente dalle operazioni matematiche sugli insiemi.\n",
    "\n",
    "- **Aggiunta**: `add(x)` inserisce un elemento.\n",
    "- **Rimozione**: `remove(x)` (errore se assente) o `discard(x)` (silenzioso).\n",
    "- **Unione**: `a | b` oppure `a.union(b)`.\n",
    "- **Intersezione**: `a & b` oppure `a.intersection(b)`.\n",
    "- **Differenza**: `a - b` oppure `a.difference(b)`.\n",
    "- **Differenza simmetrica**: `a ^ b` (elementi in `a` o `b` ma non in entrambi).\n",
    "- **Test di appartenenza**: `x in s`.\n"
   ]
  },
  {
   "cell_type": "code",
   "execution_count": null,
   "id": "54e70543",
   "metadata": {
    "trusted": true
   },
   "outputs": [],
   "source": [
    "# ESEMPIO 2 — Operazioni di base\n",
    "\n",
    "a = {1, 2, 3}\n",
    "b = {3, 4, 5}\n",
    "\n",
    "print(\"Unione:\", a | b)          # {1,2,3,4,5}\n",
    "print(\"Intersezione:\", a & b)    # {3}\n",
    "print(\"Differenza a-b:\", a - b)  # {1,2}\n",
    "print(\"Diff. simmetrica:\", a ^ b)# {1,2,4,5}"
   ]
  },
  {
   "cell_type": "code",
   "execution_count": null,
   "id": "2ef7aa1c",
   "metadata": {
    "trusted": true
   },
   "outputs": [],
   "source": [
    "# ESEMPIO 3 — Eliminare duplicati da una lista con set\n",
    "\n",
    "lista = [1,2,2,3,3,3,4]\n",
    "insieme = set(lista)           # conversione a set elimina i duplicati\n",
    "lista_unica = list(insieme)    # se serve tornare a lista\n",
    "print(lista_unica)\n"
   ]
  },
  {
   "cell_type": "markdown",
   "id": "0868fc46",
   "metadata": {},
   "source": [
    "## Buone pratiche\n",
    "1. Usa i set quando ti serve garantire **unicità** degli elementi.\n",
    "2. Non affidarti all'**ordine** degli elementi in un set.\n",
    "3. Preferisci `discard` a `remove` quando non sei sicuro che l'elemento esista.\n",
    "4. Per grandi dataset, i set offrono operazioni molto veloci di appartenenza e confronto.\n"
   ]
  },
  {
   "cell_type": "markdown",
   "id": "1d2636f5",
   "metadata": {},
   "source": [
    "## Esercizi\n",
    "Gli esercizi seguenti consolidano l'uso dei set in situazioni pratiche.\n"
   ]
  },
  {
   "cell_type": "markdown",
   "id": "5d9bac5a",
   "metadata": {},
   "source": [
    "### Esercizio 1 — Parole uniche in un testo\n",
    "**Consegna:** data una frase, estrarre l'insieme delle parole **uniche** (case-insensitive).\n"
   ]
  },
  {
   "cell_type": "code",
   "execution_count": null,
   "id": "46a4a410",
   "metadata": {
    "trusted": true
   },
   "outputs": [],
   "source": [
    "# SOLUZIONE ESERCIZIO 1\n",
    "\n",
    "frase = \"Ciao ciao mondo Mondo Python Python python\" # Frase con ripetizioni e maiuscole\n",
    "\n",
    "parole = frase.lower().split()  # 1) Convertiamo in minuscolo e splittiamo sugli spazi (chiamata di metodi concatenati)\n",
    "                                # si ha prima lower() e poi split() sulla stringa risultante\n",
    "                                # Risultato: ['ciao','ciao','mondo','mondo','python','python','python']\n",
    "uniche = set(parole)            # 2) Creiamo un set: elimina i duplicati\n",
    "print(uniche)                   # Risultato: {'ciao','mondo','python'}\n"
   ]
  },
  {
   "cell_type": "markdown",
   "id": "ea154cb2",
   "metadata": {},
   "source": [
    "### Esercizio 2 — Studenti in comune\n",
    "**Consegna:** dati due corsi con liste di studenti, stampare l'insieme di chi è iscritto ad entrambi.\n"
   ]
  },
  {
   "cell_type": "code",
   "execution_count": null,
   "id": "7c062f23",
   "metadata": {
    "trusted": true
   },
   "outputs": [],
   "source": [
    "# SOLUZIONE ESERCIZIO 2\n",
    "\n",
    "corso1 = {\"Anna\",\"Luca\",\"Marco\"}\n",
    "corso2 = {\"Marco\",\"Giulia\",\"Anna\"}\n",
    "\n",
    "comuni = corso1 & corso2           # intersezione\n",
    "print(comuni)                      # {'Anna','Marco'}\n"
   ]
  },
  {
   "cell_type": "markdown",
   "id": "e9cfff79",
   "metadata": {},
   "source": [
    "### Esercizio 3 — Differenze tra insiemi\n",
    "**Consegna:** dati due set di numeri, trovare quelli che appartengono ad uno solo dei due insiemi (differenza simmetrica).\n"
   ]
  },
  {
   "cell_type": "code",
   "execution_count": null,
   "id": "7e6ca8dc",
   "metadata": {
    "trusted": true
   },
   "outputs": [],
   "source": [
    "# SOLUZIONE ESERCIZIO 3\n",
    "\n",
    "a = {1,2,3,4}\n",
    "b = {3,4,5,6}\n",
    "\n",
    "solo_uno = a ^ b\n",
    "print(solo_uno)          # {1,2,5,6}\n"
   ]
  },
  {
   "cell_type": "markdown",
   "id": "459601e2",
   "metadata": {},
   "source": [
    "## Esercizi \n",
    "### (Creare un nuovo blocco di codice o modificare quello corrispondente alle richieste)\n",
    "\n",
    "- Estendere l'esercizio 1 per ignorare punteggiatura con `str.isalpha()`.\n",
    "- Calcolare l'unione di più di due insiemi con `set.union(*lista_di_set)`.\n",
    "- Usare i set per trovare elementi duplicati in una lista confrontando lunghezza con `len(set(...))`.\n"
   ]
  }
 ],
 "metadata": {
  "kernelspec": {
   "display_name": "Python 3",
   "language": "python",
   "name": "python3"
  },
  "language_info": {
   "codemirror_mode": {
    "name": "ipython",
    "version": 3
   },
   "file_extension": ".py",
   "mimetype": "text/x-python",
   "name": "python",
   "nbconvert_exporter": "python",
   "pygments_lexer": "ipython3",
   "version": "3.12.0"
  }
 },
 "nbformat": 4,
 "nbformat_minor": 5
}
