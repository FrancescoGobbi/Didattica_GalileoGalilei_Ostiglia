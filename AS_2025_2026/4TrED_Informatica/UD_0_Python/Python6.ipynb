{
 "cells": [
  {
   "cell_type": "markdown",
   "metadata": {},
   "source": [
    "# I dizionari in Python\n",
    "\n",
    "**Francesco Gobbi**  \n",
    "*I.I.S.S. Galileo Galilei, Ostiglia*  \n",
    "\n",
    "Lezione sull'utilizzo e significato dei dizionari in Python.\n",
    "\n",
    "I **dizionari** in python, come del resto ovunque, hanno la struttura **chiave → valore**.\n",
    "\n",
    "Documentazione ufficiale Python: https://docs.python.org/3/\n"
   ]
  },
  {
   "cell_type": "markdown",
   "metadata": {},
   "source": [
    "## Teoria: cosa sono i dizionari\n",
    "Un **dizionario** (`dict`) è una collezione **non ordinata** (l'iterazione conserva l'ordine di inserimento da Python 3.7, quindi valido ancora ad oggi) di coppie **chiave → valore**.\n",
    "\n",
    "### Proprietà fondamentali\n",
    "- Le **chiavi** devono essere **hashable** (tipicamente immutabili: `int`, `str`, `tuple` immutabili).\n",
    "- I **valori** possono essere di qualunque tipo (anche liste o altri dizionari).\n",
    "- Accesso e assegnazione sono **O(1)**, quindi ad accesso immediato, mediamente: `d[k]`, `d[k]=v`.\n",
    "- Se si accede a una chiave **inesistente** con `d[k]`, si ottiene un **KeyError**.\n",
    "\n",
    "### Creazione di un dizionario in Python\n",
    "- Letterale: `d = {\"nome\": \"Anna\", \"eta\": 17}`\n",
    "- Da liste di coppie: `dict([(\"a\",1),(\"b\",2)])`\n",
    "- Da keyword: `dict(nome=\"Anna\", eta=17)`\n"
   ]
  },
  {
   "cell_type": "code",
   "execution_count": null,
   "metadata": {
    "trusted": true
   },
   "outputs": [],
   "source": [
    "# ESEMPIO 1 — Creazione, accesso, modifica\n",
    "\n",
    "studente = {\"nome\": \"Luca\", \"eta\": 18}   # Creiamo un dizionario con due coppie chiave→valore\n",
    "print(studente)                          # Stampa: {'nome': 'Luca', 'eta': 18}\n",
    "\n",
    "print(studente[\"nome\"])                  # Accesso a una chiave esistente → 'Luca'\n",
    "\n",
    "studente[\"classe\"] = \"5IA\"               # Aggiunta di una nuova coppia, in quando il nome \"classe\" non esiste all'interno del dizionario, quindi aggiunto al dizionario\n",
    "studente[\"eta\"] = 19                     # Modifica del valore associato alla chiave \"eta\"\n",
    "print(studente)                          # Ora include 'classe' ed eta aggiornata\n",
    "\n",
    "%whos # Mostra le variabili attualmente in memoria"
   ]
  },
  {
   "cell_type": "markdown",
   "metadata": {},
   "source": [
    "### Accesso sicuro: `get` e controllo appartenenza\n",
    "- `d.get(k, default)` restituisce `d[k]` se esiste, altrimenti `default` (di default `None`), **senza** sollevare eccezioni.\n",
    "- `k in d` verifica l'esistenza della chiave `k`.\n"
   ]
  },
  {
   "cell_type": "code",
   "execution_count": null,
   "metadata": {
    "trusted": true
   },
   "outputs": [],
   "source": [
    "# ESEMPIO 2 — .get e controllo chiavi\n",
    "\n",
    "print(studente.get(\"email\"))          # Nessuna 'email' → None\n",
    "print(studente.get(\"email\", \"n/d\"))   # Possiamo specificare un valore di fallback\n",
    "\n",
    "if \"classe\" in studente:              # Controllo esistenza di una chiave\n",
    "    print(\"Classe presente:\", studente[\"classe\"])\n"
   ]
  },
  {
   "cell_type": "markdown",
   "metadata": {},
   "source": [
    "### Iterare su chiavi, valori, coppie\n",
    "- `d.keys()` → vista delle chiavi\n",
    "- `d.values()` → vista dei valori\n",
    "- `d.items()` → vista di tuple `(chiave, valore)`\n"
   ]
  },
  {
   "cell_type": "code",
   "execution_count": null,
   "metadata": {
    "trusted": true
   },
   "outputs": [],
   "source": [
    "# ESEMPIO 3 — Iterazione su dizionario\n",
    "\n",
    "# Utilizzo del for per iterare su tutte le chiavi presenti nel dizionario\n",
    "# Quindi k sarà un oggetto che di volta in volta cambierà valore\n",
    "# assumendo i valori delle chiavi del dizionario\n",
    "for k in studente.keys():          # Iterazione esplicita sulle chiavi\n",
    "    print(\"Chiave:\", k)\n",
    "\n",
    "# Nota: iterare direttamente su 'studente' equivale a iterare su 'studente.keys()'\n",
    "for v in studente.values():        # Iterazione sui valori\n",
    "    print(\"Valore:\", v)\n",
    "\n",
    "# Iterazione su coppie (chiave, valore), utilizzo sia k e sia v\n",
    "# Quindi due nuovi oggetti che di volta in volta cambieranno valore\n",
    "# assumendo i valori delle chiavi e dei valori del dizionario\n",
    "for k, v in studente.items():      # Iterazione su coppie (chiave, valore)\n",
    "    print(f\"{k} -> {v}\")\n"
   ]
  },
  {
   "cell_type": "markdown",
   "metadata": {},
   "source": [
    "### Altri metodi utili\n",
    "- `update(altro_dict)` unisce/aggiorna coppie (le chiavi uguali vengono sovrascritte).\n",
    "- `pop(k, default)` rimuove e **ritorna** il valore associato a `k` (o `default` se mancante).\n",
    "- `setdefault(k, val)` restituisce `d[k]` se esiste, altrimenti inserisce `k: val` e restituisce `val`.\n"
   ]
  },
  {
   "cell_type": "code",
   "execution_count": null,
   "metadata": {
    "trusted": true
   },
   "outputs": [],
   "source": [
    "# ESEMPIO 4 — update, pop, setdefault\n",
    "\n",
    "d = {\"a\": 1, \"b\": 2}\n",
    "d.update({\"b\": 99, \"c\": 3})     # Aggiorna 'b' e aggiunge 'c'\n",
    "print(d)                        # {'a':1, 'b':99, 'c':3}\n",
    "\n",
    "val = d.pop(\"a\")                # Rimuove e ritorna il valore di 'a' → 1\n",
    "print(val, d)                   # 1 {'b':99, 'c':3}\n",
    "\n",
    "email = d.setdefault(\"email\", \"nd@example.com\")  # Se 'email' non esiste, la crea\n",
    "print(email, d)\n"
   ]
  },
  {
   "cell_type": "markdown",
   "metadata": {},
   "source": [
    "## Dizionari annidati\n",
    "I dizionari possono contenere altri dizionari, creando strutture a più livelli utili per rappresentare dati complessi (tipo JSON).\n"
   ]
  },
  {
   "cell_type": "code",
   "execution_count": null,
   "metadata": {
    "trusted": true
   },
   "outputs": [],
   "source": [
    "# ESEMPIO 5 — Dizionari annidati (tipo JSON)\n",
    "\n",
    "classe = {\n",
    "    \"5IA\": {\n",
    "        \"studenti\": [\n",
    "            {\"nome\": \"Luca\", \"eta\": 19},\n",
    "            {\"nome\": \"Anna\", \"eta\": 18}\n",
    "        ],\n",
    "        \"anno\": 2024\n",
    "    }\n",
    "}\n",
    "\n",
    "# Accesso annidato: prendiamo il nome del primo studente della 5IA\n",
    "primo_nome = classe[\"5IA\"][\"studenti\"][0][\"nome\"]\n",
    "print(primo_nome)  # 'Luca'\n"
   ]
  },
  {
   "cell_type": "markdown",
   "metadata": {},
   "source": [
    "## Dict comprehension\n",
    "Sintassi compatta per costruire dizionari da iterabili:\n",
    "```python\n",
    "{ x: x**2 for x in range(5) }   # produce {0:0, 1:1, 2:4, 3:9, 4:16}\n",
    "```\n"
   ]
  },
  {
   "cell_type": "code",
   "execution_count": null,
   "metadata": {
    "trusted": true
   },
   "outputs": [],
   "source": [
    "# ESEMPIO 6 — Dict comprehension\n",
    "\n",
    "quadrati = {x: x**2 for x in range(6)}\n",
    "print(quadrati)              # {0:0, 1:1, 2:4, 3:9, 4:16, 5:25}\n"
   ]
  },
  {
   "cell_type": "markdown",
   "metadata": {},
   "source": [
    "## Buone pratiche\n",
    "1. Scegli **chiavi descrittive** e consistenti (`nome`, `cognome`, `eta`).\n",
    "2. Usa `get` o `setdefault` se non sei sicuro che una chiave esista.\n",
    "3. Evita di usare oggetti **mutabili** come chiavi (liste, dizionari).\n",
    "4. Per contare frequenze, valuta `collections.Counter` (ma qui vediamo anche come farlo “a mano”).\n"
   ]
  },
  {
   "cell_type": "markdown",
   "metadata": {},
   "source": [
    "## Esercizi (con soluzioni commentate riga per riga)\n",
    "Per ogni esercizio trovi:\n",
    "- **Consegna**\n",
    "- **Soluzione** con commenti riga per riga\n",
    "- **Test** con `assert` per autoverifica\n"
   ]
  },
  {
   "cell_type": "markdown",
   "metadata": {},
   "source": [
    "### Esercizio 1 — Rubrica telefonica\n",
    "**Consegna:** crea una **rubrica** come dizionario `nome → telefono`. \n",
    "- Inserisci almeno 3 contatti. \n",
    "- Stampa il numero associato a un nome, gestendo il caso mancante **senza errori**.\n"
   ]
  },
  {
   "cell_type": "code",
   "execution_count": null,
   "metadata": {
    "trusted": true
   },
   "outputs": [],
   "source": [
    "# SOLUZIONE ESERCIZIO 1 — Rubrica\n",
    "\n",
    "rubrica = {}                                 # Creiamo un dizionario vuoto per la rubrica\n",
    "\n",
    "rubrica[\"Anna\"] = \"333-111\"                  # Aggiungiamo una coppia nome→telefono\n",
    "rubrica[\"Luca\"] = \"333-222\"                  # Aggiungiamo un altro contatto\n",
    "rubrica[\"Marco\"] = \"333-333\"                 # E un terzo contatto\n",
    "\n",
    "# Ricerca di un numero di telefono\n",
    "cerca = \"Luca\"                               # Nome da cercare, oggetto string\n",
    "telefono = rubrica.get(cerca, \"non disponibile\")  # Usiamo .get per evitare KeyError\n",
    "print(cerca, \"→\", telefono)                  # Stampa il risultato\n",
    "\n",
    "# Ricerca di un nome non presente\n",
    "cerca2 = \"Giulia\"                            # Nome non presente\n",
    "telefono2 = rubrica.get(cerca2, \"non disponibile\") # Ancora .get con default\n",
    "print(cerca2, \"→\", telefono2)                # 'Giulia → non disponibile'\n"
   ]
  },
  {
   "cell_type": "markdown",
   "metadata": {},
   "source": [
    "### Esercizio 2 — Conteggio frequenze parole\n",
    "**Consegna:** data una frase, creare un dizionario `parola → frequenza` (case-insensitive, spazi come separatore).\n"
   ]
  },
  {
   "cell_type": "code",
   "execution_count": null,
   "metadata": {
    "trusted": true
   },
   "outputs": [],
   "source": [
    "# SOLUZIONE ESERCIZIO 2 — Frequenze\n",
    "\n",
    "frase = \"ciao ciao mondo mondo Mondo python Python\"\n",
    "parole = frase.lower().split()          # 1) normalizziamo a minuscolo + split per parole\n",
    "freq = {}                               # 2) dizionario vuoto per il conteggio\n",
    "\n",
    "for p in parole:                        # 3) iteriamo sulle parole della lista\n",
    "    if p in freq:                       # 4) se p già vista, incremento\n",
    "        freq[p] += 1                    #    aumento il contatore di 1\n",
    "    else:                               # 5) altrimenti, inizializzo a 1\n",
    "        freq[p] = 1                     #    prima occorrenza\n",
    "\n",
    "print(freq)                             # 6) ispezioniamo il risultato\n"
   ]
  },
  {
   "cell_type": "markdown",
   "metadata": {},
   "source": [
    "### Esercizio 3 — Unione di record studente\n",
    "**Consegna:** dati due dizionari dello stesso studente provenienti da fonti diverse,\n",
    "unirli in un unico record dove i campi del **secondo** sovrascrivono quelli del **primo**.\n"
   ]
  },
  {
   "cell_type": "code",
   "execution_count": null,
   "metadata": {
    "trusted": true
   },
   "outputs": [],
   "source": [
    "# SOLUZIONE ESERCIZIO 3 — Unione con update\n",
    "\n",
    "src1 = {\"nome\": \"Anna\", \"eta\": 18, \"citta\": \"Mantova\"}\n",
    "src2 = {\"eta\": 19, \"email\": \"anna@example.com\"}   # info più recenti o aggiuntive\n",
    "\n",
    "record = src1.copy()             # 1) evitiamo di modificare src1 direttamente\n",
    "record.update(src2)              # 2) i campi di src2 sovrascrivono/aggiungono\n",
    "print(record)                    # 3) ispezioniamo il dizionario finale"
   ]
  },
  {
   "cell_type": "markdown",
   "metadata": {},
   "source": [
    "### Esercizio 4 — Accesso annidato con default\n",
    "**Consegna:** dato un dizionario annidato che rappresenta uno studente, estrarre **in modo sicuro** \n",
    "l'indirizzo email se presente, altrimenti usare `\"n/d\"`.\n"
   ]
  },
  {
   "cell_type": "code",
   "execution_count": null,
   "metadata": {
    "trusted": true
   },
   "outputs": [],
   "source": [
    "# SOLUZIONE ESERCIZIO 4 — Accesso annidato robusto\n",
    "\n",
    "studente = {\n",
    "    \"dati\": {\"nome\": \"Luca\", \"eta\": 19},\n",
    "    \"contatti\": {\"telefono\": \"333-000\"}     # notare: niente 'email' qui\n",
    "}\n",
    "\n",
    "contatti = studente.get(\"contatti\", {})     # 1) recuperiamo il sotto-dizionario 'contatti' o {} se assente\n",
    "email = contatti.get(\"email\", \"n/d\")        # 2) recuperiamo 'email' o 'n/d'\n",
    "print(email)                                # 3) stampa 'n/d'\n"
   ]
  },
  {
   "cell_type": "markdown",
   "metadata": {},
   "source": [
    "## Esercizi \n",
    "### (Creare un nuovo blocco di codice o modificare quello corrispondente alle richieste)\n",
    "- Usare `collections.defaultdict(int)` per contatori più compatti.\n",
    "- Serializzare/deserializzare in JSON con `json.dumps` / `json.loads` (richiede import `json`).\n",
    "- Dict comprehension con condizione: `{k: v for k, v in d.items() if v > 0}`.\n"
   ]
  }
 ],
 "metadata": {
  "kernelspec": {
   "display_name": "Python 3",
   "language": "python",
   "name": "python3"
  },
  "language_info": {
   "codemirror_mode": {
    "name": "ipython",
    "version": 3
   },
   "file_extension": ".py",
   "mimetype": "text/x-python",
   "name": "python",
   "nbconvert_exporter": "python",
   "pygments_lexer": "ipython3",
   "version": "3.12.0"
  }
 },
 "nbformat": 4,
 "nbformat_minor": 5
}
