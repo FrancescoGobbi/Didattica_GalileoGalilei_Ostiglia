{
 "cells": [
  {
   "cell_type": "code",
   "execution_count": null,
   "id": "2c6c3790",
   "metadata": {},
   "outputs": [],
   "source": [
    "# Esercizio 3:\n",
    "# Creare un programma in Python che prenda in input 5 valori da parte dell’utente. \n",
    "# Il programma deve eseguire e stampare la somma e la media per i soli valori pari tra quelli inseriti.\n",
    "# ESEMPIO: Se n1 = 5, n2 = 10, n3 = 2, n4 = 9 ed n5 = 1. La somma sar`a essere 12, in quanto solo 10 e\n",
    "# 2 sono numeri pari. Di conseguenza la media sar`a 6.0 .\n",
    "\n",
    "# Inserimento dei valori interi\n",
    "x1 = int(input(\"Inserisci un valore: \"))\n",
    "x2 = int(input(\"Inserisci un valore: \"))\n",
    "x3 = int(input(\"Inserisci un valore: \"))\n",
    "x4 = int(input(\"Inserisci un valore: \"))\n",
    "x5 = int(input(\"Inserisci un valore: \"))\n",
    "\n",
    "# Inizializzo somma e contatore\n",
    "somma = 0\n",
    "count = 0\n",
    "\n",
    "# Controllo se i numeri inseriti sono pari\n",
    "if (x1 % 2 == 0): # Controllo se è pari il numero\n",
    "    print(\"Il numero\", x1, \"è pari\")\n",
    "    somma = somma + x1\n",
    "    count = count + 1 # count+=1\n",
    "if (x2 % 2 == 0): # Controllo se è pari il numero\n",
    "    print(\"Il numero\", x2, \"è pari\")\n",
    "    somma = somma + x2\n",
    "    count = count + 1 # count+=1\n",
    "if (x3 % 2 == 0): # Controllo se è pari il numero\n",
    "    print(\"Il numero\", x3, \"è pari\")\n",
    "    somma = somma + x3\n",
    "    count = count + 1 # count+=1\n",
    "if (x4 % 2 == 0): # Controllo se è pari il numero\n",
    "    print(\"Il numero\", x4, \"è pari\")\n",
    "    somma = somma + x4\n",
    "    count = count + 1 # count+=1\n",
    "if (x5 % 2 == 0): # Controllo se è pari il numero\n",
    "    print(\"Il numero\", x5, \"è pari\")\n",
    "    somma = somma + x5\n",
    "    count = count + 1 # count+=1\n",
    "\n",
    "# Eseguo la media\n",
    "if (count > 0):\n",
    "    media = somma / count\n",
    "    print(\"La somma è\", somma, \"mentre la media è\", media)\n",
    "else:\n",
    "    print(\"La somma è\", somma, \"mentre la media è 0\")\n"
   ]
  }
 ],
 "metadata": {
  "kernelspec": {
   "display_name": "Python 3",
   "language": "python",
   "name": "python3"
  },
  "language_info": {
   "codemirror_mode": {
    "name": "ipython",
    "version": 3
   },
   "file_extension": ".py",
   "mimetype": "text/x-python",
   "name": "python",
   "nbconvert_exporter": "python",
   "pygments_lexer": "ipython3",
   "version": "3.12.0"
  }
 },
 "nbformat": 4,
 "nbformat_minor": 5
}
