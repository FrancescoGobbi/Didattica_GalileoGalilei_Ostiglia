{
 "cells": [
  {
   "cell_type": "code",
   "execution_count": null,
   "id": "ed8809e7",
   "metadata": {},
   "outputs": [],
   "source": [
    "# Esercizio di comprensione 1\n",
    "import sys\n",
    "\n",
    "a = 10\n",
    "b = 1\n",
    "\n",
    "a = input(\"Inserisci un numero: \")\n",
    "b = input(\"Inserisci un altro numero: \")\n",
    "\n",
    "c = a / b\n",
    "print(c)\n",
    "\n",
    "a = c\n",
    "print(a)\n",
    "\n",
    "b = a\n",
    "print(b)\n",
    "\n",
    "print(\"A cosa punteranno a, b e c?\")"
   ]
  },
  {
   "cell_type": "code",
   "execution_count": null,
   "id": "0eb6324b",
   "metadata": {},
   "outputs": [],
   "source": [
    "# Esercizio di comprensione 2\n",
    "x = 5\n",
    "y = \"10\"\n",
    "z = 2.0\n",
    "\n",
    "x = input(\"Inserisci un valore per x: \")\n",
    "y = input(\"Inserisci un valore per y: \")\n",
    "\n",
    "print(\"Valori attuali:\", x, y, z)\n",
    "\n",
    "y = x\n",
    "x = y\n",
    "\n",
    "if x > y:\n",
    "    print(\"x è maggiore di y\")\n",
    "else:\n",
    "    print(\"x non è maggiore di y\")\n",
    "print(\"A cosa punteranno x, y e z?\")\n",
    "\n",
    "while z < 10:\n",
    "    print(\"Valore di z:\", z)\n",
    "z += 1\n",
    "\n",
    "print(\"Valore di z:\", z)  \n"
   ]
  }
 ],
 "metadata": {
  "kernelspec": {
   "display_name": "Python 3",
   "language": "python",
   "name": "python3"
  },
  "language_info": {
   "codemirror_mode": {
    "name": "ipython",
    "version": 3
   },
   "file_extension": ".py",
   "mimetype": "text/x-python",
   "name": "python",
   "nbconvert_exporter": "python",
   "pygments_lexer": "ipython3",
   "version": "3.12.0"
  }
 },
 "nbformat": 4,
 "nbformat_minor": 5
}
