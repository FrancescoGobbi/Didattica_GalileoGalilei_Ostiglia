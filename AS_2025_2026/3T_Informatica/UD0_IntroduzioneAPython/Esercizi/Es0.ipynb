{
  "metadata": {
    "kernelspec": {
      "name": "python",
      "display_name": "Python (Pyodide)",
      "language": "python"
    },
    "language_info": {
      "codemirror_mode": {
        "name": "python",
        "version": 3
      },
      "file_extension": ".py",
      "mimetype": "text/x-python",
      "name": "python",
      "nbconvert_exporter": "python",
      "pygments_lexer": "ipython3",
      "version": "3.8"
    }
  },
  "nbformat_minor": 5,
  "nbformat": 4,
  "cells": [
    {
      "id": "580b8387-6f8e-46e3-ae0e-20a81bdb4c2f",
      "cell_type": "code",
      "source": "print ( \" Hello , World ! \" )",
      "metadata": {
        "trusted": true
      },
      "outputs": [
        {
          "name": "stdout",
          "output_type": "stream",
          "text": " Hello , World ! \n"
        }
      ],
      "execution_count": 2
    },
    {
      "id": "f07c978d-48ca-47d1-9cb9-26f603f6a844",
      "cell_type": "code",
      "source": "",
      "metadata": {
        "trusted": true
      },
      "outputs": [],
      "execution_count": null
    }
  ]
}