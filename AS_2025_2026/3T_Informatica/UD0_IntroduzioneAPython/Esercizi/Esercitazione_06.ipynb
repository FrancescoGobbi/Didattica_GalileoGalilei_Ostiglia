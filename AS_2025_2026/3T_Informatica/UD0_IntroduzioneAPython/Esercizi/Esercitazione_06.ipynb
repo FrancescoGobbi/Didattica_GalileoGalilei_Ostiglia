{
 "cells": [
  {
   "cell_type": "markdown",
   "id": "c05f2e20",
   "metadata": {},
   "source": [
    "# Esercitazione 06 – Iterazioni in Python\n",
    "\n",
    "**Francesco Gobbi**  \n",
    "*I.I.S.S. Galileo Galilei, Ostiglia*  "
   ]
  },
  {
   "cell_type": "markdown",
   "id": "629a6ca3",
   "metadata": {},
   "source": [
    "# Introduzione alle iteazioni in Python\n",
    "In questo notebook introdurremo l'uso delle iterazioni in Python, come `for` e `while`.\n",
    "\n",
    "Si andrà anche a vedere altri comandi/funzioni importanti come:\n",
    "- Usare `range()` per iterazioni numeriche.\n",
    "- Gestire `break`, `continue`, `pass` ed il raro `else` sui cicli.\n",
    "- Scrivere cicli annidati per problemi a griglia o combinatori.\n"
   ]
  },
  {
   "cell_type": "markdown",
   "id": "4f931a3c",
   "metadata": {},
   "source": [
    "## Cos'è l'iterazione?\n",
    "Per *iterazione* intendiamo ripetere un blocco di istruzioni più volte. In Python abbiamo due costrutti principali:\n",
    "- `for` (iterazione su elementi di una sequenza/iterabile)\n",
    "- `while` (iterazione basata su una condizione booleana)\n"
   ]
  },
  {
   "cell_type": "markdown",
   "id": "5edd00e2",
   "metadata": {},
   "source": [
    "## `for` su sequenze\n",
    "Il ciclo `for` scorre direttamente gli **elementi** di una sequenza (stringa, lista, tuple, set) o di un qualsiasi **iterabile**.\n"
   ]
  },
  {
   "cell_type": "code",
   "execution_count": null,
   "id": "929d0def",
   "metadata": {},
   "outputs": [],
   "source": [
    "# Esempio 1: for su lista\n",
    "nomi = [\"Ada\", \"Edsger\", \"Guido\"] # Crea una lista di nomi\n",
    "for n in nomi: # Utilizza un ciclo for per iterare sui nomi della lista\n",
    "    print(\"Ciao,\", n)"
   ]
  },
  {
   "cell_type": "code",
   "execution_count": null,
   "id": "5fec9b01",
   "metadata": {},
   "outputs": [],
   "source": [
    "# Esempio 2: for su stringa\n",
    "parola = \"Python\"\n",
    "for ch in parola:\n",
    "    print(ch, end=\" \")\n",
    "print()"
   ]
  },
  {
   "cell_type": "markdown",
   "id": "a811b36e",
   "metadata": {},
   "source": [
    "## `range()` per iterazioni numeriche\n",
    "`range(inizio, fine, passo)` genera una sequenza di interi da **inizio** (incluso) a **fine** (escluso), con **passo** opzionale.\n"
   ]
  },
  {
   "cell_type": "code",
   "execution_count": null,
   "id": "673c1f70",
   "metadata": {},
   "outputs": [],
   "source": [
    "# Esempio 3: range con inizio default 0\n",
    "for i in range(5):  # 0..4\n",
    "    print(i)"
   ]
  },
  {
   "cell_type": "code",
   "execution_count": null,
   "id": "b0d68d47",
   "metadata": {},
   "outputs": [],
   "source": [
    "# Esempio 4: range con inizio, fine e passo\n",
    "for i in range(2, 11, 2):  # 2,4,6,8,10\n",
    "    print(i)"
   ]
  },
  {
   "cell_type": "markdown",
   "id": "026f9174",
   "metadata": {},
   "source": [
    "## `while` basato su condizione\n",
    "Usare `while` quando **non sappiamo** a priori quante iterazioni serviranno, ma abbiamo una **condizione** che guida il ciclo.\n"
   ]
  },
  {
   "cell_type": "code",
   "execution_count": null,
   "id": "cc9a6efc",
   "metadata": {},
   "outputs": [],
   "source": [
    "# Esempio 5: while con contatore\n",
    "contatore = 3\n",
    "while contatore > 0:\n",
    "    print(\"Conto alla rovescia:\", contatore)\n",
    "    contatore -= 1\n",
    "print(\"Via!\")"
   ]
  },
  {
   "cell_type": "markdown",
   "id": "fc3233f8",
   "metadata": {},
   "source": [
    "## `break`, `continue`, `pass`\n",
    "- `break`: esce **subito** dal ciclo.\n",
    "- `continue`: salta alla prossima iterazione.\n",
    "- `pass`: segnaposto che **non fa nulla** (utile come promemoria).\n"
   ]
  },
  {
   "cell_type": "code",
   "execution_count": null,
   "id": "4ededbfa",
   "metadata": {},
   "outputs": [],
   "source": [
    "# Esempio 6: break e continue\n",
    "for i in range(10):\n",
    "    if i == 7:\n",
    "        break          # esco dal ciclo quando i==7\n",
    "    if i % 2 == 0:\n",
    "        continue       # salto i pari\n",
    "    print(\"i dispari:\", i)\n",
    "print(\"Fine ciclo con break\")"
   ]
  },
  {
   "cell_type": "code",
   "execution_count": null,
   "id": "d87ef37f",
   "metadata": {},
   "outputs": [],
   "source": [
    "# Esempio 7: pass come segnaposto\n",
    "for _ in range(3):\n",
    "    pass  # da sostituire in futuro con del codice\n",
    "print(\"Eseguito senza fare nulla nel ciclo\")"
   ]
  },
  {
   "cell_type": "markdown",
   "id": "0e1f608e",
   "metadata": {},
   "source": [
    "## `else` sui cicli (opzionale ma utile)\n",
    "Il blocco `else` di un ciclo viene eseguito **solo se il ciclo non è terminato con `break`**.\n"
   ]
  },
  {
   "cell_type": "code",
   "execution_count": null,
   "id": "f001f34a",
   "metadata": {},
   "outputs": [],
   "source": [
    "# Esempio 8: else con for\n",
    "for n in [2, 3, 5, 9, 11]:\n",
    "    if n % 3 == 0:\n",
    "        print(\"Trovato un multiplo di 3:\", n)\n",
    "        break\n",
    "else:\n",
    "    print(\"Nessun multiplo di 3 trovato\")"
   ]
  },
  {
   "cell_type": "markdown",
   "id": "dd4581c0",
   "metadata": {},
   "source": [
    "## `enumerate()` e `zip()`\n",
    "- `enumerate(seq)` restituisce coppie `(indice, elemento)` utili quando ci serve la posizione.\n",
    "- `zip(a, b, ...)` raggruppa in tuple gli elementi corrispondenti di più sequenze.\n"
   ]
  },
  {
   "cell_type": "code",
   "execution_count": null,
   "id": "4bbb2890",
   "metadata": {},
   "outputs": [],
   "source": [
    "# Esempio 9: enumerate\n",
    "materie = [\"Informatica\", \"Matematica\", \"Fisica\"]\n",
    "for i, m in enumerate(materie, start=1):\n",
    "    print(i, \"-\", m)"
   ]
  },
  {
   "cell_type": "code",
   "execution_count": null,
   "id": "5059ed14",
   "metadata": {},
   "outputs": [],
   "source": [
    "# Esempio 10: zip\n",
    "nomi = [\"Luca\", \"Sara\", \"Mina\"]\n",
    "voti = [8, 9, 7]\n",
    "for nome, voto in zip(nomi, voti):\n",
    "    print(f\"{nome}: {voto}\")"
   ]
  },
  {
   "cell_type": "markdown",
   "id": "57da4e34",
   "metadata": {},
   "source": [
    "## Cicli annidati\n",
    "Utile per lavorare su **griglie**, **tabelle**, o per generare **combinazioni**.\n"
   ]
  },
  {
   "cell_type": "code",
   "execution_count": null,
   "id": "78955fa8",
   "metadata": {},
   "outputs": [],
   "source": [
    "# Esempio 11: creazione della tavola pitagorica da 1 a 5\n",
    "for r in range(1, 6):\n",
    "    riga = []\n",
    "    for c in range(1, 6):\n",
    "        riga.append(r * c)\n",
    "    print(riga)"
   ]
  },
  {
   "cell_type": "markdown",
   "id": "6e162ee0",
   "metadata": {},
   "source": [
    "---\n",
    "# ESERCIZI GUIDATI\n",
    "> Indica il tipo di iterazione più adatto e completa le celle `# TODO`.\n",
    "\n",
    "## 1) Somma dei numeri da 1 a N\n",
    "**Testo del problema:** dato il numero N in input, dare come output la somma dei primi N numeri interi.\n",
    "\n",
    "**Input:** un intero `N`  \n",
    "**Output:** la somma `1 + 2 + ... + N`\n",
    "*(Suggerimento: `for` con `range` oppure formula chiusa)*\n"
   ]
  },
  {
   "cell_type": "code",
   "execution_count": null,
   "id": "5e9352e5",
   "metadata": {},
   "outputs": [],
   "source": [
    "# TODO: completa\n",
    "N = 10\n",
    "somma = 0\n",
    "# scrivi qui il ciclo per sommare 1..N\n",
    "for i in range(1, N+1):\n",
    "    somma += i\n",
    "\n",
    "print(\"Somma 1..N =\", somma)"
   ]
  },
  {
   "cell_type": "markdown",
   "id": "380da8f4",
   "metadata": {},
   "source": [
    "## 2) Conta vocali in una parola\n",
    "\n",
    "**Testo del problema:** Data una stringa contare il numero di vocali presenti all'interno della stessa.\n",
    "\n",
    "**Input:** una stringa  \n",
    "**Output:** numero di vocali presenti\n",
    "*(Suggerimento: `for` su stringa + condizionale)*\n"
   ]
  },
  {
   "cell_type": "code",
   "execution_count": null,
   "id": "a4522014",
   "metadata": {},
   "outputs": [],
   "source": [
    "# TODO: completa\n",
    "parola = \"programmazione\"\n",
    "vocali = \"aeiou\"\n",
    "conteggio = 0\n",
    "for ch in parola.lower():\n",
    "    if ch in vocali:\n",
    "        conteggio += 1\n",
    "print(\"Vocali:\", conteggio)"
   ]
  },
  {
   "cell_type": "markdown",
   "id": "2d14e34f",
   "metadata": {},
   "source": [
    "## 3) Ricerca con `while`\n",
    "Chiedi all'utente di inserire una password finché non corrisponde a `\"segreto\"` (max 3 tentativi). Se la indovina, stampa \"OK\", altrimenti \"BLOCCATO\".\n"
   ]
  },
  {
   "cell_type": "code",
   "execution_count": null,
   "id": "dea43fff",
   "metadata": {},
   "outputs": [],
   "source": [
    "# TODO: completa\n",
    "# Nota: per il test in notebook puoi simulare input con una lista di tentativi\n",
    "tentativi = [\"abc\", \"segreto\", \"xyz\"]  # sostituisci con input() in ambiente interattivo\n",
    "i = 0\n",
    "ok = False\n",
    "while i < 3:\n",
    "    pwd = tentativi[i]  # da prendere in input la password: input(\"Password: \")\n",
    "    if pwd == \"segreto\":\n",
    "        ok = True\n",
    "        break\n",
    "    i += 1\n",
    "\n",
    "print(\"OK\" if ok else \"BLOCCATO\")"
   ]
  },
  {
   "cell_type": "markdown",
   "id": "045ed792",
   "metadata": {},
   "source": [
    "## 4) Filtra pari e calcola media\n",
    "Dato un elenco di numeri, estrai solo i pari e calcolane la media (se presenti).\n"
   ]
  },
  {
   "cell_type": "code",
   "execution_count": null,
   "id": "d9baa858",
   "metadata": {},
   "outputs": [],
   "source": [
    "# TODO: completa\n",
    "numeri = [3, 4, 10, 11, 20, 21] # Lista di numeri\n",
    "pari = [x for x in numeri if x % 2 == 0]\n",
    "media = sum(pari) / len(pari) if pari else 0\n",
    "pari, media"
   ]
  },
  {
   "cell_type": "markdown",
   "id": "3d3bea82",
   "metadata": {},
   "source": [
    "## 5) Cicli annidati\n",
    "Stampa una **matrice 4×4** con numeri consecutivi da 1 a 16.\n"
   ]
  },
  {
   "cell_type": "code",
   "execution_count": null,
   "id": "6cae1e5e",
   "metadata": {},
   "outputs": [],
   "source": [
    "# TODO: completa\n"
   ]
  },
  {
   "cell_type": "markdown",
   "id": "560f255a",
   "metadata": {},
   "source": [
    "## 6) Cicli annidati\n",
    "Prendere in input un numero intero N ed un numero intero M.\n",
    "Creare una figura di '*' di dimensione NxM.\n"
   ]
  },
  {
   "cell_type": "code",
   "execution_count": null,
   "id": "ddbe3b78",
   "metadata": {},
   "outputs": [],
   "source": [
    "# TODO: completa\n"
   ]
  },
  {
   "cell_type": "markdown",
   "id": "f8a6f8d4",
   "metadata": {},
   "source": [
    "---\n",
    "# Esercizi\n",
    "\n",
    "1. **Numeri primi (Sieve semplice)**: dato `N`, stampa tutti i numeri primi ≤ `N` usando cicli annidati.\n",
    "2. **Istogramma testuale**: data una lista di interi positivi, stampa per ciascuno una riga di `*` lunga quanto il numero.\n",
    "3. **Triangolo di Floyd**: stampa il triangolo con numeri consecutivi su righe crescenti.\n"
   ]
  },
  {
   "cell_type": "markdown",
   "id": "8abc0fb3",
   "metadata": {},
   "source": [
    "## Soluzioni proposte (nascoste)\n",
    "Espandi le celle qui sotto **solo se necessario**.\n"
   ]
  },
  {
   "cell_type": "code",
   "execution_count": null,
   "id": "4a0e6634",
   "metadata": {},
   "outputs": [],
   "source": [
    "# Soluzione S1: Numeri primi ≤ N (semplice)\n",
    "N = 50\n",
    "primi = []\n",
    "for n in range(2, N+1):\n",
    "    e_primo = True\n",
    "    for d in range(2, int(n**0.5) + 1):\n",
    "        if n % d == 0:\n",
    "            e_primo = False\n",
    "            break\n",
    "    if e_primo:\n",
    "        primi.append(n)\n",
    "primi"
   ]
  },
  {
   "cell_type": "code",
   "execution_count": null,
   "id": "f08d13e4",
   "metadata": {},
   "outputs": [],
   "source": [
    "# Soluzione S2: Istogramma testuale\n",
    "dati = [3, 1, 4, 2, 5]\n",
    "for x in dati:\n",
    "    print(\"*\" * x)"
   ]
  },
  {
   "cell_type": "code",
   "execution_count": null,
   "id": "91364cea",
   "metadata": {},
   "outputs": [],
   "source": [
    "# Soluzione S3: Triangolo di Floyd\n",
    "righe = 5\n",
    "val = 1\n",
    "for r in range(1, righe+1):\n",
    "    riga = []\n",
    "    for _ in range(r):\n",
    "        riga.append(val)\n",
    "        val += 1\n",
    "    print(\" \".join(map(str, riga)))"
   ]
  },
  {
   "cell_type": "markdown",
   "id": "0353ab5c",
   "metadata": {},
   "source": [
    "---\n",
    "## Buone pratiche\n",
    "- Preferisci `for` quando itera su **collezioni** o usi `range()`; usa `while` quando c'è una **condizione** da mantenere.\n",
    "- Mantieni i **nomi delle variabili** significativi (`riga`, `colonna`, `studente`).\n",
    "- Evita cicli inutili: valuta funzioni come `sum`, `max`, `any`, `all`.\n",
    "- Attenzione ai **cicli infiniti** con `while`: assicurati di **modificare** la condizione.\n",
    "- Se ti serve l'indice, usa `enumerate()`; se abbini sequenze, usa `zip()`.\n",
    "- Le comprehensions sono potenti ma non esagerare: leggibilità prima di tutto.\n"
   ]
  }
 ],
 "metadata": {
  "kernelspec": {
   "display_name": "Python 3",
   "language": "python",
   "name": "python3"
  },
  "language_info": {
   "codemirror_mode": {
    "name": "ipython",
    "version": 3
   },
   "file_extension": ".py",
   "mimetype": "text/x-python",
   "name": "python",
   "nbconvert_exporter": "python",
   "pygments_lexer": "ipython3",
   "version": "3.12.0"
  }
 },
 "nbformat": 4,
 "nbformat_minor": 5
}
