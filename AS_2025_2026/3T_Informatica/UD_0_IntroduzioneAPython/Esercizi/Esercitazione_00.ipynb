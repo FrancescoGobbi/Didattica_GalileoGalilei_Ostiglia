{
 "cells": [
  {
   "cell_type": "markdown",
   "id": "5c1dfba6",
   "metadata": {},
   "source": [
    "# Esercitazione 00 - Introduzione a Python\n",
    "\n",
    "**Francesco Gobbi**  \n",
    "*I.I.S.S. Galileo Galilei, Ostiglia*"
   ]
  },
  {
   "cell_type": "markdown",
   "id": "f1eb5d8c",
   "metadata": {},
   "source": [
    "# Introduzione a Python e Jupyter Notebook  \n",
    "\n",
    "\n",
    "Notebook di introduzione a Python. \n",
    "In questa esercitazione andremo a definire cos'è Python e vedere alcune cose necessarie e basilari sull'utilizzo di Jupyter Notebook.\n",
    "\n",
    "**Python è un linguaggio di programmazione di alto livello ad oggetti**, noto per la sua leggibilità e semplicità. È utilizzato in molti ambiti, dalla scienza dei dati allo sviluppo web, e la sua natura dinamica lo rende molto flessibile per chi inizia a programmare."
   ]
  },
  {
   "cell_type": "markdown",
   "id": "8436e3b2",
   "metadata": {},
   "source": [
    "## Cos'è Python?\n",
    "\n",
    "Python è un linguaggio interpretato e dinamico che permette di scrivere codice in modo intuitivo. \n",
    "**Una delle sue caratteristiche principali è che non è necessario dichiarare esplicitamente il tipo di una variabile: l'interprete Python assegna il tipo in maniera dinamica al momento dell'assegnazione.**\n",
    "\n",
    "Questa semplicità lo rende ideale per imparare a programmare e per sviluppare rapidamente soluzioni a problemi complessi."
   ]
  },
  {
   "cell_type": "markdown",
   "id": "95a75b70",
   "metadata": {},
   "source": [
    "## Comandi di Base in Jupyter Notebook\n",
    "\n",
    "Per utilizzare al meglio Jupyter Notebook, è utile conoscere alcuni comandi fondamentali:\n",
    "\n",
    "- **Eseguire una cella:** Selezionate la cella e premete `Shift + Enter` oppure cliccate sul pulsante \"Run\" nella barra degli strumenti.\n",
    "- **Aggiungere una cella:** Utilizzate il pulsante `+` per inserire una nuova cella sotto quella corrente.\n",
    "- **Tipo di cella:** Le celle possono essere di tipo **Markdown** (per il testo formattato, come questa cella/blocco) oppure **Code** (per il codice Python).\n",
    "- **Interrompere l'esecuzione:** Se un codice sta impiegando troppo tempo o è in esecuzione infinita, potete interromperlo cliccando su `Stop` nella barra degli strumenti.\n",
    "\n",
    "Questi comandi vi permetteranno di interagire in modo efficace con il notebook e sperimentare con il codice in tempo reale."
   ]
  },
  {
   "cell_type": "code",
   "execution_count": null,
   "id": "3e60d8af",
   "metadata": {},
   "outputs": [],
   "source": [
    "# Prova finale: stampa 'Hello World!'\n",
    "# Esegui questa cella per verificare e provare il primo programma in Python\n",
    "print(\"Hello World!\")"
   ]
  }
 ],
 "metadata": {
  "kernelspec": {
   "display_name": "Python 3",
   "language": "python",
   "name": "python3"
  },
  "language_info": {
   "codemirror_mode": {
    "name": "ipython",
    "version": 3
   },
   "file_extension": ".py",
   "mimetype": "text/x-python",
   "name": "python",
   "nbconvert_exporter": "python",
   "pygments_lexer": "ipython3",
   "version": "3.12.0"
  }
 },
 "nbformat": 4,
 "nbformat_minor": 5
}
