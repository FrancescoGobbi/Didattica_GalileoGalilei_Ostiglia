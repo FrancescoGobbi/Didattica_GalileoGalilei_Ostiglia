{
 "cells": [
  {
   "cell_type": "markdown",
   "id": "0de3ffd1",
   "metadata": {},
   "source": [
    "# Esercitazione 03 - Input e Output in Python\n",
    "\n",
    "**Francesco Gobbi**  \n",
    "*I.I.S.S. Galileo Galilei, Ostiglia*  \n",
    "\n",
    "Documentazione ufficiale Python: https://docs.python.org/3/"
   ]
  },
  {
   "cell_type": "markdown",
   "id": "881c0aa8",
   "metadata": {},
   "source": [
    "# Input dell'utente, conversioni e stampa formattata"
   ]
  },
  {
   "cell_type": "markdown",
   "id": "82b71d55",
   "metadata": {},
   "source": [
    "## Come funziona `input()`\n",
    "La funzione `input(prompt/messaggio)` legge una riga digitata dall'utente **come stringa** (tipo `str`).  \n",
    "- Il `prompt/messaggio` è facoltativo, ma utile per spiegare cosa inserire.\n",
    "- Tutto ciò che arriva da tastiera è testo: se servono numeri o altri tipi, **converti** esplicitamente.\n"
   ]
  },
  {
   "cell_type": "code",
   "execution_count": null,
   "id": "e7f518de",
   "metadata": {},
   "outputs": [],
   "source": [
    "# Esempio base di input e print\n",
    "nome = input(\"Come ti chiami? \")\n",
    "print(\"Ciao,\", nome)  # stampa base con separatore predefinito (spazio)\n",
    "print(f\"Piacere di conoscerti, {nome}!\")  # f-string"
   ]
  },
  {
   "cell_type": "markdown",
   "id": "3577fe0d",
   "metadata": {},
   "source": [
    "## Conversione dell'input (int, float) e gestione degli errori\n",
    "Per ottenere numeri, usa `int()` o `float()` sul valore letto da `input()`.  \n"
   ]
  },
  {
   "cell_type": "code",
   "execution_count": null,
   "id": "17c6e91b",
   "metadata": {},
   "outputs": [],
   "source": [
    "# Esempio: somma di due numeri con gestione degli errori\n",
    "a_txt = input(\"Inserisci il primo numero intero: \")\n",
    "b_txt = input(\"Inserisci il secondo numero intero: \")"
   ]
  },
  {
   "cell_type": "markdown",
   "id": "3753406b",
   "metadata": {},
   "source": [
    "## Stampa con `print()`: separatori, terminatori e formattazione\n",
    "- Le **f-string** (`f\"...\"`) consentono formattazioni compatte (es. `:.2f` per due decimali).\n"
   ]
  },
  {
   "cell_type": "code",
   "execution_count": null,
   "id": "44d2812b",
   "metadata": {},
   "outputs": [],
   "source": [
    "# Esempi di stampa formattata\n",
    "peso = 73.4567\n",
    "altezza = 1.81\n",
    "\n",
    "print(f\"BMI ~ {peso / (altezza**2):.2f}\")             # f-string con 2 decimali\n",
    "\n",
    "# Allineamento colonne con f-string\n",
    "prodotto = \"Quaderno\"\n",
    "prezzo = 1.5\n",
    "print(f\"{prodotto:12} | € {prezzo:6.2f}\")  # nome su 12 caratteri, prezzo su 6 con 2 decimali\n"
   ]
  },
  {
   "cell_type": "markdown",
   "id": "cb9cc821",
   "metadata": {},
   "source": [
    "## Codice di Prova per Sperimentare\n",
    "Modifica e lancia i seguenti spezzoni per fare pratica con input, conversioni e stampa.\n"
   ]
  },
  {
   "cell_type": "code",
   "execution_count": null,
   "id": "51e22c70",
   "metadata": {},
   "outputs": [],
   "source": [
    "# TODO 1: chiedi all'utente il raggio di un cerchio (float) e stampa l'area con 3 decimali.\n",
    "# Suggerimento: area = 3.141592653589793 * r**2"
   ]
  },
  {
   "cell_type": "code",
   "execution_count": null,
   "id": "01e1889e",
   "metadata": {},
   "outputs": [],
   "source": [
    "# TODO 2: chiedi un anno di nascita (int) e calcola l'età approssimativa (usa l'anno corrente se vuoi)."
   ]
  },
  {
   "cell_type": "markdown",
   "id": "dc40c6b8",
   "metadata": {},
   "source": [
    "## Riassunto dei concetti essenziali della lezione\n",
    "- `input()` legge **stringhe**: converti con `int()` o `float()` se servono numeri.\n",
    "- È possibile migliorare l'output con le **f-string** per formattazioni chiare e compatte.\n"
   ]
  },
  {
   "cell_type": "code",
   "execution_count": null,
   "id": "921a1c8a",
   "metadata": {},
   "outputs": [],
   "source": [
    "# Esercizio 1 di comprensione del codice seguente:\n",
    "\n",
    "import sys\n",
    "\n",
    "a = 10\n",
    "b = 1\n",
    "\n",
    "a = input(\"Inserisci un numero: \")\n",
    "b = input(\"Inserisci un altro numero: \")\n",
    "c = a\n",
    "a = b\n",
    "\n",
    "b = c\n",
    "\n",
    "print(\"a =\", a)\n",
    "print(\"b =\", b)\n",
    "print(\"c =\", c)\n",
    "\n",
    "# Indica cosa stampa il programma per i seguenti input, indicare la tipologia e spiegare il perché dell'output"
   ]
  },
  {
   "cell_type": "code",
   "execution_count": null,
   "id": "72552906",
   "metadata": {},
   "outputs": [],
   "source": [
    "# Esercizio 2 di comprensione del codice seguente:\n",
    "\n",
    "a = 6\n",
    "b = 4\n",
    "c = a + b\n",
    "c = c - b\n",
    "\n",
    "b = c - a\n",
    "a = c + b\n",
    "\n",
    "print(\"a =\", a)\n",
    "print(\"b =\", b)\n",
    "print(\"c =\", c)\n",
    "\n",
    "# Indica cosa stampa il programma per i seguenti input, indicare la tipologia e spiegare il perché dell'output"
   ]
  }
 ],
 "metadata": {
  "kernelspec": {
   "display_name": "Python 3",
   "language": "python",
   "name": "python3"
  },
  "language_info": {
   "codemirror_mode": {
    "name": "ipython",
    "version": 3
   },
   "file_extension": ".py",
   "mimetype": "text/x-python",
   "name": "python",
   "nbconvert_exporter": "python",
   "pygments_lexer": "ipython3",
   "version": "3.12.0"
  }
 },
 "nbformat": 4,
 "nbformat_minor": 5
}
