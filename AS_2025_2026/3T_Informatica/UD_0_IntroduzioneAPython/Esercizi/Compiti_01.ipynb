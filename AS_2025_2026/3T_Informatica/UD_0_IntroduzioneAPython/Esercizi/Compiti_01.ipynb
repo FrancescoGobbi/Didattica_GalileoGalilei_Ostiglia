{
 "cells": [
  {
   "cell_type": "markdown",
   "id": "dc4ff759",
   "metadata": {},
   "source": [
    "# Compiti 01 - Introduzione a Python\n",
    "\n",
    "**Francesco Gobbi**  \n",
    "*I.I.S.S. Galileo Galilei, Ostiglia*\n",
    "\n",
    "Documentazione ufficiale Python: https://docs.python.org/3/"
   ]
  },
  {
   "cell_type": "code",
   "execution_count": null,
   "id": "eeca4493",
   "metadata": {},
   "outputs": [],
   "source": [
    "# Esercizio 7:\n",
    "# Scrivi un programma che dato il raggio di un cerchio, calcoli l'area del cerchio e la circonferenza.\n",
    "# Il raggio deve essere inizializzato da voi.\n",
    "\n",
    "# Eseguire la creazione degli oggetti, l'inizializzazione, il calcolo e la stampa del risultato.\n",
    "# Inserire anche la stampa del tipo di variabile e della memoria occupata (per la memoria occupata serve all'inizio del codice: import sys).\n",
    "\n",
    "# TO DO..."
   ]
  },
  {
   "cell_type": "code",
   "execution_count": null,
   "id": "b7908aeb",
   "metadata": {},
   "outputs": [],
   "source": [
    "# Esercizio 8:\n",
    "# Scrivi un programma che date tre stringhe, le concateni in una sola stringa separandole con uno spazio.\n",
    "# Le tre stringhe devono essere inizializzate da voi.\n",
    "# Eseguire la creazione degli oggetti, l'inizializzazione, la concatenazione e la stampa del risultato.\n",
    "# Inserire anche la stampa del tipo di variabile e della memoria occupata (per la memoria occupata serve all'inizio del codice: import sys).\n",
    "\n",
    "# TO DO..."
   ]
  },
  {
   "cell_type": "code",
   "execution_count": null,
   "id": "12ffd232",
   "metadata": {},
   "outputs": [],
   "source": [
    "# esercizio 9:\n",
    "# Scrivi un programma che date due interi, da inizializzare con il valore.\n",
    "# Eseguire l'elevamento a potenza del primo intero al secondo intero.\n",
    "# Eseguire la creazione degli oggetti, l'inizializzazione, il calcolo e la stampa del risultato.\n",
    "# Inserire anche la stampa del tipo di variabile e della memoria occupata (per la memoria occupata serve all'inizio del codice: import sys).\n",
    "\n",
    "# TO DO..."
   ]
  }
 ],
 "metadata": {
  "kernelspec": {
   "display_name": "Python 3",
   "language": "python",
   "name": "python3"
  },
  "language_info": {
   "name": "python",
   "version": "3.12.0"
  }
 },
 "nbformat": 4,
 "nbformat_minor": 5
}
