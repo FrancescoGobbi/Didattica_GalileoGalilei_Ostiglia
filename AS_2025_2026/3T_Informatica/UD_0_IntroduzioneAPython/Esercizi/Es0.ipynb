{
  "cells": [
    {
      "cell_type": "code",
      "execution_count": 2,
      "id": "580b8387-6f8e-46e3-ae0e-20a81bdb4c2f",
      "metadata": {
        "trusted": true
      },
      "outputs": [
        {
          "name": "stdout",
          "output_type": "stream",
          "text": [
            " Hello , World ! \n"
          ]
        }
      ],
      "source": [
        "print ( \" Hello , World ! \" )"
      ]
    }
  ],
  "metadata": {
    "kernelspec": {
      "display_name": "Python (Pyodide)",
      "language": "python",
      "name": "python"
    },
    "language_info": {
      "codemirror_mode": {
        "name": "python",
        "version": 3
      },
      "file_extension": ".py",
      "mimetype": "text/x-python",
      "name": "python",
      "nbconvert_exporter": "python",
      "pygments_lexer": "ipython3",
      "version": "3.8"
    }
  },
  "nbformat": 4,
  "nbformat_minor": 5
}
