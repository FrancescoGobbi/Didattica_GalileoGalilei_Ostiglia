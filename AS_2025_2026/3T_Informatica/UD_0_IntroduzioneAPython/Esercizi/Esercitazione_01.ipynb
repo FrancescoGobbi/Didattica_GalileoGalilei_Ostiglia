{
 "cells": [
  {
   "cell_type": "markdown",
   "id": "esercitazione-02-intro",
   "metadata": {},
   "source": [
    "# Esercitazione 01 - Introduzione a Python\n",
    "\n",
    "**Francesco Gobbi**  \n",
    "*I.I.S.S. Galileo Galilei, Ostiglia*  \n",
    "\n",
    "Documentazione ufficiale Python: https://docs.python.org/3/"
   ]
  },
  {
   "cell_type": "markdown",
   "id": "intro-commenti-title",
   "metadata": {},
   "source": [
    "# Introduzione ai Commenti in Python\n",
    "\n",
    "I commenti sono parti del codice che vengono ignorate dall'interprete e servono a documentare e spiegare il funzionamento del codice stesso. In Python esistono due modalità principali per inserire commenti."
   ]
  },
  {
   "cell_type": "markdown",
   "id": "intro-commenti-desc",
   "metadata": {},
   "source": [
    "## Tipi di Commenti\n",
    "\n",
    "- **Commento a riga singola:** Utilizza il simbolo `#` per commentare una singola riga. Tutto ciò che segue `#` **sulla stessa riga** verrà ignorato dall'interprete.\n",
    "\n",
    "- **Commento multilinea:** Pur non essendoci un commento vero e proprio per più righe, comunemente si usano stringhe delimitate da **tre virgolette (tripla apice o tripla doppia)** non assegnate a nessuna variabile. Queste stringhe vengono ignorate quando non sono usate come docstring.\n",
    "\n",
    "\n",
    "N.B. Potrebbe essere che il commento multilinea che utilizza il triplo doppio apice crei dei problemi e venga comunque visto dall'interprete come una stampa di codice.\n",
    "**Consigliato quindi l'utilizzo di commento multilinea con triplo apice**."
   ]
  },
  {
   "cell_type": "code",
   "execution_count": null,
   "id": "esempi-commenti",
   "metadata": {},
   "outputs": [],
   "source": [
    "# Esempio di commento a riga singola\n",
    "print(\"Esempio di commento a riga singola\")  # Questa riga di codice stampa un messaggio\n",
    "\n",
    "''' \n",
    "Questo è un esempio di commento multilinea \n",
    "utilizzando tre apici singoli. \n",
    "Tutto il testo qui dentro viene ignorato dall'interprete.\n",
    "''' \n",
    "\n",
    "print(\"Fine degli esempi di commenti\")"
   ]
  },
  {
   "cell_type": "markdown",
   "id": "intro-variabili-title",
   "metadata": {},
   "source": [
    "# Introduzione alle Variabili in Python: Concetti, Oggetti e Memoria\n",
    "\n",
    "**In Python, le variabili sono riferimenti ad oggetti**. **Ogni variabile punta a un oggetto in memoria, e ogni oggetto possiede un tipo specifico** (come `int`, `float`, `str`, `bool`, ecc.) e un’occupazione in memoria che può essere misurata, ad esempio, con la funzione `sys.getsizeof()`."
   ]
  },
  {
   "cell_type": "markdown",
   "id": "variabili-oggetti",
   "metadata": {},
   "source": [
    "## Le Variabili come Oggetti\n",
    "\n",
    "In Python **tutto è un oggetto**. Quando assegni un valore a una variabile, l'interprete crea un oggetto e la variabile memorizza il riferimento a tale oggetto.\n",
    "\n",
    "Ogni oggetto ha:\n",
    "\n",
    "- Un **tipo** (ad es. `int`, `float`, `str`, `bool`).\n",
    "- Un'**occupazione in memoria**, che può variare a seconda del valore e del tipo."
   ]
  },
  {
   "cell_type": "markdown",
   "id": "variabile-intera-desc",
   "metadata": {},
   "source": [
    "## Variabile Intera (`int`)\n",
    "\n",
    "Le variabili intere rappresentano numeri senza parte decimale. In CPython, un intero piccolo tipico occupa circa **28 byte**.\n",
    "\n",
    "Esempio: il numero `10`."
   ]
  },
  {
   "cell_type": "code",
   "execution_count": null,
   "id": "int-example",
   "metadata": {},
   "outputs": [],
   "source": [
    "import sys # Import di una libreria per funzioni di sistema\n",
    "\n",
    "# Esempio di variabile intera\n",
    "x = 10  # Assegna il valore 10 a x\n",
    "\n",
    "# Stampa solo la variabile\n",
    "print(x)\n",
    "\n",
    "# Stampa con del testo e la variabile sulla stessa riga\n",
    "print('Intero:', x)\n",
    "print(\"Il numero intero è: \", x)\n",
    "print(\"Il numero è:\", x, \",è un numero intero!\")\n",
    "\n",
    "# Stampa del tipo di variabile\n",
    "print('Tipo di x:', type(x))\n",
    "\n",
    "# Stampa la quantità di memoria occupata dalla variabile\n",
    "print('Memoria occupata da x:', sys.getsizeof(x), 'byte')"
   ]
  },
  {
   "cell_type": "markdown",
   "id": "variabile-float-desc",
   "metadata": {},
   "source": [
    "## Variabile Float (`float`)\n",
    "\n",
    "Le variabili float rappresentano numeri con parte decimale. In CPython un float occupa solitamente circa **24 byte**.\n",
    "\n",
    "Esempio: il numero `3.14`."
   ]
  },
  {
   "cell_type": "code",
   "execution_count": null,
   "id": "float-example",
   "metadata": {},
   "outputs": [],
   "source": [
    "import sys # Import di una libreria per funzioni di sistema\n",
    "\n",
    "# Esempio di variabile float\n",
    "pi = 3.14  # Assegna il valore 3.14 a pi\n",
    "\n",
    "# Stampa solo la variabile\n",
    "print(pi)\n",
    "\n",
    "# Stampa con del testo e la variabile sulla stessa riga\n",
    "print('Float:', pi)\n",
    "\n",
    "# Stampa del tipo di variabile\n",
    "print('Tipo di pi:', type(pi))\n",
    "\n",
    "# Stampa la quantità di memoria occupata dalla variabile\n",
    "print('Memoria occupata da pi:', sys.getsizeof(pi), 'byte')"
   ]
  },
  {
   "cell_type": "markdown",
   "id": "variabile-stringa-desc",
   "metadata": {},
   "source": [
    "## Variabile Stringa (`str`)\n",
    "\n",
    "Le variabili stringa memorizzano sequenze di caratteri. L'occupazione in memoria di una stringa dipende dalla sua lunghezza. Ad esempio, in CPython una stringa vuota occupa circa **41 byte**; per ogni carattere aggiunto, l'occupazione aumenta di un byte.\n",
    "\n",
    "Esempio: la stringa \"Alice\"."
   ]
  },
  {
   "cell_type": "code",
   "execution_count": null,
   "id": "string-example",
   "metadata": {},
   "outputs": [],
   "source": [
    "import sys # Import di una libreria per funzioni di sistema\n",
    "\n",
    "# Esempio di variabile stringa\n",
    "nome = \"Alice\"  # Assegna la stringa \"Alice\" a nome\n",
    "\n",
    "# Stampa solo la variabile\n",
    "print(nome)\n",
    "\n",
    "# Stampa con del testo e la variabile sulla stessa riga\n",
    "print('Stringa composta da:', nome)\n",
    "\n",
    "# Stampa del tipo di variabile\n",
    "print('Tipo di nome:', type(nome))\n",
    "\n",
    "# Stampa la quantità di memoria occupata dalla variabile\n",
    "print('Memoria occupata dalla stringa:', sys.getsizeof(nome), 'byte')\n",
    "\n",
    "# Esempio di variabile stringa vuota\n",
    "vuota = \"\" # Assegna la stringa vuota alla variabile nome\n",
    "\n",
    "# Stampa solo la variabile\n",
    "print(vuota)\n",
    "\n",
    "# Stampa con del testo e la variabile sulla stessa riga\n",
    "print('Stringa vuota è così composta:', vuota)\n",
    "\n",
    "# Stampa la quantità di memoria occupata dalla variabile\n",
    "print('Memoria occupata dalla stringa vuota:', sys.getsizeof(vuota), 'byte')\n",
    "\n",
    "# Creiamo una nuova stringa di 6 carattteri\n",
    "str = \"albero di ciliegie\"\n",
    "# Stampa con del testo e la variabile sulla stessa riga\n",
    "print('Stringa vuota è così composta:', str)\n",
    "\n",
    "# Stampa la quantità di memoria occupata dalla variabile\n",
    "print('Memoria occupata dalla stringa vuota:', sys.getsizeof(str), 'byte')"
   ]
  },
  {
   "cell_type": "code",
   "execution_count": null,
   "id": "02002801",
   "metadata": {},
   "outputs": [],
   "source": [
    "# Esercizio di prova (riassegnamento e stampa) --> Si rivedrà nel file Esercitazione_02.ipynb\n",
    "\n",
    "x = 10 # Creo un oggetto di tipo intero accessibile tramite la variabile/etichetta x\n",
    "y = x # Creo una nuova variabile/etichetta y che punta allo stesso oggetto di x\n",
    "\n",
    "print(\"x:\", x)\n",
    "print(\"y:\", y)\n",
    "\n",
    "y = 20 # Ora y punta ad un nuovo oggetto di tipo intero\n",
    "\n",
    "print(\"Dopo aver cambiato y:\")\n",
    "print(\"x:\", x)\n",
    "print(\"y:\", y)"
   ]
  },
  {
   "cell_type": "markdown",
   "id": "variabile-booleana-desc",
   "metadata": {},
   "source": [
    "## Variabile Booleana (`bool`)\n",
    "\n",
    "Le variabili booleane rappresentano valori logici, ovvero `True` o `False`. In CPython, una variabile booleana occupa generalmente una quantità di memoria simile a quella degli interi, intorno ai **28 byte**.\n",
    "\n",
    "Esempio: il valore `True`."
   ]
  },
  {
   "cell_type": "code",
   "execution_count": null,
   "id": "bool-example",
   "metadata": {},
   "outputs": [],
   "source": [
    "import sys # Import di una libreria per funzioni di sistema\n",
    "\n",
    "# Esempio di variabile booleana\n",
    "is_attivo = True  # Assegna il valore True a is_attivo\n",
    "\n",
    "# Stampa solo la variabile\n",
    "print(is_attivo)\n",
    "\n",
    "# Stampa con del testo e la variabile sulla stessa riga\n",
    "print('Booleano:', is_attivo)\n",
    "\n",
    "# Stampa del tipo di variabile\n",
    "print('Tipo di is_attivo:', type(is_attivo))\n",
    "\n",
    "# Stampa la quantità di memoria occupata dalla variabile\n",
    "print('Memoria occupata da is_attivo:', sys.getsizeof(is_attivo), 'byte')"
   ]
  },
  {
   "cell_type": "markdown",
   "id": "conclusioni",
   "metadata": {},
   "source": [
    "## Riassunto dei concetti essenziali della lezione\n",
    "\n",
    "In questo notebook abbiamo visto come inserire commenti in Python, sia a riga singola che su più righe.\n",
    "\n",
    "Abbiamo visto che in Python ogni variabile è un oggetto, definendo alcune tipologie e l’occupazione in memoria per i tipi più comuni: **interi**, **float**, **stringhe** e **booleani**."
   ]
  },
  {
   "cell_type": "markdown",
   "id": "296e76e1",
   "metadata": {},
   "source": [
    "## Esercizio\n",
    "Provare un nuovo codice Python per sperimentare con le tipologie di oggetti viste a lezione per allenarsi nel funzionamento della gestione della memoria in Python."
   ]
  },
  {
   "cell_type": "code",
   "execution_count": null,
   "id": "71b1f8dd",
   "metadata": {},
   "outputs": [],
   "source": [
    "# Esercizio 0:\n",
    "x = 10 # Questo è un oggetto intero con il valore 10\n",
    "\n",
    "y = 20 # Questo è un oggetto intero con il valore 20\n",
    "\n",
    "# Eseguiamo la somma tra x e y\n",
    "somma = x + y\n",
    "\n",
    "# Stampa solo la variabile\n",
    "print(somma)\n",
    "# Stampa con del testo e la variabile sulla stessa riga\n",
    "print('La somma tra', x, 'e', y, 'é:', somma)\n",
    "print('La variabile x è uguale a:', x, 'mentre la variabile y è uguale a:', y, ', quindi la somma tra le due variabile è:', somma)"
   ]
  },
  {
   "cell_type": "code",
   "execution_count": null,
   "id": "385d6b40",
   "metadata": {},
   "outputs": [],
   "source": [
    "# Esercizio 1: \n",
    "# Creare tre variabili/oggetti e fare la media tra le tre variabili. \n",
    "# Stampare il risultato\n",
    "\n",
    "primoVoto = 6.5\n",
    "secondoVoto = 4.7\n",
    "terzoVoto = 7.3\n",
    "\n",
    "# Eseguo la somam tra i tre variabili\n",
    "somma = primoVoto + secondoVoto + terzoVoto\n",
    "\n",
    "# Eseguo la media\n",
    "media = somma / 3\n",
    "# Riga alternativa di codice per la media\n",
    "#media = (primoVoto + secondoVoto + terzoVoto)/3\n",
    "\n",
    "print(media) # Stampo la media"
   ]
  },
  {
   "cell_type": "code",
   "execution_count": null,
   "id": "d72c6708",
   "metadata": {},
   "outputs": [],
   "source": [
    "# Esercizio 2:\n",
    "# Creare due variabili/oggetti, assegnare ad essere dei valori definiti da voi.\n",
    "# Il programma dovrà eseguire il prodotto tra le dua varibiali.\n",
    "# Stampare poi tale valore\n",
    "\n",
    "# Creo ed inizializzo le variabili con valori definiti da noi\n",
    "A = 5.5\n",
    "B = 3.14\n",
    "\n",
    "# Creo ed eseguo il prodotto\n",
    "prodotto = A * B\n",
    "\n",
    "# Eseguo la stampa\n",
    "print(prodotto)\n",
    "print('Il prodotto tra', A, 'e', B, 'è:', prodotto)"
   ]
  },
  {
   "cell_type": "code",
   "execution_count": null,
   "id": "bfd07ee9",
   "metadata": {},
   "outputs": [],
   "source": [
    "# Esercizio 3:\n",
    "# Creare tre variabili/oggetti (a, b e c), assegnare ad esse dei valori definiti da voi.\n",
    "# Il programma deve eseguire il prodotto tra a*b, poi dovrà eseguire \n",
    "# la divisione di tale risultato con la variabile c\n",
    "# Stampare poi il risultato.\n",
    "\n",
    "# Creo ed inizializzo le variabili con valori definiti da noi\n",
    "A = 3.2\n",
    "B = 8.5\n",
    "C = 15.1\n",
    "\n",
    "# Eseguiamo il prodotto tra A*B\n",
    "prodotto = A * B\n",
    "\n",
    "# Eseguiamo la divisione\n",
    "divisione = prodotto / C\n",
    "\n",
    "# Alternativa \n",
    "# risultato = (A * B) / C\n",
    "\n",
    "# Eseguo la stampa\n",
    "print('Il prodotto tra', A, 'e', B, 'è:', prodotto)\n",
    "print('La divisione tra', prodotto, 'e', C, 'è:', divisione)"
   ]
  },
  {
   "cell_type": "code",
   "execution_count": null,
   "id": "303edb68",
   "metadata": {},
   "outputs": [],
   "source": [
    "# Esercizio 4:\n",
    "# Creare tre variabili stringhe (a, b e c), assegnare ad esse delle parole definite da voi.\n",
    "# Il programma deve eseguire la concatenazione tra a e b, poi \n",
    "# dovrà eseguire la concatenazione di tale risultato con la variabile c\n",
    "# Stampare poi il risultato.\n",
    "\n",
    "# Concatenazione: concatenare significa unire due o più stringhe in una sola.\n",
    "\n",
    "# Creo le variabili \n",
    "A = \"Alice \"\n",
    "B = \"ha \"\n",
    "C = \"15 anni \"\n",
    "\n",
    "# Concateniamo le stringhe\n",
    "risultato = A + B + C\n",
    "\n",
    "# Stampa del risultato\n",
    "print(risultato)"
   ]
  },
  {
   "cell_type": "code",
   "execution_count": null,
   "id": "8459f5b6",
   "metadata": {},
   "outputs": [],
   "source": [
    "# Esercizio 5:\n",
    "# Scrivi un programma che data la base di un triangolo isoscele e l'altezza, che dovrete inizializzare voi,\n",
    "# calcoli l'area del triangolo.\n",
    "# Il programma deve anche calcolare la dimensione dei due cateti obliqui del triangolo isoscele.\n",
    "# Stampare poi i due risultati.\n",
    "\n",
    "# STEP 0: Inizializzo la base e l'altezza del triangolo isoscele\n",
    "# INIZIALIZZAZIONE --> Creo un nuovo oggetto, assegno ad esso un valore ed il nome \n",
    "# dell'etichetta/puntatore si collegherà all'oggetto creato\n",
    "base = 6\n",
    "altezza = 3\n",
    "\n",
    "# Righe per la stampa: non utili al fine dell'esercizio\n",
    "# Stampa del tipo di oggetto\n",
    "print('Tipo di base:', type(base))\n",
    "print('Tipo di altezza:', type(altezza))\n",
    "\n",
    "# Stampa del valore dei singoli oggetti creati\n",
    "print('Base:', base)\n",
    "print('Altezza:', altezza)\n",
    "\n",
    "# Step 1: Calcolo l'area del triangolo isoscele, come: area = (base * altezza) / 2\n",
    "area = (base * altezza) / 2\n",
    "\n",
    "# Righe per la stampa: non utili al fine dell'esercizio\n",
    "print('Tipo di area:', type(area))\n",
    "print('Area:', area)\n"
   ]
  },
  {
   "cell_type": "code",
   "execution_count": null,
   "id": "e820df66",
   "metadata": {},
   "outputs": [],
   "source": [
    "# Esercizio 6:\n",
    "# Scrivi un programma che dato due punti nello spazio (x1, y1) e (x2, y2), calcoli la distanza tra i due punti.\n",
    "# I punti nello spazio sono definiti dalle loro coordinate (x1, y1) e (x2, y2).\n",
    "# Ogni singola coordinata (x1, y1, x2, y2) deve essere inizializzata da voi.\n",
    "\n",
    "# Eseguire la creazione degli oggetti, l'inizializzazione, il calcolo e la stampa del risultato.\n",
    "# Inserire anche la stampa del tipo di variabile e della memoria occupata (per la memoria occupata serve all'inizio del codice: import sys).\n",
    "\n",
    "# TO DO...\n"
   ]
  },
  {
   "cell_type": "code",
   "execution_count": null,
   "id": "369b5b1f",
   "metadata": {},
   "outputs": [],
   "source": [
    "# Esercizio 7:\n",
    "# Scrivi un programma che dato il raggio di un cerchio, calcoli l'area del cerchio e la circonferenza.\n",
    "# Il raggio deve essere inizializzato da voi.\n",
    "\n",
    "# Eseguire la creazione degli oggetti, l'inizializzazione, il calcolo e la stampa del risultato.\n",
    "# Inserire anche la stampa del tipo di variabile e della memoria occupata (per la memoria occupata serve all'inizio del codice: import sys).\n",
    "\n",
    "# TO DO..."
   ]
  },
  {
   "cell_type": "code",
   "execution_count": null,
   "id": "41fb147c",
   "metadata": {},
   "outputs": [],
   "source": [
    "# Esercizio 8:\n",
    "# Scrivi un programma che date tre stringhe, le concateni in una sola stringa separandole con uno spazio.\n",
    "# Le tre stringhe devono essere inizializzate da voi.\n",
    "# Eseguire la creazione degli oggetti, l'inizializzazione, la concatenazione e la stampa del risultato.\n",
    "# Inserire anche la stampa del tipo di variabile e della memoria occupata (per la memoria occupata serve all'inizio del codice: import sys).\n",
    "\n",
    "# TO DO..."
   ]
  }
 ],
 "metadata": {
  "kernelspec": {
   "display_name": "Python 3",
   "language": "python",
   "name": "python3"
  },
  "language_info": {
   "codemirror_mode": {
    "name": "ipython",
    "version": 3
   },
   "file_extension": ".py",
   "mimetype": "text/x-python",
   "name": "python",
   "nbconvert_exporter": "python",
   "pygments_lexer": "ipython3",
   "version": "3.12.0"
  }
 },
 "nbformat": 4,
 "nbformat_minor": 5
}
