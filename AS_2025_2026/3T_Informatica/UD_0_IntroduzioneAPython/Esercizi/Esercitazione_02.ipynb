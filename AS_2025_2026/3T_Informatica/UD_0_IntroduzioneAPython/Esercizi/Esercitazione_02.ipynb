{
 "cells": [
  {
   "cell_type": "markdown",
   "id": "fd2a4544",
   "metadata": {},
   "source": [
    "# Esercitazione 02 - Introduzione a Python\n",
    "\n",
    "**Francesco Gobbi**  \n",
    "*I.I.S.S. Galileo Galilei, Ostiglia*  "
   ]
  },
  {
   "cell_type": "markdown",
   "id": "cc716ad2",
   "metadata": {},
   "source": [
    "# Riferimento delle Variabili e Garbage Collection in Python\n",
    "\n",
    "In Python le variabili, viste come etichette, non contengono direttamente i dati, ma **riferiscono** ad oggetti in memoria. Questo notebook esplora come funziona questo meccanismo, cosa succede in seguito alla riassegnazione di una variabile e come opera il garbage collection."
   ]
  },
  {
   "cell_type": "markdown",
   "id": "633c8fda",
   "metadata": {},
   "source": [
    "## Cos'è un riferimento della variabile?\n",
    "\n",
    "Quando assegniamo un valore a una variabile in Python, la variabile contiene un **riferimento** all'oggetto che memorizza quel valore.\n",
    "\n",
    "_In informatica, un riferimento è un meccanismo che permette di accedere a un dato memorizzato in un’area di memoria, senza dover copiare o manipolare direttamente il dato stesso. In altre parole, un riferimento è come un indirizzo o un “puntatore” che indica dove si trova l’informazione all’interno della memoria del computer._\n",
    "\n",
    "\n",
    "Tutto questo da possibilità di avere due variabili possono puntare allo stesso oggetto in memoria. Per verificare a quale oggetto si riferisce una variabile possiamo usare la funzione `id()`, che restituisce l'identificativo (l'indirizzo in memoria) dell'oggetto.\n",
    "\n",
    "**In Python tutto quello che si crea sono oggetti puntati/referenziati da un'etichetta. Questa etichetta non ha niente al suo interno, se non il puntatore all'oggetto desiderato.**"
   ]
  },
  {
   "cell_type": "code",
   "execution_count": null,
   "id": "b55b54cd",
   "metadata": {},
   "outputs": [],
   "source": [
    "# Esempio base di riferimento\n",
    "a = 42\n",
    "b = a  # b punta allo stesso oggetto di a\n",
    "# Quindi un solo oggetto puntato da due variaibili\n",
    "\n",
    "# Verifico l'identificatore dell'oggetto associato ad a e b\n",
    "print(\"Valore di a:\", a, \"ID:\", id(a)) # id() restituisce l'identificativo univoco dell'oggetto\n",
    "print(\"Valore di b:\", b, \"ID:\", id(b)) # id() restituisce l'identificativo univoco dell'oggetto\n",
    "\n",
    "# Riassegnando a una variabile immutabile si crea un nuovo oggetto\n",
    "a = 100\n",
    "print(\"\\nDopo la riassegnazione di a:\")\n",
    "print(\"Valore di a:\", a, \"ID:\", id(a))\n",
    "print(\"Valore di b (rimane invariato):\", b, \"ID:\", id(b))"
   ]
  },
  {
   "cell_type": "markdown",
   "id": "83b3c7d6",
   "metadata": {},
   "source": [
    "## Significato del Riferimento in Informatica\n",
    "\n",
    "Il concetto di **riferimento (o puntatore)** è fondamentale in informatica per diverse ragioni:\n",
    "\n",
    "**Efficienza**:\n",
    "Utilizzare riferimenti evita la copia di dati di grandi dimensioni, poiché si opera direttamente sull’indirizzo di memoria dove è memorizzato l’oggetto.\n",
    "\n",
    "**Condivisione dei Dati**:\n",
    "Permette a diverse parti di un programma di accedere e manipolare lo stesso dato senza duplicarlo. Questo è particolarmente utile per oggetti mutabili, dove modifiche apportate da una parte del codice si riflettono in tutte le parti che utilizzano lo stesso riferimento.\n",
    "\n",
    "**Gestione della Memoria**:\n",
    "Il sistema di garbage collection in Python monitora i riferimenti agli oggetti e libera automaticamente la memoria occupata da quelli che non sono più referenziati da nessuna variabile."
   ]
  },
  {
   "cell_type": "markdown",
   "id": "ebd82ff3",
   "metadata": {},
   "source": [
    "## Riassegnazione delle Variabili\n",
    "\n",
    "La **riassegnazione** di una variabile consiste nel far puntare quella variabile a un nuovo oggetto. \n",
    "\n",
    "- **Oggetti immutabili** (come numeri o stringhe): la riassegnazione crea un nuovo oggetto e la variabile passa a riferirsi al nuovo oggetto, lasciando invariato l'altro riferimento (se presente).\n",
    "- **Oggetti mutabili** (come le liste): se si modifica l'oggetto (ad esempio, usando `append()`), tutti i riferimenti all'oggetto vedranno la modifica. Invece, se si riassegna la variabile ad un nuovo oggetto, il riferimento cambia solo per quella variabile.\n",
    "\n",
    "Vediamo un esempio con una lista."
   ]
  },
  {
   "cell_type": "code",
   "execution_count": null,
   "id": "3b7d3c3f",
   "metadata": {},
   "outputs": [],
   "source": [
    "# Esempio con oggetti immutabili (int)\n",
    "\n",
    "x = 10\n",
    "y = x  # y punta allo stesso oggetto di x\n",
    "print(\"\\nValore di x:\", x, \"ID:\", id(x))\n",
    "print(\"Valore di y:\", y, \"ID:\", id(y))\n",
    "\n",
    "x += 5  # Crea un  NUOVO oggetto per x\n",
    "# In questo caso x ora punta a un nuovo oggetto, y rimane invariato\n",
    "print(\"\\nDopo la modifica di x:\")\n",
    "print(\"Valore di x:\", x, \"ID:\", id(x))\n",
    "print(\"Valore di y (rimane invariato):\", y, \"ID:\", id(y))"
   ]
  },
  {
   "cell_type": "code",
   "execution_count": null,
   "id": "e3574bc5",
   "metadata": {},
   "outputs": [],
   "source": [
    "# Esempio con oggetti immutabili (int)\n",
    "\n",
    "x = 10\n",
    "y = x  # y punta allo stesso oggetto di x\n",
    "print(\"\\nValore di x:\", x, \"ID:\", id(x))\n",
    "print(\"Valore di y:\", y, \"ID:\", id(y))\n",
    "\n",
    "x = 5 # Crea un NUOVO oggetto per x\n",
    "# In questo caso x ora punta a un nuovo oggetto, y rimane invariato\n",
    "\n",
    "print(\"\\nDopo la riassegnazione di x:\")\n",
    "print(\"Valore di x:\", x, \"ID:\", id(x))\n",
    "print(\"Valore di y (rimane invariato):\", y, \"ID:\", id(y))"
   ]
  },
  {
   "cell_type": "code",
   "execution_count": null,
   "id": "9275c627",
   "metadata": {},
   "outputs": [],
   "source": [
    "# Esempio con oggetti mutabili: le liste\n",
    "lista1 = [1, 2, 3]\n",
    "lista2 = lista1  # lista2 fa riferimento allo stesso oggetto di lista1\n",
    "\n",
    "print(\"Iniziale lista1:\", lista1, \"ID:\", id(lista1))\n",
    "print(\"Iniziale lista2:\", lista2, \"ID:\", id(lista2))\n",
    "\n",
    "# Modifica in-place della lista\n",
    "lista1.append(4) # Aggiungo un elemento alla lista1\n",
    "print(\"\\nDopo append su lista1:\")\n",
    "print(\"lista1:\", lista1, \"ID:\", id(lista1))\n",
    "print(\"lista2:\", lista2, \"ID:\", id(lista2))\n",
    "\n",
    "# Riassegnazione completa: crea un nuovo oggetto lista\n",
    "lista1 = lista1 + [5] # Eseguo un riassegnamento completo sulla lista1\n",
    "print(\"\\nDopo riassegnazione di lista1:\")\n",
    "print(\"lista1:\", lista1, \"ID:\", id(lista1))\n",
    "print(\"lista2 (non cambia):\", lista2, \"ID:\", id(lista2))"
   ]
  },
  {
   "cell_type": "markdown",
   "id": "cc486f78",
   "metadata": {},
   "source": [
    "## Garbage Collection in Python\n",
    "\n",
    "Il **garbage collection** (GC) è un meccanismo automatico di Python che libera la memoria occupata dagli oggetti che non sono più referenziati da nessuna variabile. \n",
    "\n",
    "Quando una variabile viene riassegnata o eliminata, e non esistono altri riferimenti a quell'oggetto, l'oggetto diventa inutilizzato e il garbage collector interviene per liberare la memoria. Questo meccanismo aiuta a gestire in modo efficiente le risorse di sistema senza l'intervento manuale del programmatore."
   ]
  },
  {
   "cell_type": "markdown",
   "id": "de969b0c",
   "metadata": {},
   "source": [
    "## Codice di Prova per Sperimentare\n",
    "\n",
    "Provare a eseguire il seguente codice per osservare come funzionano i riferimenti e la riassegnazione. Successivamente, modifica il codice per sperimentare ulteriormente e commenta il comportamento osservato."
   ]
  },
  {
   "cell_type": "code",
   "execution_count": null,
   "id": "f509816b",
   "metadata": {},
   "outputs": [],
   "source": [
    "# Codice di prova: riferimenti e riassegnazione\n",
    "\n",
    "# 1. Assegnazione e verifica dei riferimenti con oggetti immutabili\n",
    "x = 50\n",
    "y = x\n",
    "print(\"x =\", x, \"ID:\", id(x))\n",
    "print(\"y =\", y, \"ID:\", id(y))\n",
    "\n",
    "# 2. Riassegnazione di x: viene creato un nuovo oggetto\n",
    "x = 75\n",
    "print(\"\\nDopo riassegnazione di x:\")\n",
    "print(\"x =\", x, \"ID:\", id(x))\n",
    "print(\"y =\", y, \"ID:\", id(y))\n",
    "\n",
    "# 3. Assegnazione e modifica con oggetti mutabili (liste)\n",
    "lista_a = [10, 20, 30]\n",
    "lista_b = lista_a\n",
    "print(\"\\nLista iniziale:\")\n",
    "print(\"lista_a:\", lista_a, \"ID:\", id(lista_a))\n",
    "print(\"lista_b:\", lista_b, \"ID:\", id(lista_b))\n",
    "\n",
    "# Modifica in-place della lista tramite lista_b\n",
    "lista_b.append(40)\n",
    "print(\"\\nDopo append su lista_b:\")\n",
    "print(\"lista_a:\", lista_a, \"ID:\", id(lista_a))\n",
    "print(\"lista_b:\", lista_b, \"ID:\", id(lista_b))\n",
    "\n",
    "# 4. Riassegnazione completa di lista_a\n",
    "lista_a = [100, 200]\n",
    "print(\"\\nDopo riassegnazione di lista_a:\")\n",
    "print(\"lista_a:\", lista_a, \"ID:\", id(lista_a))\n",
    "print(\"lista_b (rimane invariata):\", lista_b, \"ID:\", id(lista_b))\n",
    "\n",
    "# Commenta il comportamento osservato e sperimenta ulteriormente!"
   ]
  },
  {
   "cell_type": "markdown",
   "id": "7b7c33d4",
   "metadata": {},
   "source": [
    "## Riassunto dei concetti essenziali della lezione\n",
    "\n",
    "**Riferimento**: È l’indirizzo in memoria dove un oggetto è archiviato.\n",
    "\n",
    "**Variabili in Python**: Contengono riferimenti, non i dati direttamente.\n",
    "\n",
    "**Riassegnazione**: Per oggetti immutabili, la riassegnazione crea un nuovo oggetto; per oggetti mutabili, modifiche in-place si riflettono in tutte le variabili che li referenziano.\n",
    "\n",
    "**Garbage Collection**: Python libera automaticamente la memoria degli oggetti non più referenziati."
   ]
  }
 ],
 "metadata": {
  "kernelspec": {
   "display_name": "Python 3",
   "language": "python",
   "name": "python3"
  },
  "language_info": {
   "codemirror_mode": {
    "name": "ipython",
    "version": 3
   },
   "file_extension": ".py",
   "mimetype": "text/x-python",
   "name": "python",
   "nbconvert_exporter": "python",
   "pygments_lexer": "ipython3",
   "version": "3.12.0"
  }
 },
 "nbformat": 4,
 "nbformat_minor": 5
}
